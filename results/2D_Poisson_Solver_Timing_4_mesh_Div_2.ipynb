{
 "cells": [
  {
   "cell_type": "markdown",
   "metadata": {},
   "source": [
    "# Timing results for 2D Pressure Poisson Solver\n",
    "These are the results for the different methods of solving this matrix on a 4 level mesh with the divide 2 option."
   ]
  },
  {
   "cell_type": "code",
   "execution_count": null,
   "metadata": {
    "collapsed": true
   },
   "outputs": [],
   "source": [
    "%matplotlib inline\n",
    "import numpy as np\n",
    "import pandas as pd\n",
    "import matplotlib.pyplot as plt\n",
    "from IPython.display import display, HTML\n",
    "import seaborn as sns\n",
    "cm = sns.light_palette(\"green\", as_cmap=True)"
   ]
  },
  {
   "cell_type": "markdown",
   "metadata": {},
   "source": [
    "# Full Matrix with Hypre (1)\n",
    "This section is the timing results for solving the full matrix using Hypre. This matrix has 2,129,920 degrees of freedom."
   ]
  },
  {
   "cell_type": "code",
   "execution_count": null,
   "metadata": {},
   "outputs": [],
   "source": [
    "DOF = 2129920\n",
    "Petsc_Hypre_Full_Cores = np.array([1,2,4,8,16,32,64])\n",
    "Petsc_Hypre_Full_Iterations = np.array([25,24,24,24,23,24,24])\n",
    "Petsc_Hypre_Full_Residual = np.array([7.7959970105686e-11,3.7698395250881e-11,4.6445688201149e-11,9.0298349451787e-11,\n",
    "                                     7.8125285574285e-11,8.8175567594805e-11,2.9253011119871e-11])\n",
    "Petsc_Hypre_Full_Error = np.array([9.2304660443222e-04,9.2304660439089e-04,9.2304660437377e-04,9.0298349451787e-11,\n",
    "                                  9.2304660461603e-04,9.2304660463712e-04,9.2304660489770e-04])\n",
    "Petsc_Hypre_Full_Domain = np.array([0.5771762146,0.3227674969,0.1651092233,0.0904486713,0.0527356856,0.052443451,\n",
    "                                   0.0381672983])\n",
    "Petsc_Hypre_Full_Matrix = np.array([0.7878353477,0.5208099744,0.2800362866,0.1512065142,0.0864476525,0.0514293829,\n",
    "                                   0.0353743028])\n",
    "Petsc_Hypre_Full_Petsc = np.array([2.5363367318,27.8735060668,14.1987835682,5.2306352596,1.7774178884,0.6992671084,\n",
    "                                  0.5350252831])\n",
    "Petsc_Hypre_Full_LSS = np.array([3.3241811173,28.3943279512,14.4788363321,5.3818625687,1.8638884793,0.7507591284,\n",
    "                                0.5704725933])\n",
    "Petsc_Hypre_Full_LinS = np.array([16.0624597243,10.7205219595,8.4254460076,8.1471176039,7.8381800788,5.901440664,\n",
    "                                 5.7809692144])\n",
    "Petsc_Hypre_Full_CS = np.array([16.0624642228,10.7205349951,8.4255548989,8.153320034,7.8385614164,5.9095084751,\n",
    "                               5.7848270771])\n",
    "Petsc_Hypre_Full_DegF = (DOF)/Petsc_Hypre_Full_CS/Petsc_Hypre_Full_Cores\n",
    "Petsc_Hypre_Full_Eff = Petsc_Hypre_Full_CS[0]/(Petsc_Hypre_Full_CS*Petsc_Hypre_Full_Cores)\n",
    "\n",
    "d = {\"Cores\": Petsc_Hypre_Full_Cores,\"Iterations\": Petsc_Hypre_Full_Iterations,\"Residual\": Petsc_Hypre_Full_Residual,\n",
    "    \"Error\": Petsc_Hypre_Full_Error,\"Domain Initialization\": Petsc_Hypre_Full_Domain,\"Matrix Formation\": Petsc_Hypre_Full_Matrix,\n",
    "    \"Hypre Setup\": Petsc_Hypre_Full_Petsc,\"Linear System Setup\": Petsc_Hypre_Full_LSS,\"Linear Solve\": Petsc_Hypre_Full_LinS,\n",
    "    \"Complete Solve\": Petsc_Hypre_Full_CS,\"Efficiency\": Petsc_Hypre_Full_Eff,\"Degrees of Freedom Per Time Per Core\": Petsc_Hypre_Full_DegF}\n",
    "df1 =  pd.DataFrame(data = d)\n",
    "df1 = df1[[\"Cores\",\"Iterations\",\"Residual\",\"Error\",\"Domain Initialization\",\"Matrix Formation\",\"Hypre Setup\",\n",
    "         \"Linear System Setup\",\"Linear Solve\",\"Complete Solve\",\"Efficiency\",\"Degrees of Freedom Per Time Per Core\"]]\n",
    "nform = {\"Error\" : \"{:6.2e}\".format, \"Residual\" : \"{:6.2e}\".format}\n",
    "\n",
    "df1.style.set_caption(\"Degrees of freedom {:,}\".format(DOF)).background_gradient(cmap=cm).format(nform)\n",
    "# display(HTML(df1.to_html(index=False)))"
   ]
  },
  {
   "cell_type": "code",
   "execution_count": null,
   "metadata": {},
   "outputs": [],
   "source": [
    "x = Petsc_Hypre_Full_Cores\n",
    "y = Petsc_Hypre_Full_CS\n",
    "\n",
    "\n",
    "plt.plot(x,y,\"bo-\",label=\"Hypre (Full matrix)\")\n",
    "plt.yscale(\"log\")\n",
    "plt.xscale(\"log\")\n",
    "plt.ylabel(\"Complete Solve Time (s)\")\n",
    "plt.xlabel(\"Number of Cores\")\n",
    "plt.title(\"Full Matrix with 4 level mesh using Hypre\")\n",
    "\n",
    "c = np.polyfit(np.log(x),np.log(y),1)\n",
    "#  c = np.polyfit(np.log(x[:-2]),np.log(y[-2]),1)\n",
    "#  Take out points for slope\n",
    "\n",
    "s = \"Best-fit (slope = {:6.2f})\".format(c[0])\n",
    "plt.loglog(x,np.exp(np.polyval(c,np.log(x))),'k--',label=s)\n",
    "\n",
    "ct = np.array([-1,c[1]])\n",
    "plt.loglog(x,np.exp(np.polyval(ct,np.log(x))),'.-',label=\"Theoretical\",color='k',markersize=10)\n",
    "\n",
    "\n",
    "plt.legend()\n",
    "plt.show"
   ]
  },
  {
   "cell_type": "code",
   "execution_count": null,
   "metadata": {},
   "outputs": [],
   "source": [
    "plt.plot(Petsc_Hypre_Full_Cores,Petsc_Hypre_Full_DegF,\"ro-\",label=\"Full\")\n",
    "plt.ylabel(\"Degrees of Freedom Per Time Per Core\")\n",
    "plt.xlabel(\"Number of Cores\")\n",
    "plt.title(\"Full Matrix with 4 level mesh using Hypre\")\n",
    "plt.legend()"
   ]
  },
  {
   "cell_type": "markdown",
   "metadata": {},
   "source": [
    "# Full Matrix with AMGX (2)\n",
    "This section is the timing results for solving the full matrix using AMGX. This matrix has 2,129,920 degrees of freedom."
   ]
  },
  {
   "cell_type": "code",
   "execution_count": null,
   "metadata": {},
   "outputs": [],
   "source": [
    "DOF = 2129920\n",
    "Petsc_AMGX_Full_Cores = np.array([1,2,4,8])\n",
    "Petsc_AMGX_Full_Iterations = np.array([39,37,38,65])\n",
    "Petsc_AMGX_Full_Residual = np.array([5.8251507857323e-11,5.9432372630946e-12,5.4902317909355e-12,6.7366153106333e-12])\n",
    "Petsc_AMGX_Full_Error = np.array([9.2304660445096e-04,9.2304660471372e-04,9.2304660453712e-04,9.2304660476448e-04])\n",
    "Petsc_AMGX_Full_Domain = np.array([0.5903979252,0.3186255926,0.1628198647,0.0815449427])\n",
    "Petsc_AMGX_Full_Matrix = np.array([0.8642156914,0.5233281249,0.2647758999,0.1360955876])\n",
    "Petsc_AMGX_Full_AMGX = np.array([1.1430887716,2.2335680514,2.0293313354,1.6677904826])\n",
    "Petsc_AMGX_Full_LSS = np.array([2.0073132098,2.7569079597,2.2941298202,1.803915502])\n",
    "Petsc_AMGX_Full_LinS = np.array([1.462938244,1.1574490177,0.8998026873,1.2936377062])\n",
    "Petsc_AMGX_Full_CS = np.array([1.4629419528,1.1574543659,0.8998145702,1.2936539742])\n",
    "Petsc_AMGX_Full_DegF = (DOF)/Petsc_AMGX_Full_CS/Petsc_AMGX_Full_Cores\n",
    "Petsc_AMGX_Full_Eff = Petsc_AMGX_Full_CS[0]/(Petsc_AMGX_Full_CS*Petsc_AMGX_Full_Cores)\n",
    "\n",
    "d = {\"Cores\": Petsc_AMGX_Full_Cores,\"Iterations\": Petsc_AMGX_Full_Iterations,\"Residual\": Petsc_AMGX_Full_Residual,\n",
    "    \"Error\": Petsc_AMGX_Full_Error,\"Domain Initialization\": Petsc_AMGX_Full_Domain,\"Matrix Formation\": Petsc_AMGX_Full_Matrix,\n",
    "    \"AMGX Setup\": Petsc_AMGX_Full_AMGX,\"Linear System Setup\": Petsc_AMGX_Full_LSS,\"Linear Solve\": Petsc_AMGX_Full_LinS,\n",
    "    \"Complete Solve\": Petsc_AMGX_Full_CS,\"Efficiency\": Petsc_AMGX_Full_Eff,\"Degrees of Freedom Per Time Per Core\": Petsc_AMGX_Full_DegF}\n",
    "df2 =  pd.DataFrame(data = d)\n",
    "df2 = df2[[\"Cores\",\"Iterations\",\"Residual\",\"Error\",\"Domain Initialization\",\"Matrix Formation\",\"AMGX Setup\",\n",
    "         \"Linear System Setup\",\"Linear Solve\",\"Complete Solve\",\"Efficiency\",\"Degrees of Freedom Per Time Per Core\"]]\n",
    "nform = {\"Error\" : \"{:6.2e}\".format, \"Residual\" : \"{:6.2e}\".format}\n",
    "\n",
    "df2.style.set_caption(\"Degrees of freedom {:,}\".format(DOF)).background_gradient(cmap=cm).format(nform)\n",
    "# display(HTML(df1.to_html(index=False)))"
   ]
  },
  {
   "cell_type": "code",
   "execution_count": null,
   "metadata": {},
   "outputs": [],
   "source": [
    "x = Petsc_AMGX_Full_Cores\n",
    "y = Petsc_AMGX_Full_CS\n",
    "\n",
    "\n",
    "plt.plot(x,y,\"bo-\",label=\"AMGX (Full matrix)\")\n",
    "plt.yscale(\"log\")\n",
    "plt.xscale(\"log\")\n",
    "plt.ylabel(\"Complete Solve Time (s)\")\n",
    "plt.xlabel(\"Number of Cores\")\n",
    "plt.title(\"Full Matrix with 4 level mesh using AMGX\")\n",
    "\n",
    "c = np.polyfit(np.log(x),np.log(y),1)\n",
    "#  c = np.polyfit(np.log(x[:-2]),np.log(y[-2]),1)\n",
    "#  Take out points for slope\n",
    "\n",
    "s = \"Best-fit (slope = {:6.2f})\".format(c[0])\n",
    "plt.loglog(x,np.exp(np.polyval(c,np.log(x))),'k--',label=s)\n",
    "\n",
    "ct = np.array([-1,c[1]])\n",
    "plt.loglog(x,np.exp(np.polyval(ct,np.log(x))),'.-',label=\"Theoretical\",color='k',markersize=10)\n",
    "\n",
    "\n",
    "plt.legend()\n",
    "plt.show"
   ]
  },
  {
   "cell_type": "code",
   "execution_count": null,
   "metadata": {},
   "outputs": [],
   "source": [
    "plt.plot(Petsc_AMGX_Full_Cores,Petsc_AMGX_Full_DegF,\"ro-\",label=\"Full\")\n",
    "plt.ylabel(\"Degrees of Freedom Per Time Per Core\")\n",
    "plt.xlabel(\"Number of Cores\")\n",
    "plt.title(\"Full Matrix with 4 level mesh using AMGX\")\n",
    "plt.legend()"
   ]
  },
  {
   "cell_type": "markdown",
   "metadata": {},
   "source": [
    "# Schur Matrix with Hypre (3)\n",
    "This section is the timing results for solving the schur matrix using Hypre. This matrix has 2,129,920 degrees of freedom."
   ]
  },
  {
   "cell_type": "code",
   "execution_count": null,
   "metadata": {},
   "outputs": [],
   "source": [
    "DOF = 2129920\n",
    "Petsc_Hypre_Schur_Cores = np.array([1,2,4,8,16,32,64])\n",
    "Petsc_Hypre_Schur_Iterations = np.array([15,16,15,15,15,15,15])\n",
    "Petsc_Hypre_Schur_Residual = np.array([1.4921383876826e-11,1.7220707735628e-11,1.4581840990874e-11,1.5825807654468e-11,\n",
    "                                      1.6702296611205e-11,1.3552860002989e-11,1.3209191840070e-11])\n",
    "Petsc_Hypre_Schur_Error = np.array([9.2304660338315e-04,9.2304660440241e-04,9.2304660380692e-04,9.2304660390208e-04,\n",
    "                                   9.2304660497885e-04,9.2304660452603e-04,9.2304660427317e-04])\n",
    "Petsc_Hypre_Schur_Domain = np.array([0.5760825519,0.3183954835,0.1626387854,0.0870258676,0.0464655059,0.0241027643,\n",
    "                                    0.0130447396])\n",
    "Petsc_Hypre_Schur_Matrix = np.array([1.2923972976,0.6724024935,0.3957461371,0.2491670264,0.1601606103,0.0911872781,\n",
    "                                     0.0480356934])\n",
    "Petsc_Hypre_Schur_Petsc = np.array([1.2439340614,0.743642809,0.4749248756,0.3160935496,0.2168506626,0.1442224058,\n",
    "                                   0.1274887984])\n",
    "Petsc_Hypre_Schur_LSS = np.array([2.5363416905,1.4160582366,0.8706880539,0.5652815754,0.3770350551,0.2354591543,\n",
    "                                 0.1755852286])\n",
    "Petsc_Hypre_Schur_LinS = np.array([6.3049499966,3.9294155822,3.4292208332,3.8394493443,0.9232984641,0.4772214199,\n",
    "                                  0.3042294933])\n",
    "Petsc_Hypre_Schur_PatS = np.array([0.0654250609,0.0362876569,0.0593896497,0.0491331545,0.0050379279,0.002635037,\n",
    "                                  0.0015443831])\n",
    "Petsc_Hypre_Schur_CS = np.array([6.3703831963,3.9657228067,3.4886692446,3.8905896156,0.9283604692,0.4799156356,\n",
    "                                0.3058381772])\n",
    "Petsc_Hypre_Schur_DegF = (2129920)/Petsc_Hypre_Schur_CS/Petsc_Hypre_Schur_Cores\n",
    "Petsc_Hypre_Schur_Eff = Petsc_Hypre_Schur_CS[0]/(Petsc_Hypre_Schur_CS*Petsc_Hypre_Schur_Cores)\n",
    "\n",
    "d = {\"Cores\": Petsc_Hypre_Schur_Cores,\"Iterations\": Petsc_Hypre_Schur_Iterations,\"Residual\": Petsc_Hypre_Schur_Residual,\n",
    "    \"Error\": Petsc_Hypre_Schur_Error,\"Domain Initialization\": Petsc_Hypre_Schur_Domain,\"Matrix Formation\": Petsc_Hypre_Schur_Matrix,\n",
    "    \"Hypre Setup\": Petsc_Hypre_Schur_Petsc,\"Linear System Setup\": Petsc_Hypre_Schur_LSS,\"Linear Solve\": Petsc_Hypre_Schur_LinS,\n",
    "    \"Patch Solve\": Petsc_Hypre_Schur_PatS,\"Complete Solve\": Petsc_Hypre_Schur_CS,\"Efficiency\": Petsc_Hypre_Schur_Eff,\n",
    "     \"Degrees of Freedom Per Time Per Core\": Petsc_Hypre_Schur_DegF}\n",
    "df3 =  pd.DataFrame(data = d)\n",
    "df3 = df3[[\"Cores\",\"Iterations\",\"Residual\",\"Error\",\"Domain Initialization\",\"Matrix Formation\",\"Hypre Setup\",\n",
    "         \"Linear System Setup\",\"Linear Solve\",\"Patch Solve\",\"Complete Solve\",\"Efficiency\",\"Degrees of Freedom Per Time Per Core\"]]\n",
    "nform = {\"Error\" : \"{:6.2e}\".format, \"Residual\" : \"{:6.2e}\".format}\n",
    "\n",
    "df3.style.set_caption(\"Degrees of freedom {:,}\".format(DOF)).background_gradient(cmap=cm).format(nform)\n",
    "# display(HTML(df1.to_html(index=False)))"
   ]
  },
  {
   "cell_type": "code",
   "execution_count": null,
   "metadata": {},
   "outputs": [],
   "source": [
    "x = Petsc_Hypre_Schur_Cores\n",
    "y = Petsc_Hypre_Schur_CS\n",
    "\n",
    "\n",
    "plt.plot(x,y,\"bo-\",label=\"Hypre (Schur matrix)\")\n",
    "plt.yscale(\"log\")\n",
    "plt.xscale(\"log\")\n",
    "plt.ylabel(\"Complete Solve Time (s)\")\n",
    "plt.xlabel(\"Number of Cores\")\n",
    "plt.title(\"Schur Matrix with 4 level mesh using Hypre\")\n",
    "\n",
    "c = np.polyfit(np.log(x),np.log(y),1)\n",
    "#  c = np.polyfit(np.log(x[:-2]),np.log(y[-2]),1)\n",
    "#  Take out points for slope\n",
    "\n",
    "s = \"Best-fit (slope = {:6.2f})\".format(c[0])\n",
    "plt.loglog(x,np.exp(np.polyval(c,np.log(x))),'k--',label=s)\n",
    "\n",
    "ct = np.array([-1,c[1]])\n",
    "plt.loglog(x,np.exp(np.polyval(ct,np.log(x))),'.-',label=\"Theoretical\",color='k',markersize=10)\n",
    "\n",
    "\n",
    "plt.legend()\n",
    "plt.show"
   ]
  },
  {
   "cell_type": "code",
   "execution_count": null,
   "metadata": {},
   "outputs": [],
   "source": [
    "plt.plot(Petsc_Hypre_Schur_Cores,Petsc_Hypre_Schur_DegF,\"ro-\",label=\"Full\")\n",
    "plt.ylabel(\"Degrees of Freedom Per Time Per Core\")\n",
    "plt.xlabel(\"Number of Cores\")\n",
    "plt.title(\"Schur Matrix with 4 level mesh using Hypre\")\n",
    "plt.legend()"
   ]
  },
  {
   "cell_type": "markdown",
   "metadata": {},
   "source": [
    "# Schur Matrix with AMGX (4)\n",
    "This section is the timing results for solving the schur matrix using AMGX. This matrix has 2,129,920 degrees of freedom."
   ]
  },
  {
   "cell_type": "code",
   "execution_count": null,
   "metadata": {},
   "outputs": [],
   "source": [
    "DOF = 2129920\n",
    "Petsc_AMGX_Schur_Cores = np.array([1,2,4,8])\n",
    "Petsc_AMGX_Schur_Iterations = np.array([17,17,22,23])\n",
    "Petsc_AMGX_Schur_Residual = np.array([1.3695817646415e-11,1.3548303935857e-11,1.8316663826715e-11,1.7930090921489e-11])\n",
    "Petsc_AMGX_Schur_Error = np.array([9.2304660344892e-04,9.2304660472995e-04,9.2304659469577e-04,9.2304660479051e-04])\n",
    "Petsc_AMGX_Schur_Domain = np.array([0.5855890301,0.3206256908,0.1588446304,0.0792485065])\n",
    "Petsc_AMGX_Schur_Matrix = np.array([1.4475454043,0.7005159386,0.3667015114,0.2538813382])\n",
    "Petsc_AMGX_Schur_AMGX = np.array([1.5284000524,0.8723155789,0.623428325,0.8332132946])\n",
    "Petsc_AMGX_Schur_LSS = np.array([2.975953922,1.5728427425,0.9901511835,1.0871343354])\n",
    "Petsc_AMGX_Schur_LinS = np.array([0.3923422311,0.3040044664,0.2743465336,0.2876472744])\n",
    "Petsc_AMGX_Schur_PS = np.array([0.0601743763,0.033307604,0.0168305067,0.0098936041])\n",
    "Petsc_AMGX_Schur_CS = np.array([0.4525222653,0.3373205181,0.2911922364,0.2975672569])\n",
    "Petsc_AMGX_Schur_DegF = (DOF)/Petsc_AMGX_Schur_CS/Petsc_AMGX_Schur_Cores\n",
    "Petsc_AMGX_Schur_Eff = np.array(np.ones(len(Petsc_AMGX_Schur_Cores))*Petsc_AMGX_Schur_CS[0]/(Petsc_AMGX_Schur_CS*Petsc_AMGX_Schur_Cores))\n",
    "\n",
    "d = {\"Cores\": Petsc_AMGX_Schur_Cores,\"Iterations\": Petsc_AMGX_Schur_Iterations,\"Residual\": Petsc_AMGX_Schur_Residual,\n",
    "    \"Error\": Petsc_AMGX_Schur_Error,\"Domain Initialization\": Petsc_AMGX_Schur_Domain,\"Matrix Formation\": Petsc_AMGX_Schur_Matrix,\n",
    "    \"AMGX Setup\": Petsc_AMGX_Schur_AMGX,\"Linear System Setup\": Petsc_AMGX_Schur_LSS,\"Linear Solve\": Petsc_AMGX_Schur_LinS,\n",
    "    \"Patch Solve\": Petsc_AMGX_Schur_PS,\"Complete Solve\": Petsc_AMGX_Schur_CS,\"Efficiency\": Petsc_AMGX_Schur_Eff,\n",
    "    \"Degrees of Freedom Per Time Per Core\": Petsc_AMGX_Schur_DegF}\n",
    "df4 =  pd.DataFrame(data = d)\n",
    "df4 = df4[[\"Cores\",\"Iterations\",\"Residual\",\"Error\",\"Domain Initialization\",\"Matrix Formation\",\"AMGX Setup\",\n",
    "         \"Linear System Setup\",\"Linear Solve\",\"Patch Solve\",\"Complete Solve\",\"Efficiency\",\"Degrees of Freedom Per Time Per Core\"]]\n",
    "nform = {\"Error\" : \"{:6.2e}\".format, \"Residual\" : \"{:6.2e}\".format}\n",
    "\n",
    "df4.style.set_caption(\"Degrees of freedom {:,}\".format(DOF)).background_gradient(cmap=cm).format(nform)\n",
    "# display(HTML(df1.to_html(index=False)))"
   ]
  },
  {
   "cell_type": "code",
   "execution_count": null,
   "metadata": {},
   "outputs": [],
   "source": [
    "x = Petsc_AMGX_Schur_Cores\n",
    "y = Petsc_AMGX_Schur_CS\n",
    "\n",
    "\n",
    "plt.plot(x,y,\"bo-\",label=\"AMGX (Schur matrix)\")\n",
    "plt.yscale(\"log\")\n",
    "plt.xscale(\"log\")\n",
    "plt.ylabel(\"Complete Solve Time (s)\")\n",
    "plt.xlabel(\"Number of Cores\")\n",
    "plt.title(\"Schur Matrix with 4 level mesh using AMGX\")\n",
    "\n",
    "c = np.polyfit(np.log(x),np.log(y),1)\n",
    "#  c = np.polyfit(np.log(x[:-2]),np.log(y[-2]),1)\n",
    "#  Take out points for slope\n",
    "\n",
    "s = \"Best-fit (slope = {:6.2f})\".format(c[0])\n",
    "plt.loglog(x,np.exp(np.polyval(c,np.log(x))),'k--',label=s)\n",
    "\n",
    "ct = np.array([-1,c[1]])\n",
    "plt.loglog(x,np.exp(np.polyval(ct,np.log(x))),'.-',label=\"Theoretical\",color='k',markersize=10)\n",
    "\n",
    "\n",
    "plt.legend()\n",
    "plt.show"
   ]
  },
  {
   "cell_type": "code",
   "execution_count": null,
   "metadata": {},
   "outputs": [],
   "source": [
    "plt.plot(Petsc_AMGX_Schur_Cores,Petsc_AMGX_Schur_DegF,\"ro-\",label=\"Full\")\n",
    "plt.ylabel(\"Degrees of Freedom Per Time Per Core\")\n",
    "plt.xlabel(\"Number of Cores\")\n",
    "plt.title(\"Schur Matrix with 4 level mesh using AMGX\")\n",
    "plt.legend()"
   ]
  },
  {
   "cell_type": "markdown",
   "metadata": {},
   "source": [
    "# Comparison of Full vs Schur solve\n",
    "First comparison is for Hypre, second for AMGX."
   ]
  },
  {
   "cell_type": "code",
   "execution_count": null,
   "metadata": {},
   "outputs": [],
   "source": [
    "xf = Petsc_Hypre_Full_Cores\n",
    "yf = Petsc_Hypre_Full_CS\n",
    "xs = Petsc_Hypre_Schur_Cores\n",
    "ys = Petsc_Hypre_Schur_CS\n",
    "\n",
    "\n",
    "plt.plot(xf,yf,\"ro-\",label=\"Hypre (Full matrix)\")\n",
    "plt.plot(xs,ys,\"bo-\",label=\"Hypre (Schur matrix)\")\n",
    "plt.yscale(\"log\")\n",
    "plt.xscale(\"log\")\n",
    "plt.ylabel(\"Complete Solve Time (s)\")\n",
    "plt.xlabel(\"Number of Cores\")\n",
    "plt.title(\"Schur vs Full Matrix with 4 level mesh using Hypre\")\n",
    "\n",
    "cf = np.polyfit(np.log(xf),np.log(yf),1)\n",
    "cs = np.polyfit(np.log(xs),np.log(ys),1)\n",
    "#  c = np.polyfit(np.log(x[:-2]),np.log(y[-2]),1)\n",
    "#  Take out points for slope\n",
    "\n",
    "sf = \"Best-fit (slope = {:6.2f})\".format(cf[0])\n",
    "ss = \"Best-fit (slope = {:6.2f})\".format(cs[0])\n",
    "plt.loglog(xf,np.exp(np.polyval(cf,np.log(xf))),'k--',label=sf)\n",
    "plt.loglog(xs,np.exp(np.polyval(cs,np.log(xs))),'k--',label=ss)\n",
    "\n",
    "\n",
    "plt.legend()\n",
    "plt.show"
   ]
  },
  {
   "cell_type": "code",
   "execution_count": null,
   "metadata": {},
   "outputs": [],
   "source": [
    "xf = Petsc_AMGX_Full_Cores\n",
    "yf = Petsc_AMGX_Full_CS\n",
    "xs = Petsc_AMGX_Schur_Cores\n",
    "ys = Petsc_AMGX_Schur_CS\n",
    "\n",
    "\n",
    "plt.plot(xf,yf,\"ro-\",label=\"AMGX (Full matrix)\")\n",
    "plt.plot(xs,ys,\"bo-\",label=\"AMGX (Schur matrix)\")\n",
    "plt.yscale(\"log\")\n",
    "plt.xscale(\"log\")\n",
    "plt.ylabel(\"Complete Solve Time (s)\")\n",
    "plt.xlabel(\"Number of Cores\")\n",
    "plt.title(\"Schur vs Full Matrix with 4 level mesh using AMGX\")\n",
    "\n",
    "cf = np.polyfit(np.log(xf),np.log(yf),1)\n",
    "cs = np.polyfit(np.log(xs),np.log(ys),1)\n",
    "#  c = np.polyfit(np.log(x[:-2]),np.log(y[-2]),1)\n",
    "#  Take out points for slope\n",
    "\n",
    "sf = \"Best-fit (slope = {:6.2f})\".format(cf[0])\n",
    "ss = \"Best-fit (slope = {:6.2f})\".format(cs[0])\n",
    "plt.loglog(xf,np.exp(np.polyval(cf,np.log(xf))),'k--',label=sf)\n",
    "plt.loglog(xs,np.exp(np.polyval(cs,np.log(xs))),'k--',label=ss)\n",
    "\n",
    "\n",
    "plt.legend()\n",
    "plt.show"
   ]
  },
  {
   "cell_type": "code",
   "execution_count": null,
   "metadata": {
    "collapsed": true
   },
   "outputs": [],
   "source": []
  }
 ],
 "metadata": {
  "kernelspec": {
   "display_name": "Python 3",
   "language": "python",
   "name": "python3"
  },
  "language_info": {
   "codemirror_mode": {
    "name": "ipython",
    "version": 3
   },
   "file_extension": ".py",
   "mimetype": "text/x-python",
   "name": "python",
   "nbconvert_exporter": "python",
   "pygments_lexer": "ipython3",
   "version": "3.6.3"
  }
 },
 "nbformat": 4,
 "nbformat_minor": 2
}
