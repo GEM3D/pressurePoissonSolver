{
 "cells": [
  {
   "cell_type": "code",
   "execution_count": null,
   "metadata": {},
   "outputs": [],
   "source": [
    "%matplotlib notebook"
   ]
  },
  {
   "cell_type": "code",
   "execution_count": null,
   "metadata": {},
   "outputs": [],
   "source": [
    "import numpy as np\n",
    "import pandas as pd"
   ]
  },
  {
   "cell_type": "markdown",
   "metadata": {},
   "source": [
    "<hr style=\"border-width:3px; border-color:coral\"/>\n",
    "# Timing results for pressure Poisson solver\n",
    "<hr style=\"border-width:3px; border-color:coral\"/>\n",
    "\n",
    "\n",
    "Two solver types are reported. In the full matrix system, the discretized system $A\\mathbf x = \\mathbf b$ is solved. In the Schur complement system, a linear system for the interface values is solved, and a fast FFT-based solver is used for patch solves.  In either the Full or the Schur approaches, GMRES is used as the basic solver (from HYPRE?) along with an an AMG pre-conditioner from HYPRE (BoomerAMG).\n",
    "\n",
    "Both simulations reported below are then\n",
    "* Full matrix with HYPRE used as the pre-conditioner for the full system. [Full matrix (HYPRE)](#fullhypre)\n",
    "* Schur matrix with HYPRE used as the pre-conditioner for the Schur complement system. [Schur matrix (HYPRE)](#schurhypre)\n",
    "\n",
    "We also include comparisions between HYPRE and the Schur matrix approach [here](#comparisons).\n",
    "<hr style=\"border-width:3px; border-color:coral\"/>"
   ]
  },
  {
   "cell_type": "markdown",
   "metadata": {},
   "source": [
    "## Read in spreadsheet data\n",
    "\n",
    "This is set up to read the \"div 2\" data.  To read data from other runs, change the four statements below from   \"(2)\" to \"(3)\" or \"(4)\".   \n",
    "\n",
    "**Note:** Data may not yet be available in the spreadsheet for these other cases. "
   ]
  },
  {
   "cell_type": "code",
   "execution_count": null,
   "metadata": {},
   "outputs": [],
   "source": [
    "%reload_ext autoreload\n",
    "%autoreload 2\n",
    "\n",
    "from results_output import *"
   ]
  },
  {
   "cell_type": "code",
   "execution_count": null,
   "metadata": {},
   "outputs": [],
   "source": [
    "timing_results = pd.read_excel(\"Timing_results.xlsx\",sheet_name=None)\n",
    "div_factor = 3\n",
    "df_full_hypre  = timing_results[\"full_hypre ({:d})\".format(div_factor)]\n",
    "df_schur_hypre = timing_results[\"schur_hypre ({:d})\".format(div_factor)]\n",
    "\n",
    "\n",
    "# For HYPRE results\n",
    "cols_setup_hypre = ['matrix_setup','hypre_setup']\n",
    "df_full_hypre['complete_setup'] = df_full_hypre[cols_setup_hypre].sum(axis=1)\n",
    "df_schur_hypre['complete_setup'] = df_schur_hypre[cols_setup_hypre].sum(axis=1)\n",
    "\n",
    "\n",
    "cols_solve_full =['linsolve']\n",
    "cols_solve_schur = ['linsolve','patch_solve']"
   ]
  },
  {
   "cell_type": "markdown",
   "metadata": {},
   "source": [
    "<a id='fullhypre'></a>\n",
    "<hr style=\"border-width:3px; border-color:coral\"/>\n",
    "# Full matrix (HYPRE) \n",
    "<hr style=\"border-width:3px; border-color:coral\"/>"
   ]
  },
  {
   "cell_type": "code",
   "execution_count": null,
   "metadata": {},
   "outputs": [],
   "source": [
    "import seaborn as sns\n",
    "cm = sns.light_palette(\"blue\", as_cmap=True)\n",
    "\n",
    "styler = print_table(df_full_hypre,display_table=False);\n",
    "\n",
    "# Apply gradient coloring;  use low=, high= to extend domain to [xmin-low*(xmax-xmin),xmax+high*(xmax-xmin)]; defaults=0\n",
    "styler.background_gradient(subset=['complete_solve','complete_setup'],cmap=cm,low=0,high=0.7)"
   ]
  },
  {
   "cell_type": "markdown",
   "metadata": {},
   "source": [
    "## Full matrix (HYPRE) : Setup"
   ]
  },
  {
   "cell_type": "code",
   "execution_count": null,
   "metadata": {},
   "outputs": [],
   "source": [
    "barh_plot(df_full_hypre,cols_setup_hypre)\n",
    "plt.title('Full matrix (setup)',fontsize=16);\n",
    "set_xticks(20,5)"
   ]
  },
  {
   "cell_type": "markdown",
   "metadata": {},
   "source": [
    "## Full matrix (HYPRE) : Solve"
   ]
  },
  {
   "cell_type": "code",
   "execution_count": null,
   "metadata": {},
   "outputs": [],
   "source": [
    "bar_plot(df_full_hypre,cols_solve_full)\n",
    "plt.title('Full solve (HYPRE)',fontsize=16);\n",
    "set_xticks(5,2.5)\n",
    "plt.xlim([0,20])\n",
    "plt.xlabel('Time (seconds)');"
   ]
  },
  {
   "cell_type": "markdown",
   "metadata": {},
   "source": [
    "## Full matrix (HYPRE) : Strong scaling"
   ]
  },
  {
   "cell_type": "code",
   "execution_count": null,
   "metadata": {},
   "outputs": [],
   "source": [
    "strong_scaling(df_full_hypre,field='complete_solve')\n",
    "plt.title('Full matrix (HYPRE) : Solve');"
   ]
  },
  {
   "cell_type": "markdown",
   "metadata": {},
   "source": [
    "## Full matrix (HYPRE) : Efficiency"
   ]
  },
  {
   "cell_type": "code",
   "execution_count": null,
   "metadata": {},
   "outputs": [],
   "source": [
    "efficiency(df_full_hypre,'complete_solve')"
   ]
  },
  {
   "cell_type": "markdown",
   "metadata": {},
   "source": [
    "<a id='schurhypre'></a>\n",
    "<hr style=\"border-width:3px; border-color:coral\"/>\n",
    "# Schur matrix (HYPRE) \n",
    "<hr style=\"border-width:3px; border-color:coral\"/>"
   ]
  },
  {
   "cell_type": "code",
   "execution_count": null,
   "metadata": {},
   "outputs": [],
   "source": [
    "styler = print_table(df_schur_hypre,display_table=False);\n",
    "\n",
    "# Apply gradient coloring;  use low=, high= to extend domain to [xmin-low*(xmax-xmin),xmax+high*(xmax-xmin)]; defaults=0\n",
    "styler.background_gradient(subset=['complete_solve','complete_setup'],cmap=cm,low=0,high=0.5)"
   ]
  },
  {
   "cell_type": "markdown",
   "metadata": {},
   "source": [
    "## Schur matrix (HYPRE) : Setup\n",
    "\n",
    "Use HYPRE to solve the Schur complement system"
   ]
  },
  {
   "cell_type": "code",
   "execution_count": null,
   "metadata": {},
   "outputs": [],
   "source": [
    "barh_plot(df_schur_hypre,cols_setup_hypre)\n",
    "plt.title('Schur matrix (HYPRE) : Setup',fontsize=16);\n",
    "set_xticks(2,1,fmt='{:.1f}'.format)\n",
    "plt.xlim([0,7.5]);"
   ]
  },
  {
   "cell_type": "markdown",
   "metadata": {},
   "source": [
    "## Schur matrix (HYPRE) : Strong scaling (setup)"
   ]
  },
  {
   "cell_type": "code",
   "execution_count": null,
   "metadata": {},
   "outputs": [],
   "source": [
    "strong_scaling(df_schur_hypre,field='complete_setup')\n",
    "plt.title('Schur matrix (HYPRE) : Strong scaling (setup)');"
   ]
  },
  {
   "cell_type": "markdown",
   "metadata": {},
   "source": [
    "## Schur matrix (HYPRE) : Setup"
   ]
  },
  {
   "cell_type": "code",
   "execution_count": null,
   "metadata": {},
   "outputs": [],
   "source": [
    "efficiency(df_schur_hypre,'complete_setup')\n",
    "plt.title('Schur matrix (HYPRE) : Efficiency (%)');"
   ]
  },
  {
   "cell_type": "markdown",
   "metadata": {},
   "source": [
    "## Schur matrix (HYPRE) : Solve"
   ]
  },
  {
   "cell_type": "code",
   "execution_count": null,
   "metadata": {},
   "outputs": [],
   "source": [
    "barh_plot(df_schur_hypre,cols_solve_schur)\n",
    "\n",
    "plt.title('Schur matrix (HYPRE) : solve',fontsize=16);\n",
    "set_xticks(2,1,fmt='{:.1f}'.format)\n",
    "\n",
    "plt.xlim([0,7.5]);"
   ]
  },
  {
   "cell_type": "markdown",
   "metadata": {},
   "source": [
    "## Schur matrix (HYPRE) : Strong scaling (solve)"
   ]
  },
  {
   "cell_type": "code",
   "execution_count": null,
   "metadata": {},
   "outputs": [],
   "source": [
    "strong_scaling(df_schur_hypre,field='complete_solve')\n",
    "plt.title('Schur matrix (HYPRE) : Strong scaling (solve)');"
   ]
  },
  {
   "cell_type": "markdown",
   "metadata": {},
   "source": [
    "## Schur matrix (HYPRE) : Setup vs solve time "
   ]
  },
  {
   "cell_type": "code",
   "execution_count": null,
   "metadata": {},
   "outputs": [],
   "source": [
    "bar_plot(df_schur_hypre,['complete_solve','complete_setup'])\n",
    "\n",
    "plt.xlim([0,7.5])\n",
    "plt.title('Schur matrix (HYPRE) : Setup vs. solve',fontsize=16);\n",
    "set_xticks(2,1)\n",
    "plt.grid(b=True,which='major')"
   ]
  },
  {
   "cell_type": "markdown",
   "metadata": {},
   "source": [
    "## Schur matrix (HYPRE) : Efficiency"
   ]
  },
  {
   "cell_type": "code",
   "execution_count": null,
   "metadata": {},
   "outputs": [],
   "source": [
    "efficiency(df_schur_hypre,'complete_solve')\n",
    "plt.title('Schur matrix (HYPRE) : Efficiency (solve)');"
   ]
  },
  {
   "cell_type": "markdown",
   "metadata": {},
   "source": [
    "<a id='comparisons'></a>\n",
    "<hr style=\"border-width:3px; border-color:coral\"/>\n",
    "# Comparisons between full and Schur systems\n",
    "<hr style=\"border-width:3px; border-color:coral\"/>"
   ]
  },
  {
   "cell_type": "code",
   "execution_count": null,
   "metadata": {},
   "outputs": [],
   "source": [
    "panel = pd.Panel({'Full (HYPRE)' : df_full_hypre, 'Schur (HYPRE)' : df_schur_hypre})\n",
    "procs = df_full_hypre['p']"
   ]
  },
  {
   "cell_type": "markdown",
   "metadata": {},
   "source": [
    "## Comparisons : Setup"
   ]
  },
  {
   "cell_type": "code",
   "execution_count": null,
   "metadata": {},
   "outputs": [],
   "source": [
    "df_setup = panel.minor_xs('complete_setup')\n",
    "df_setup.insert(0,'p',procs)\n",
    "df_setup"
   ]
  },
  {
   "cell_type": "code",
   "execution_count": null,
   "metadata": {},
   "outputs": [],
   "source": [
    "df_setup.plot(x='p',logx=True,logy=True,style='.-',markersize=10)\n",
    "plt.xlabel('p')\n",
    "plt.ylabel('Time (seconds)')\n",
    "plt.title('Setup time',fontsize=16);\n",
    "fix_xticks(df_setup['p'].values)"
   ]
  },
  {
   "cell_type": "code",
   "execution_count": null,
   "metadata": {},
   "outputs": [],
   "source": [
    "cols = ['Schur (HYPRE)', 'Full (HYPRE)']\n",
    "bar_plot(df_setup,cols=cols)\n",
    "plt.title(\"Timing (setup)\", fontsize=16);\n",
    "set_xticks(2,1)"
   ]
  },
  {
   "cell_type": "code",
   "execution_count": null,
   "metadata": {},
   "outputs": [],
   "source": [
    "cols = ['Schur (HYPRE)', 'Full (HYPRE)']\n",
    "bar_plot(df_setup,cols=cols)\n",
    "plt.title(\"Timing (setup)\", fontsize=16);"
   ]
  },
  {
   "cell_type": "markdown",
   "metadata": {},
   "source": [
    "## Comparisons : Solve"
   ]
  },
  {
   "cell_type": "code",
   "execution_count": null,
   "metadata": {},
   "outputs": [],
   "source": [
    "df_solve = panel.minor_xs('complete_solve')\n",
    "df_solve.insert(0,'p',procs)\n",
    "df_solve"
   ]
  },
  {
   "cell_type": "code",
   "execution_count": null,
   "metadata": {
    "scrolled": false
   },
   "outputs": [],
   "source": [
    "cols = ['p','Full (HYPRE)','Schur (HYPRE)']\n",
    "df_solve[cols].plot(x='p',logx=True,logy=False,style='.-',markersize=10)\n",
    "plt.xlabel('p')\n",
    "plt.ylabel('Time (seconds)')\n",
    "plt.title('Solve time (HYPRE)',fontsize=16);\n",
    "fix_xticks(df_solve['p'].values)"
   ]
  },
  {
   "cell_type": "code",
   "execution_count": null,
   "metadata": {},
   "outputs": [],
   "source": [
    "cols=['Full (HYPRE)','Schur (HYPRE)']\n",
    "bar_plot(df_solve,cols=cols)\n",
    "plt.title(\"Timing (solve)\", fontsize=16);\n",
    "set_xticks(5,2.5)"
   ]
  },
  {
   "cell_type": "code",
   "execution_count": null,
   "metadata": {},
   "outputs": [],
   "source": []
  }
 ],
 "metadata": {
  "kernelspec": {
   "display_name": "Python 3",
   "language": "python",
   "name": "python3"
  },
  "language_info": {
   "codemirror_mode": {
    "name": "ipython",
    "version": 3
   },
   "file_extension": ".py",
   "mimetype": "text/x-python",
   "name": "python",
   "nbconvert_exporter": "python",
   "pygments_lexer": "ipython3",
   "version": "3.6.4"
  }
 },
 "nbformat": 4,
 "nbformat_minor": 2
}
