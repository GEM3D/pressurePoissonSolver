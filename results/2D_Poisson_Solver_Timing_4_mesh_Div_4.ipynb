{
 "cells": [
  {
   "cell_type": "markdown",
   "metadata": {},
   "source": [
    "# Timing results for 2D Pressure Poisson Solver\n",
    "These are the results for the different methods of solving this matrix on a 4 level mesh with the divide 4 option and strong scaling."
   ]
  },
  {
   "cell_type": "code",
   "execution_count": null,
   "metadata": {
    "collapsed": true
   },
   "outputs": [],
   "source": [
    "%matplotlib inline\n",
    "import numpy as np\n",
    "import pandas as pd\n",
    "import matplotlib.pyplot as plt\n",
    "from IPython.display import display, HTML\n",
    "import seaborn as sns\n",
    "cm = sns.light_palette(\"green\", as_cmap=True)"
   ]
  },
  {
   "cell_type": "markdown",
   "metadata": {},
   "source": [
    "# Full Matrix with Hypre (1)\n",
    "This section is the timing results for solving the full matrix with a 4 level mesh using Hypre. This matrix has 34,078,720 degrees of freedom."
   ]
  },
  {
   "cell_type": "code",
   "execution_count": null,
   "metadata": {},
   "outputs": [],
   "source": [
    "DOF = 34078720\n",
    "Petsc_Hypre_Full_Cores = np.array([1,2,4,8,16,32,64])\n",
    "Petsc_Hypre_Full_Iterations = np.array([34,27,28,28,27,28,26])\n",
    "Petsc_Hypre_Full_Residual = np.array([7.9976445136954e-11,4.3917548970099e-10,6.4704339012435e-10,1.9324278541092e-09,\n",
    "                                     4.0821075917735e-10,4.4003896514588e-10,1.4869446851759e-09])\n",
    "Petsc_Hypre_Full_Error = np.array([5.7477243214081e-05,5.7477243211879e-05,5.7477243614010e-05,5.7477243443533e-05,\n",
    "                                  5.7477243088387e-05,5.7477243356880e-05,5.7477243857231e-05])\n",
    "Petsc_Hypre_Full_Domain = np.array([9.3102967615,5.1269353037,2.611479996,1.3450369165,0.7135825006,0.3488844725,\n",
    "                                   0.1807510907])\n",
    "Petsc_Hypre_Full_Matrix = np.array([13.032011544,25.0749537139,4.4373953527,3.8531181364,1.366117364,0.6402525276,\n",
    "                                   0.3294294296])\n",
    "Petsc_Hypre_Full_Petsc = np.array([46.4756566226,5745.420527928,3066.443153691,1151.2410815,306.3529630837,\n",
    "                                  85.7285275946,28.1744626598])\n",
    "Petsc_Hypre_Full_LSS = np.array([59.5076796164,5770.495496813,3070.880566557,1155.094231552,307.7191039032,\n",
    "                                86.3688345358,28.5039559665])\n",
    "Petsc_Hypre_Full_LinS = np.array([476.6024337533,190.3331587672,170.2305327598,141.3615025816,193.3138339359,\n",
    "                                 38.7094688379,20.0269674999])\n",
    "Petsc_Hypre_Full_CS = np.array([476.6024388832,190.3331671641,170.231912361,141.3636954507,193.3144093905,\n",
    "                               38.7105592318,20.028225786])\n",
    "Petsc_Hypre_Full_DegF = (DOF)/Petsc_Hypre_Full_CS/Petsc_Hypre_Full_Cores\n",
    "Petsc_Hypre_Full_Eff = Petsc_Hypre_Full_CS[0]/(Petsc_Hypre_Full_CS*Petsc_Hypre_Full_Cores)\n",
    "\n",
    "d = {\"Cores\": Petsc_Hypre_Full_Cores,\"Iterations\": Petsc_Hypre_Full_Iterations,\"Residual\": Petsc_Hypre_Full_Residual,\n",
    "    \"Error\": Petsc_Hypre_Full_Error,\"Domain Initialization\": Petsc_Hypre_Full_Domain,\"Matrix Formation\": Petsc_Hypre_Full_Matrix,\n",
    "    \"Hypre Setup\": Petsc_Hypre_Full_Petsc,\"Linear System Setup\": Petsc_Hypre_Full_LSS,\"Linear Solve\": Petsc_Hypre_Full_LinS,\n",
    "    \"Complete Solve\": Petsc_Hypre_Full_CS,\"Efficiency\": Petsc_Hypre_Full_Eff,\"Degrees of Freedom Per Time Per Core\": Petsc_Hypre_Full_DegF}\n",
    "df1 =  pd.DataFrame(data = d)\n",
    "df1 = df1[[\"Cores\",\"Iterations\",\"Residual\",\"Error\",\"Domain Initialization\",\"Matrix Formation\",\"Hypre Setup\",\n",
    "         \"Linear System Setup\",\"Linear Solve\",\"Complete Solve\",\"Efficiency\",\"Degrees of Freedom Per Time Per Core\"]]\n",
    "nform = {\"Error\" : \"{:6.2e}\".format, \"Residual\" : \"{:6.2e}\".format}\n",
    "\n",
    "df1.style.set_caption(\"Degrees of freedom {:,}\".format(DOF)).background_gradient(cmap=cm).format(nform)\n",
    "# display(HTML(df1.to_html(index=False)))"
   ]
  },
  {
   "cell_type": "code",
   "execution_count": null,
   "metadata": {},
   "outputs": [],
   "source": [
    "x = Petsc_Hypre_Full_Cores\n",
    "y = Petsc_Hypre_Full_CS\n",
    "\n",
    "\n",
    "plt.plot(x,y,\"bo-\",label=\"Hypre (Full matrix)\")\n",
    "plt.yscale(\"log\")\n",
    "plt.xscale(\"log\")\n",
    "plt.ylabel(\"Complete Solve Time (s)\")\n",
    "plt.xlabel(\"Number of Cores\")\n",
    "plt.title(\"Full Matrix with 4 level mesh using Hypre\")\n",
    "\n",
    "c = np.polyfit(np.log(x),np.log(y),1)\n",
    "#  c = np.polyfit(np.log(x[:-2]),np.log(y[-2]),1)\n",
    "#  Take out points for slope\n",
    "\n",
    "s = \"Best-fit (slope = {:6.2f})\".format(c[0])\n",
    "plt.loglog(x,np.exp(np.polyval(c,np.log(x))),'k--',label=s)\n",
    "\n",
    "ct = np.array([-1,c[1]])\n",
    "plt.loglog(x,np.exp(np.polyval(ct,np.log(x))),'.-',label=\"Theoretical\",color='k',markersize=10)\n",
    "\n",
    "\n",
    "plt.legend()\n",
    "plt.show"
   ]
  },
  {
   "cell_type": "code",
   "execution_count": null,
   "metadata": {},
   "outputs": [],
   "source": [
    "plt.plot(Petsc_Hypre_Full_Cores,Petsc_Hypre_Full_DegF,\"ro-\",label=\"Full\")\n",
    "plt.ylabel(\"Degrees of Freedom Per Time Per Core\")\n",
    "plt.xlabel(\"Number of Cores\")\n",
    "plt.title(\"Full Matrix with 4 level mesh using Hypre\")\n",
    "plt.legend()"
   ]
  },
  {
   "cell_type": "markdown",
   "metadata": {},
   "source": [
    "# Schur Matrix with Hypre (3)\n",
    "\n",
    "This section is the timing results for solving the schur matrix using Hypre. This matrix has 34,078,720 degrees of freedom."
   ]
  },
  {
   "cell_type": "code",
   "execution_count": null,
   "metadata": {},
   "outputs": [],
   "source": [
    "DOF = 34078720\n",
    "Petsc_Hypre_Schur_Cores = np.array([1,2,4,8,16,32,64])\n",
    "Petsc_Hypre_Schur_Iterations = np.array([18,18,17,17,17,17,17])\n",
    "Petsc_Hypre_Schur_Residual = np.array([2.1422726188584e-10,3.2161565985030e-10,2.7612674597579e-10,3.6429603151764e-10,\n",
    "                                      3.4940500168352e-10,3.0469687491220e-10,3.5977521713133e-10])\n",
    "Petsc_Hypre_Schur_Error = np.array([5.7477238317432e-05,5.7477239548413e-05,5.7477238637187e-05,5.7477238433841e-05,\n",
    "                                   5.7477238995146e-05,5.7477239111240e-05,5.7477239589618e-05])\n",
    "Petsc_Hypre_Schur_Domain = np.array([9.4445950346,5.2305916603,2.6958817151,1.3871310527,0.7516239067,0.3453087533,\n",
    "                                    0.1802511932])\n",
    "Petsc_Hypre_Schur_Matrix = np.array([40.0887125916,42.7230843016,81.2467002987,156.3588543868,361.3782361214,\n",
    "                                    1.0041248196,0.5388229892])\n",
    "Petsc_Hypre_Schur_Petsc = np.array([30.6902516082,31.2512701374,41.7367549559,64.0581156817,44.866301632,1.4652302183,\n",
    "                                   3.961427355])\n",
    "Petsc_Hypre_Schur_LSS = np.array([70.7789770334,73.9743770872,122.9834756936,220.416994944,406.2445835313,2.4694171135,\n",
    "                                 4.5003341666])\n",
    "Petsc_Hypre_Schur_LinS = np.array([126.3492145385,63.8764787061,37.5105962078,24.7682500331,19.0830590801,18.4242870962,\n",
    "                                  8.0836519599])\n",
    "Petsc_Hypre_Schur_PatS = np.array([0.9870345647,0.550425772,0.3183192302,0.1909717065,0.1378947459,0.0932485796,\n",
    "                                  0.0663816566])\n",
    "Petsc_Hypre_Schur_CS = np.array([127.3362603822,64.4269330189,37.83016898,24.9670273807,19.221335037,18.5241706263,\n",
    "                                8.1564960435])\n",
    "Petsc_Hypre_Schur_DegF = (DOF)/Petsc_Hypre_Schur_CS/Petsc_Hypre_Schur_Cores\n",
    "Petsc_Hypre_Schur_Eff = Petsc_Hypre_Schur_CS[0]/(Petsc_Hypre_Schur_CS*Petsc_Hypre_Schur_Cores)\n",
    "\n",
    "d = {\"Cores\": Petsc_Hypre_Schur_Cores,\"Iterations\": Petsc_Hypre_Schur_Iterations,\"Residual\": Petsc_Hypre_Schur_Residual,\n",
    "    \"Error\": Petsc_Hypre_Schur_Error,\"Domain Initialization\": Petsc_Hypre_Schur_Domain,\"Matrix Formation\": Petsc_Hypre_Schur_Matrix,\n",
    "    \"Hypre Setup\": Petsc_Hypre_Schur_Petsc,\"Linear System Setup\": Petsc_Hypre_Schur_LSS,\"Linear Solve\": Petsc_Hypre_Schur_LinS,\n",
    "    \"Patch Solve\": Petsc_Hypre_Schur_PatS,\"Complete Solve\": Petsc_Hypre_Schur_CS,\"Efficiency\": Petsc_Hypre_Schur_Eff,\n",
    "     \"Degrees of Freedom Per Time Per Core\": Petsc_Hypre_Schur_DegF}\n",
    "df3 =  pd.DataFrame(data = d)\n",
    "df3 = df3[[\"Cores\",\"Iterations\",\"Residual\",\"Error\",\"Domain Initialization\",\"Matrix Formation\",\"Hypre Setup\",\n",
    "         \"Linear System Setup\",\"Linear Solve\",\"Patch Solve\",\"Complete Solve\",\"Efficiency\",\"Degrees of Freedom Per Time Per Core\"]]\n",
    "nform = {\"Error\" : \"{:6.2e}\".format, \"Residual\" : \"{:6.2e}\".format}\n",
    "\n",
    "df3.style.set_caption(\"Degrees of freedom {:,}\".format(DOF)).background_gradient(cmap=cm).format(nform)\n",
    "# display(HTML(df1.to_html(index=False)))"
   ]
  },
  {
   "cell_type": "code",
   "execution_count": null,
   "metadata": {},
   "outputs": [],
   "source": [
    "x = Petsc_Hypre_Schur_Cores\n",
    "y = Petsc_Hypre_Schur_CS\n",
    "\n",
    "\n",
    "plt.plot(x,y,\"bo-\",label=\"Hypre (Schur matrix)\")\n",
    "plt.yscale(\"log\")\n",
    "plt.xscale(\"log\")\n",
    "plt.ylabel(\"Complete Solve Time (s)\")\n",
    "plt.xlabel(\"Number of Cores\")\n",
    "plt.title(\"Schur Matrix with 4 level mesh using Hypre\")\n",
    "\n",
    "c = np.polyfit(np.log(x),np.log(y),1)\n",
    "#  c = np.polyfit(np.log(x[:-2]),np.log(y[-2]),1)\n",
    "#  Take out points for slope\n",
    "\n",
    "s = \"Best-fit (slope = {:6.2f})\".format(c[0])\n",
    "plt.loglog(x,np.exp(np.polyval(c,np.log(x))),'k--',label=s)\n",
    "\n",
    "ct = np.array([-1,c[1]])\n",
    "plt.loglog(x,np.exp(np.polyval(ct,np.log(x))),'.-',label=\"Theoretical\",color='k',markersize=10)\n",
    "\n",
    "\n",
    "plt.legend()\n",
    "plt.show"
   ]
  },
  {
   "cell_type": "code",
   "execution_count": null,
   "metadata": {},
   "outputs": [],
   "source": [
    "plt.plot(Petsc_Hypre_Schur_Cores,Petsc_Hypre_Schur_DegF,\"ro-\",label=\"Full\")\n",
    "plt.ylabel(\"Degrees of Freedom Per Time Per Core\")\n",
    "plt.xlabel(\"Number of Cores\")\n",
    "plt.title(\"Schur Matrix with 4 level mesh using Hypre\")\n",
    "plt.legend()"
   ]
  },
  {
   "cell_type": "markdown",
   "metadata": {
    "collapsed": true
   },
   "source": [
    "# Comparison of Full vs Schur solve"
   ]
  },
  {
   "cell_type": "code",
   "execution_count": null,
   "metadata": {},
   "outputs": [],
   "source": [
    "xf = Petsc_Hypre_Full_Cores\n",
    "yf = Petsc_Hypre_Full_CS\n",
    "xs = Petsc_Hypre_Schur_Cores\n",
    "ys = Petsc_Hypre_Schur_CS\n",
    "\n",
    "\n",
    "plt.plot(xf,yf,\"ro-\",label=\"Hypre (Full matrix)\")\n",
    "plt.plot(xs,ys,\"bo-\",label=\"Hypre (Schur matrix)\")\n",
    "plt.yscale(\"log\")\n",
    "plt.xscale(\"log\")\n",
    "plt.ylabel(\"Complete Solve Time (s)\")\n",
    "plt.xlabel(\"Number of Cores\")\n",
    "plt.title(\"Schur vs Full Matrix with 4 level mesh using Hypre\")\n",
    "\n",
    "cf = np.polyfit(np.log(xf),np.log(yf),1)\n",
    "cs = np.polyfit(np.log(xs),np.log(ys),1)\n",
    "#  c = np.polyfit(np.log(x[:-2]),np.log(y[-2]),1)\n",
    "#  Take out points for slope\n",
    "\n",
    "sf = \"Best-fit (slope = {:6.2f})\".format(cf[0])\n",
    "ss = \"Best-fit (slope = {:6.2f})\".format(cs[0])\n",
    "plt.loglog(xf,np.exp(np.polyval(cf,np.log(xf))),'k--',label=sf)\n",
    "plt.loglog(xs,np.exp(np.polyval(cs,np.log(xs))),'k--',label=ss)\n",
    "\n",
    "\n",
    "plt.legend()\n",
    "plt.show"
   ]
  },
  {
   "cell_type": "code",
   "execution_count": null,
   "metadata": {
    "collapsed": true
   },
   "outputs": [],
   "source": []
  }
 ],
 "metadata": {
  "kernelspec": {
   "display_name": "Python 3",
   "language": "python",
   "name": "python3"
  },
  "language_info": {
   "codemirror_mode": {
    "name": "ipython",
    "version": 3
   },
   "file_extension": ".py",
   "mimetype": "text/x-python",
   "name": "python",
   "nbconvert_exporter": "python",
   "pygments_lexer": "ipython3",
   "version": "3.6.3"
  }
 },
 "nbformat": 4,
 "nbformat_minor": 2
}
