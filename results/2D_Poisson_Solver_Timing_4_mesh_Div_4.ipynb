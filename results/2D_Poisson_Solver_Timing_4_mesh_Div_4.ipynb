{
 "cells": [
  {
   "cell_type": "markdown",
   "metadata": {},
   "source": [
    "# Timing results for 2D Pressure Poisson Solver\n",
    "These are the results for the different methods of solving this matrix on a 4 level mesh with the divide 4 option."
   ]
  },
  {
   "cell_type": "code",
   "execution_count": 1,
   "metadata": {
    "collapsed": true
   },
   "outputs": [],
   "source": [
    "%matplotlib inline\n",
    "import numpy as np\n",
    "import pandas as pd\n",
    "import matplotlib.pyplot as plt\n",
    "from IPython.display import display, HTML\n",
    "import seaborn as sns\n",
    "cm = sns.light_palette(\"green\", as_cmap=True)"
   ]
  },
  {
   "cell_type": "markdown",
   "metadata": {},
   "source": [
    "# Full Matrix with Hypre (1)\n",
    "This section is the timing results for solving the full matrix with a 4 level mesh using Hypre. This matrix has 34,078,720 degrees of freedom."
   ]
  },
  {
   "cell_type": "code",
   "execution_count": 3,
   "metadata": {},
   "outputs": [
    {
     "data": {
      "text/html": [
       "<style  type=\"text/css\" >\n",
       "    #T_321f28fe_0ee4_11e8_82e4_000c29f4ace4row0_col0 {\n",
       "            background-color:  #e5ffe5;\n",
       "        }    #T_321f28fe_0ee4_11e8_82e4_000c29f4ace4row0_col1 {\n",
       "            background-color:  #e5ffe5;\n",
       "        }    #T_321f28fe_0ee4_11e8_82e4_000c29f4ace4row0_col2 {\n",
       "            background-color:  #e5ffe5;\n",
       "        }    #T_321f28fe_0ee4_11e8_82e4_000c29f4ace4row0_col3 {\n",
       "            background-color:  #e5ffe5;\n",
       "        }    #T_321f28fe_0ee4_11e8_82e4_000c29f4ace4row0_col4 {\n",
       "            background-color:  #e5ffe5;\n",
       "        }    #T_321f28fe_0ee4_11e8_82e4_000c29f4ace4row0_col5 {\n",
       "            background-color:  #e5ffe5;\n",
       "        }    #T_321f28fe_0ee4_11e8_82e4_000c29f4ace4row0_col6 {\n",
       "            background-color:  #e5ffe5;\n",
       "        }    #T_321f28fe_0ee4_11e8_82e4_000c29f4ace4row0_col7 {\n",
       "            background-color:  #e5ffe5;\n",
       "        }    #T_321f28fe_0ee4_11e8_82e4_000c29f4ace4row0_col8 {\n",
       "            background-color:  #e5ffe5;\n",
       "        }    #T_321f28fe_0ee4_11e8_82e4_000c29f4ace4row0_col9 {\n",
       "            background-color:  #e5ffe5;\n",
       "        }    #T_321f28fe_0ee4_11e8_82e4_000c29f4ace4row0_col10 {\n",
       "            background-color:  #e5ffe5;\n",
       "        }    #T_321f28fe_0ee4_11e8_82e4_000c29f4ace4row0_col11 {\n",
       "            background-color:  #e5ffe5;\n",
       "        }</style>  \n",
       "<table id=\"T_321f28fe_0ee4_11e8_82e4_000c29f4ace4\" ><caption>Degrees of freedom 34,078,720</caption> \n",
       "<thead>    <tr> \n",
       "        <th class=\"blank level0\" ></th> \n",
       "        <th class=\"col_heading level0 col0\" >Cores</th> \n",
       "        <th class=\"col_heading level0 col1\" >Iterations</th> \n",
       "        <th class=\"col_heading level0 col2\" >Residual</th> \n",
       "        <th class=\"col_heading level0 col3\" >Error</th> \n",
       "        <th class=\"col_heading level0 col4\" >Domain Initialization</th> \n",
       "        <th class=\"col_heading level0 col5\" >Matrix Formation</th> \n",
       "        <th class=\"col_heading level0 col6\" >Hypre Setup</th> \n",
       "        <th class=\"col_heading level0 col7\" >Linear System Setup</th> \n",
       "        <th class=\"col_heading level0 col8\" >Linear Solve</th> \n",
       "        <th class=\"col_heading level0 col9\" >Complete Solve</th> \n",
       "        <th class=\"col_heading level0 col10\" >Efficiency</th> \n",
       "        <th class=\"col_heading level0 col11\" >Degrees of Freedom Per Time Per Core</th> \n",
       "    </tr></thead> \n",
       "<tbody>    <tr> \n",
       "        <th id=\"T_321f28fe_0ee4_11e8_82e4_000c29f4ace4level0_row0\" class=\"row_heading level0 row0\" >0</th> \n",
       "        <td id=\"T_321f28fe_0ee4_11e8_82e4_000c29f4ace4row0_col0\" class=\"data row0 col0\" >1</td> \n",
       "        <td id=\"T_321f28fe_0ee4_11e8_82e4_000c29f4ace4row0_col1\" class=\"data row0 col1\" >34</td> \n",
       "        <td id=\"T_321f28fe_0ee4_11e8_82e4_000c29f4ace4row0_col2\" class=\"data row0 col2\" >8.00e-11</td> \n",
       "        <td id=\"T_321f28fe_0ee4_11e8_82e4_000c29f4ace4row0_col3\" class=\"data row0 col3\" >5.75e-05</td> \n",
       "        <td id=\"T_321f28fe_0ee4_11e8_82e4_000c29f4ace4row0_col4\" class=\"data row0 col4\" >9.3103</td> \n",
       "        <td id=\"T_321f28fe_0ee4_11e8_82e4_000c29f4ace4row0_col5\" class=\"data row0 col5\" >13.032</td> \n",
       "        <td id=\"T_321f28fe_0ee4_11e8_82e4_000c29f4ace4row0_col6\" class=\"data row0 col6\" >46.4757</td> \n",
       "        <td id=\"T_321f28fe_0ee4_11e8_82e4_000c29f4ace4row0_col7\" class=\"data row0 col7\" >59.5077</td> \n",
       "        <td id=\"T_321f28fe_0ee4_11e8_82e4_000c29f4ace4row0_col8\" class=\"data row0 col8\" >476.602</td> \n",
       "        <td id=\"T_321f28fe_0ee4_11e8_82e4_000c29f4ace4row0_col9\" class=\"data row0 col9\" >476.602</td> \n",
       "        <td id=\"T_321f28fe_0ee4_11e8_82e4_000c29f4ace4row0_col10\" class=\"data row0 col10\" >1</td> \n",
       "        <td id=\"T_321f28fe_0ee4_11e8_82e4_000c29f4ace4row0_col11\" class=\"data row0 col11\" >71503.5</td> \n",
       "    </tr></tbody> \n",
       "</table> "
      ],
      "text/plain": [
       "<pandas.io.formats.style.Styler at 0x7fe76f2a3470>"
      ]
     },
     "execution_count": 3,
     "metadata": {},
     "output_type": "execute_result"
    }
   ],
   "source": [
    "DOF = 34078720\n",
    "Petsc_Hypre_Full_Cores = np.array([1,2])\n",
    "Petsc_Hypre_Full_Iterations = np.array([34,])\n",
    "Petsc_Hypre_Full_Residual = np.array([7.9976445136954e-11])\n",
    "Petsc_Hypre_Full_Error = np.array([5.7477243214081e-05])\n",
    "Petsc_Hypre_Full_Domain = np.array([9.3102967615])\n",
    "Petsc_Hypre_Full_Matrix = np.array([13.032011544])\n",
    "Petsc_Hypre_Full_Petsc = np.array([46.4756566226])\n",
    "Petsc_Hypre_Full_LSS = np.array([59.5076796164])\n",
    "Petsc_Hypre_Full_LinS = np.array([476.6024337533])\n",
    "Petsc_Hypre_Full_CS = np.array([476.6024388832])\n",
    "Petsc_Hypre_Full_DegF = (DOF)/Petsc_Hypre_Full_CS/Petsc_Hypre_Full_Cores\n",
    "Petsc_Hypre_Full_Eff = Petsc_Hypre_Full_CS[0]/(Petsc_Hypre_Full_CS*Petsc_Hypre_Full_Cores)\n",
    "\n",
    "d = {\"Cores\": Petsc_Hypre_Full_Cores,\"Iterations\": Petsc_Hypre_Full_Iterations,\"Residual\": Petsc_Hypre_Full_Residual,\n",
    "    \"Error\": Petsc_Hypre_Full_Error,\"Domain Initialization\": Petsc_Hypre_Full_Domain,\"Matrix Formation\": Petsc_Hypre_Full_Matrix,\n",
    "    \"Hypre Setup\": Petsc_Hypre_Full_Petsc,\"Linear System Setup\": Petsc_Hypre_Full_LSS,\"Linear Solve\": Petsc_Hypre_Full_LinS,\n",
    "    \"Complete Solve\": Petsc_Hypre_Full_CS,\"Efficiency\": Petsc_Hypre_Full_Eff,\"Degrees of Freedom Per Time Per Core\": Petsc_Hypre_Full_DegF}\n",
    "df1 =  pd.DataFrame(data = d)\n",
    "df1 = df1[[\"Cores\",\"Iterations\",\"Residual\",\"Error\",\"Domain Initialization\",\"Matrix Formation\",\"Hypre Setup\",\n",
    "         \"Linear System Setup\",\"Linear Solve\",\"Complete Solve\",\"Efficiency\",\"Degrees of Freedom Per Time Per Core\"]]\n",
    "nform = {\"Error\" : \"{:6.2e}\".format, \"Residual\" : \"{:6.2e}\".format}\n",
    "\n",
    "df1.style.set_caption(\"Degrees of freedom {:,}\".format(DOF)).background_gradient(cmap=cm).format(nform)\n",
    "# display(HTML(df1.to_html(index=False)))"
   ]
  },
  {
   "cell_type": "code",
   "execution_count": 4,
   "metadata": {},
   "outputs": [
    {
     "name": "stderr",
     "output_type": "stream",
     "text": [
      "/home/brenton/anaconda3/lib/python3.6/site-packages/matplotlib/axes/_base.py:2918: UserWarning: Attempting to set identical left==right results\n",
      "in singular transformations; automatically expanding.\n",
      "left=1.0, right=1.0\n",
      "  'left=%s, right=%s') % (left, right))\n",
      "/home/brenton/anaconda3/lib/python3.6/site-packages/numpy/lib/polynomial.py:584: RuntimeWarning: invalid value encountered in true_divide\n",
      "  lhs /= scale\n",
      "/home/brenton/anaconda3/lib/python3.6/site-packages/numpy/lib/polynomial.py:586: RuntimeWarning: divide by zero encountered in true_divide\n",
      "  c = (c.T/scale).T  # broadcast scale coefficients\n",
      "/home/brenton/anaconda3/lib/python3.6/site-packages/ipykernel_launcher.py:12: RankWarning: Polyfit may be poorly conditioned\n",
      "  if sys.path[0] == '':\n",
      "/home/brenton/anaconda3/lib/python3.6/site-packages/numpy/lib/polynomial.py:680: RuntimeWarning: invalid value encountered in multiply\n",
      "  y = y * x + p[i]\n"
     ]
    },
    {
     "data": {
      "text/plain": [
       "<function matplotlib.pyplot.show>"
      ]
     },
     "execution_count": 4,
     "metadata": {},
     "output_type": "execute_result"
    },
    {
     "data": {
      "image/png": "[encoded data removed]",
      "text/plain": [
       "<matplotlib.figure.Figure at 0x7fe76f30ad30>"
      ]
     },
     "metadata": {},
     "output_type": "display_data"
    }
   ],
   "source": [
    "x = Petsc_Hypre_Full_Cores\n",
    "y = Petsc_Hypre_Full_CS\n",
    "\n",
    "\n",
    "plt.plot(x,y,\"bo-\",label=\"Hypre (Full matrix)\")\n",
    "plt.yscale(\"log\")\n",
    "plt.xscale(\"log\")\n",
    "plt.ylabel(\"Complete Solve Time (s)\")\n",
    "plt.xlabel(\"Number of Cores\")\n",
    "plt.title(\"Full Matrix with 4 level mesh using Hypre\")\n",
    "\n",
    "c = np.polyfit(np.log(x),np.log(y),1)\n",
    "#  c = np.polyfit(np.log(x[:-2]),np.log(y[-2]),1)\n",
    "#  Take out points for slope\n",
    "\n",
    "s = \"Best-fit (slope = {:6.2f})\".format(c[0])\n",
    "plt.loglog(x,np.exp(np.polyval(c,np.log(x))),'k--',label=s)\n",
    "\n",
    "ct = np.array([-1,c[1]])\n",
    "plt.loglog(x,np.exp(np.polyval(ct,np.log(x))),'.-',label=\"Theoretical\",color='k',markersize=10)\n",
    "\n",
    "\n",
    "plt.legend()\n",
    "plt.show"
   ]
  },
  {
   "cell_type": "code",
   "execution_count": 5,
   "metadata": {},
   "outputs": [
    {
     "data": {
      "text/plain": [
       "<matplotlib.legend.Legend at 0x7fe767247cf8>"
      ]
     },
     "execution_count": 5,
     "metadata": {},
     "output_type": "execute_result"
    },
    {
     "data": {
      "image/png": "[encoded data removed]",
      "text/plain": [
       "<matplotlib.figure.Figure at 0x7fe7672722b0>"
      ]
     },
     "metadata": {},
     "output_type": "display_data"
    }
   ],
   "source": [
    "plt.plot(Petsc_Hypre_Full_Cores,Petsc_Hypre_Full_DegF,\"ro-\",label=\"Full\")\n",
    "plt.ylabel(\"Degrees of Freedom Per Time Per Core\")\n",
    "plt.xlabel(\"Number of Cores\")\n",
    "plt.title(\"Full Matrix with 4 level mesh using Hypre\")\n",
    "plt.legend()"
   ]
  },
  {
   "cell_type": "markdown",
   "metadata": {},
   "source": [
    "# Schur Matrix with Hypre (3)\n",
    "\n",
    "This section is the timing results for solving the schur matrix using Hypre. This matrix has 34,078,720 degrees of freedom."
   ]
  },
  {
   "cell_type": "code",
   "execution_count": 8,
   "metadata": {},
   "outputs": [
    {
     "data": {
      "text/html": [
       "<style  type=\"text/css\" >\n",
       "    #T_e2d50bc6_0ee6_11e8_82e4_000c29f4ace4row0_col0 {\n",
       "            background-color:  #e5ffe5;\n",
       "        }    #T_e2d50bc6_0ee6_11e8_82e4_000c29f4ace4row0_col1 {\n",
       "            background-color:  #008000;\n",
       "        }    #T_e2d50bc6_0ee6_11e8_82e4_000c29f4ace4row0_col2 {\n",
       "            background-color:  #e5ffe5;\n",
       "        }    #T_e2d50bc6_0ee6_11e8_82e4_000c29f4ace4row0_col3 {\n",
       "            background-color:  #e5ffe5;\n",
       "        }    #T_e2d50bc6_0ee6_11e8_82e4_000c29f4ace4row0_col4 {\n",
       "            background-color:  #008000;\n",
       "        }    #T_e2d50bc6_0ee6_11e8_82e4_000c29f4ace4row0_col5 {\n",
       "            background-color:  #ccf1cc;\n",
       "        }    #T_e2d50bc6_0ee6_11e8_82e4_000c29f4ace4row0_col6 {\n",
       "            background-color:  #7ac47a;\n",
       "        }    #T_e2d50bc6_0ee6_11e8_82e4_000c29f4ace4row0_col7 {\n",
       "            background-color:  #bfeabf;\n",
       "        }    #T_e2d50bc6_0ee6_11e8_82e4_000c29f4ace4row0_col8 {\n",
       "            background-color:  #008000;\n",
       "        }    #T_e2d50bc6_0ee6_11e8_82e4_000c29f4ace4row0_col9 {\n",
       "            background-color:  #008000;\n",
       "        }    #T_e2d50bc6_0ee6_11e8_82e4_000c29f4ace4row0_col10 {\n",
       "            background-color:  #008000;\n",
       "        }    #T_e2d50bc6_0ee6_11e8_82e4_000c29f4ace4row0_col11 {\n",
       "            background-color:  #008000;\n",
       "        }    #T_e2d50bc6_0ee6_11e8_82e4_000c29f4ace4row0_col12 {\n",
       "            background-color:  #008000;\n",
       "        }    #T_e2d50bc6_0ee6_11e8_82e4_000c29f4ace4row1_col0 {\n",
       "            background-color:  #e2fde2;\n",
       "        }    #T_e2d50bc6_0ee6_11e8_82e4_000c29f4ace4row1_col1 {\n",
       "            background-color:  #008000;\n",
       "        }    #T_e2d50bc6_0ee6_11e8_82e4_000c29f4ace4row1_col2 {\n",
       "            background-color:  #41a441;\n",
       "        }    #T_e2d50bc6_0ee6_11e8_82e4_000c29f4ace4row1_col3 {\n",
       "            background-color:  #078407;\n",
       "        }    #T_e2d50bc6_0ee6_11e8_82e4_000c29f4ace4row1_col4 {\n",
       "            background-color:  #68ba68;\n",
       "        }    #T_e2d50bc6_0ee6_11e8_82e4_000c29f4ace4row1_col5 {\n",
       "            background-color:  #cbf1cb;\n",
       "        }    #T_e2d50bc6_0ee6_11e8_82e4_000c29f4ace4row1_col6 {\n",
       "            background-color:  #79c379;\n",
       "        }    #T_e2d50bc6_0ee6_11e8_82e4_000c29f4ace4row1_col7 {\n",
       "            background-color:  #bde9bd;\n",
       "        }    #T_e2d50bc6_0ee6_11e8_82e4_000c29f4ace4row1_col8 {\n",
       "            background-color:  #7ac37a;\n",
       "        }    #T_e2d50bc6_0ee6_11e8_82e4_000c29f4ace4row1_col9 {\n",
       "            background-color:  #6dbc6d;\n",
       "        }    #T_e2d50bc6_0ee6_11e8_82e4_000c29f4ace4row1_col10 {\n",
       "            background-color:  #7ac37a;\n",
       "        }    #T_e2d50bc6_0ee6_11e8_82e4_000c29f4ace4row1_col11 {\n",
       "            background-color:  #038103;\n",
       "        }    #T_e2d50bc6_0ee6_11e8_82e4_000c29f4ace4row1_col12 {\n",
       "            background-color:  #038103;\n",
       "        }    #T_e2d50bc6_0ee6_11e8_82e4_000c29f4ace4row2_col0 {\n",
       "            background-color:  #dbf9db;\n",
       "        }    #T_e2d50bc6_0ee6_11e8_82e4_000c29f4ace4row2_col1 {\n",
       "            background-color:  #e5ffe5;\n",
       "        }    #T_e2d50bc6_0ee6_11e8_82e4_000c29f4ace4row2_col2 {\n",
       "            background-color:  #87cb87;\n",
       "        }    #T_e2d50bc6_0ee6_11e8_82e4_000c29f4ace4row2_col3 {\n",
       "            background-color:  #acdfac;\n",
       "        }    #T_e2d50bc6_0ee6_11e8_82e4_000c29f4ace4row2_col4 {\n",
       "            background-color:  #a7dda7;\n",
       "        }    #T_e2d50bc6_0ee6_11e8_82e4_000c29f4ace4row2_col5 {\n",
       "            background-color:  #b2e3b2;\n",
       "        }    #T_e2d50bc6_0ee6_11e8_82e4_000c29f4ace4row2_col6 {\n",
       "            background-color:  #52ad52;\n",
       "        }    #T_e2d50bc6_0ee6_11e8_82e4_000c29f4ace4row2_col7 {\n",
       "            background-color:  #a1d9a1;\n",
       "        }    #T_e2d50bc6_0ee6_11e8_82e4_000c29f4ace4row2_col8 {\n",
       "            background-color:  #ade0ad;\n",
       "        }    #T_e2d50bc6_0ee6_11e8_82e4_000c29f4ace4row2_col9 {\n",
       "            background-color:  #a6dca6;\n",
       "        }    #T_e2d50bc6_0ee6_11e8_82e4_000c29f4ace4row2_col10 {\n",
       "            background-color:  #ade0ad;\n",
       "        }    #T_e2d50bc6_0ee6_11e8_82e4_000c29f4ace4row2_col11 {\n",
       "            background-color:  #2e992e;\n",
       "        }    #T_e2d50bc6_0ee6_11e8_82e4_000c29f4ace4row2_col12 {\n",
       "            background-color:  #2e992e;\n",
       "        }    #T_e2d50bc6_0ee6_11e8_82e4_000c29f4ace4row3_col0 {\n",
       "            background-color:  #ccf1cc;\n",
       "        }    #T_e2d50bc6_0ee6_11e8_82e4_000c29f4ace4row3_col1 {\n",
       "            background-color:  #e5ffe5;\n",
       "        }    #T_e2d50bc6_0ee6_11e8_82e4_000c29f4ace4row3_col2 {\n",
       "            background-color:  #008000;\n",
       "        }    #T_e2d50bc6_0ee6_11e8_82e4_000c29f4ace4row3_col3 {\n",
       "            background-color:  #d1f4d1;\n",
       "        }    #T_e2d50bc6_0ee6_11e8_82e4_000c29f4ace4row3_col4 {\n",
       "            background-color:  #c8efc8;\n",
       "        }    #T_e2d50bc6_0ee6_11e8_82e4_000c29f4ace4row3_col5 {\n",
       "            background-color:  #82c882;\n",
       "        }    #T_e2d50bc6_0ee6_11e8_82e4_000c29f4ace4row3_col6 {\n",
       "            background-color:  #008000;\n",
       "        }    #T_e2d50bc6_0ee6_11e8_82e4_000c29f4ace4row3_col7 {\n",
       "            background-color:  #69ba69;\n",
       "        }    #T_e2d50bc6_0ee6_11e8_82e4_000c29f4ace4row3_col8 {\n",
       "            background-color:  #c5edc5;\n",
       "        }    #T_e2d50bc6_0ee6_11e8_82e4_000c29f4ace4row3_col9 {\n",
       "            background-color:  #c7eec7;\n",
       "        }    #T_e2d50bc6_0ee6_11e8_82e4_000c29f4ace4row3_col10 {\n",
       "            background-color:  #c5edc5;\n",
       "        }    #T_e2d50bc6_0ee6_11e8_82e4_000c29f4ace4row3_col11 {\n",
       "            background-color:  #6abb6a;\n",
       "        }    #T_e2d50bc6_0ee6_11e8_82e4_000c29f4ace4row3_col12 {\n",
       "            background-color:  #6abb6a;\n",
       "        }    #T_e2d50bc6_0ee6_11e8_82e4_000c29f4ace4row4_col0 {\n",
       "            background-color:  #b0e1b0;\n",
       "        }    #T_e2d50bc6_0ee6_11e8_82e4_000c29f4ace4row4_col1 {\n",
       "            background-color:  #e5ffe5;\n",
       "        }    #T_e2d50bc6_0ee6_11e8_82e4_000c29f4ace4row4_col2 {\n",
       "            background-color:  #178c17;\n",
       "        }    #T_e2d50bc6_0ee6_11e8_82e4_000c29f4ace4row4_col3 {\n",
       "            background-color:  #6bbb6b;\n",
       "        }    #T_e2d50bc6_0ee6_11e8_82e4_000c29f4ace4row4_col4 {\n",
       "            background-color:  #d8f8d8;\n",
       "        }    #T_e2d50bc6_0ee6_11e8_82e4_000c29f4ace4row4_col5 {\n",
       "            background-color:  #008000;\n",
       "        }    #T_e2d50bc6_0ee6_11e8_82e4_000c29f4ace4row4_col6 {\n",
       "            background-color:  #46a746;\n",
       "        }    #T_e2d50bc6_0ee6_11e8_82e4_000c29f4ace4row4_col7 {\n",
       "            background-color:  #008000;\n",
       "        }    #T_e2d50bc6_0ee6_11e8_82e4_000c29f4ace4row4_col8 {\n",
       "            background-color:  #d1f4d1;\n",
       "        }    #T_e2d50bc6_0ee6_11e8_82e4_000c29f4ace4row4_col9 {\n",
       "            background-color:  #d4f6d4;\n",
       "        }    #T_e2d50bc6_0ee6_11e8_82e4_000c29f4ace4row4_col10 {\n",
       "            background-color:  #d1f4d1;\n",
       "        }    #T_e2d50bc6_0ee6_11e8_82e4_000c29f4ace4row4_col11 {\n",
       "            background-color:  #acdfac;\n",
       "        }    #T_e2d50bc6_0ee6_11e8_82e4_000c29f4ace4row4_col12 {\n",
       "            background-color:  #acdfac;\n",
       "        }    #T_e2d50bc6_0ee6_11e8_82e4_000c29f4ace4row5_col0 {\n",
       "            background-color:  #75c175;\n",
       "        }    #T_e2d50bc6_0ee6_11e8_82e4_000c29f4ace4row5_col1 {\n",
       "            background-color:  #e5ffe5;\n",
       "        }    #T_e2d50bc6_0ee6_11e8_82e4_000c29f4ace4row5_col2 {\n",
       "            background-color:  #5bb25b;\n",
       "        }    #T_e2d50bc6_0ee6_11e8_82e4_000c29f4ace4row5_col3 {\n",
       "            background-color:  #56b056;\n",
       "        }    #T_e2d50bc6_0ee6_11e8_82e4_000c29f4ace4row5_col4 {\n",
       "            background-color:  #e2fde2;\n",
       "        }    #T_e2d50bc6_0ee6_11e8_82e4_000c29f4ace4row5_col5 {\n",
       "            background-color:  #e5ffe5;\n",
       "        }    #T_e2d50bc6_0ee6_11e8_82e4_000c29f4ace4row5_col6 {\n",
       "            background-color:  #e5ffe5;\n",
       "        }    #T_e2d50bc6_0ee6_11e8_82e4_000c29f4ace4row5_col7 {\n",
       "            background-color:  #e5ffe5;\n",
       "        }    #T_e2d50bc6_0ee6_11e8_82e4_000c29f4ace4row5_col8 {\n",
       "            background-color:  #d2f4d2;\n",
       "        }    #T_e2d50bc6_0ee6_11e8_82e4_000c29f4ace4row5_col9 {\n",
       "            background-color:  #dffcdf;\n",
       "        }    #T_e2d50bc6_0ee6_11e8_82e4_000c29f4ace4row5_col10 {\n",
       "            background-color:  #d2f4d2;\n",
       "        }    #T_e2d50bc6_0ee6_11e8_82e4_000c29f4ace4row5_col11 {\n",
       "            background-color:  #e5ffe5;\n",
       "        }    #T_e2d50bc6_0ee6_11e8_82e4_000c29f4ace4row5_col12 {\n",
       "            background-color:  #e5ffe5;\n",
       "        }    #T_e2d50bc6_0ee6_11e8_82e4_000c29f4ace4row6_col0 {\n",
       "            background-color:  #008000;\n",
       "        }    #T_e2d50bc6_0ee6_11e8_82e4_000c29f4ace4row6_col1 {\n",
       "            background-color:  #e5ffe5;\n",
       "        }    #T_e2d50bc6_0ee6_11e8_82e4_000c29f4ace4row6_col2 {\n",
       "            background-color:  #068306;\n",
       "        }    #T_e2d50bc6_0ee6_11e8_82e4_000c29f4ace4row6_col3 {\n",
       "            background-color:  #008000;\n",
       "        }    #T_e2d50bc6_0ee6_11e8_82e4_000c29f4ace4row6_col4 {\n",
       "            background-color:  #e5ffe5;\n",
       "        }    #T_e2d50bc6_0ee6_11e8_82e4_000c29f4ace4row6_col5 {\n",
       "            background-color:  #e5ffe5;\n",
       "        }    #T_e2d50bc6_0ee6_11e8_82e4_000c29f4ace4row6_col6 {\n",
       "            background-color:  #dcfadc;\n",
       "        }    #T_e2d50bc6_0ee6_11e8_82e4_000c29f4ace4row6_col7 {\n",
       "            background-color:  #e5ffe5;\n",
       "        }    #T_e2d50bc6_0ee6_11e8_82e4_000c29f4ace4row6_col8 {\n",
       "            background-color:  #e5ffe5;\n",
       "        }    #T_e2d50bc6_0ee6_11e8_82e4_000c29f4ace4row6_col9 {\n",
       "            background-color:  #e5ffe5;\n",
       "        }    #T_e2d50bc6_0ee6_11e8_82e4_000c29f4ace4row6_col10 {\n",
       "            background-color:  #e5ffe5;\n",
       "        }    #T_e2d50bc6_0ee6_11e8_82e4_000c29f4ace4row6_col11 {\n",
       "            background-color:  #ddfbdd;\n",
       "        }    #T_e2d50bc6_0ee6_11e8_82e4_000c29f4ace4row6_col12 {\n",
       "            background-color:  #ddfbdd;\n",
       "        }</style>  \n",
       "<table id=\"T_e2d50bc6_0ee6_11e8_82e4_000c29f4ace4\" ><caption>Degrees of freedom 34,078,720</caption> \n",
       "<thead>    <tr> \n",
       "        <th class=\"blank level0\" ></th> \n",
       "        <th class=\"col_heading level0 col0\" >Cores</th> \n",
       "        <th class=\"col_heading level0 col1\" >Iterations</th> \n",
       "        <th class=\"col_heading level0 col2\" >Residual</th> \n",
       "        <th class=\"col_heading level0 col3\" >Error</th> \n",
       "        <th class=\"col_heading level0 col4\" >Domain Initialization</th> \n",
       "        <th class=\"col_heading level0 col5\" >Matrix Formation</th> \n",
       "        <th class=\"col_heading level0 col6\" >Hypre Setup</th> \n",
       "        <th class=\"col_heading level0 col7\" >Linear System Setup</th> \n",
       "        <th class=\"col_heading level0 col8\" >Linear Solve</th> \n",
       "        <th class=\"col_heading level0 col9\" >Patch Solve</th> \n",
       "        <th class=\"col_heading level0 col10\" >Complete Solve</th> \n",
       "        <th class=\"col_heading level0 col11\" >Efficiency</th> \n",
       "        <th class=\"col_heading level0 col12\" >Degrees of Freedom Per Time Per Core</th> \n",
       "    </tr></thead> \n",
       "<tbody>    <tr> \n",
       "        <th id=\"T_e2d50bc6_0ee6_11e8_82e4_000c29f4ace4level0_row0\" class=\"row_heading level0 row0\" >0</th> \n",
       "        <td id=\"T_e2d50bc6_0ee6_11e8_82e4_000c29f4ace4row0_col0\" class=\"data row0 col0\" >1</td> \n",
       "        <td id=\"T_e2d50bc6_0ee6_11e8_82e4_000c29f4ace4row0_col1\" class=\"data row0 col1\" >18</td> \n",
       "        <td id=\"T_e2d50bc6_0ee6_11e8_82e4_000c29f4ace4row0_col2\" class=\"data row0 col2\" >2.14e-10</td> \n",
       "        <td id=\"T_e2d50bc6_0ee6_11e8_82e4_000c29f4ace4row0_col3\" class=\"data row0 col3\" >5.75e-05</td> \n",
       "        <td id=\"T_e2d50bc6_0ee6_11e8_82e4_000c29f4ace4row0_col4\" class=\"data row0 col4\" >9.4446</td> \n",
       "        <td id=\"T_e2d50bc6_0ee6_11e8_82e4_000c29f4ace4row0_col5\" class=\"data row0 col5\" >40.0887</td> \n",
       "        <td id=\"T_e2d50bc6_0ee6_11e8_82e4_000c29f4ace4row0_col6\" class=\"data row0 col6\" >30.6903</td> \n",
       "        <td id=\"T_e2d50bc6_0ee6_11e8_82e4_000c29f4ace4row0_col7\" class=\"data row0 col7\" >70.779</td> \n",
       "        <td id=\"T_e2d50bc6_0ee6_11e8_82e4_000c29f4ace4row0_col8\" class=\"data row0 col8\" >126.349</td> \n",
       "        <td id=\"T_e2d50bc6_0ee6_11e8_82e4_000c29f4ace4row0_col9\" class=\"data row0 col9\" >0.987035</td> \n",
       "        <td id=\"T_e2d50bc6_0ee6_11e8_82e4_000c29f4ace4row0_col10\" class=\"data row0 col10\" >127.336</td> \n",
       "        <td id=\"T_e2d50bc6_0ee6_11e8_82e4_000c29f4ace4row0_col11\" class=\"data row0 col11\" >1</td> \n",
       "        <td id=\"T_e2d50bc6_0ee6_11e8_82e4_000c29f4ace4row0_col12\" class=\"data row0 col12\" >267628</td> \n",
       "    </tr>    <tr> \n",
       "        <th id=\"T_e2d50bc6_0ee6_11e8_82e4_000c29f4ace4level0_row1\" class=\"row_heading level0 row1\" >1</th> \n",
       "        <td id=\"T_e2d50bc6_0ee6_11e8_82e4_000c29f4ace4row1_col0\" class=\"data row1 col0\" >2</td> \n",
       "        <td id=\"T_e2d50bc6_0ee6_11e8_82e4_000c29f4ace4row1_col1\" class=\"data row1 col1\" >18</td> \n",
       "        <td id=\"T_e2d50bc6_0ee6_11e8_82e4_000c29f4ace4row1_col2\" class=\"data row1 col2\" >3.22e-10</td> \n",
       "        <td id=\"T_e2d50bc6_0ee6_11e8_82e4_000c29f4ace4row1_col3\" class=\"data row1 col3\" >5.75e-05</td> \n",
       "        <td id=\"T_e2d50bc6_0ee6_11e8_82e4_000c29f4ace4row1_col4\" class=\"data row1 col4\" >5.23059</td> \n",
       "        <td id=\"T_e2d50bc6_0ee6_11e8_82e4_000c29f4ace4row1_col5\" class=\"data row1 col5\" >42.7231</td> \n",
       "        <td id=\"T_e2d50bc6_0ee6_11e8_82e4_000c29f4ace4row1_col6\" class=\"data row1 col6\" >31.2513</td> \n",
       "        <td id=\"T_e2d50bc6_0ee6_11e8_82e4_000c29f4ace4row1_col7\" class=\"data row1 col7\" >73.9744</td> \n",
       "        <td id=\"T_e2d50bc6_0ee6_11e8_82e4_000c29f4ace4row1_col8\" class=\"data row1 col8\" >63.8765</td> \n",
       "        <td id=\"T_e2d50bc6_0ee6_11e8_82e4_000c29f4ace4row1_col9\" class=\"data row1 col9\" >0.550426</td> \n",
       "        <td id=\"T_e2d50bc6_0ee6_11e8_82e4_000c29f4ace4row1_col10\" class=\"data row1 col10\" >64.4269</td> \n",
       "        <td id=\"T_e2d50bc6_0ee6_11e8_82e4_000c29f4ace4row1_col11\" class=\"data row1 col11\" >0.988222</td> \n",
       "        <td id=\"T_e2d50bc6_0ee6_11e8_82e4_000c29f4ace4row1_col12\" class=\"data row1 col12\" >264476</td> \n",
       "    </tr>    <tr> \n",
       "        <th id=\"T_e2d50bc6_0ee6_11e8_82e4_000c29f4ace4level0_row2\" class=\"row_heading level0 row2\" >2</th> \n",
       "        <td id=\"T_e2d50bc6_0ee6_11e8_82e4_000c29f4ace4row2_col0\" class=\"data row2 col0\" >4</td> \n",
       "        <td id=\"T_e2d50bc6_0ee6_11e8_82e4_000c29f4ace4row2_col1\" class=\"data row2 col1\" >17</td> \n",
       "        <td id=\"T_e2d50bc6_0ee6_11e8_82e4_000c29f4ace4row2_col2\" class=\"data row2 col2\" >2.76e-10</td> \n",
       "        <td id=\"T_e2d50bc6_0ee6_11e8_82e4_000c29f4ace4row2_col3\" class=\"data row2 col3\" >5.75e-05</td> \n",
       "        <td id=\"T_e2d50bc6_0ee6_11e8_82e4_000c29f4ace4row2_col4\" class=\"data row2 col4\" >2.69588</td> \n",
       "        <td id=\"T_e2d50bc6_0ee6_11e8_82e4_000c29f4ace4row2_col5\" class=\"data row2 col5\" >81.2467</td> \n",
       "        <td id=\"T_e2d50bc6_0ee6_11e8_82e4_000c29f4ace4row2_col6\" class=\"data row2 col6\" >41.7368</td> \n",
       "        <td id=\"T_e2d50bc6_0ee6_11e8_82e4_000c29f4ace4row2_col7\" class=\"data row2 col7\" >122.983</td> \n",
       "        <td id=\"T_e2d50bc6_0ee6_11e8_82e4_000c29f4ace4row2_col8\" class=\"data row2 col8\" >37.5106</td> \n",
       "        <td id=\"T_e2d50bc6_0ee6_11e8_82e4_000c29f4ace4row2_col9\" class=\"data row2 col9\" >0.318319</td> \n",
       "        <td id=\"T_e2d50bc6_0ee6_11e8_82e4_000c29f4ace4row2_col10\" class=\"data row2 col10\" >37.8302</td> \n",
       "        <td id=\"T_e2d50bc6_0ee6_11e8_82e4_000c29f4ace4row2_col11\" class=\"data row2 col11\" >0.841499</td> \n",
       "        <td id=\"T_e2d50bc6_0ee6_11e8_82e4_000c29f4ace4row2_col12\" class=\"data row2 col12\" >225209</td> \n",
       "    </tr>    <tr> \n",
       "        <th id=\"T_e2d50bc6_0ee6_11e8_82e4_000c29f4ace4level0_row3\" class=\"row_heading level0 row3\" >3</th> \n",
       "        <td id=\"T_e2d50bc6_0ee6_11e8_82e4_000c29f4ace4row3_col0\" class=\"data row3 col0\" >8</td> \n",
       "        <td id=\"T_e2d50bc6_0ee6_11e8_82e4_000c29f4ace4row3_col1\" class=\"data row3 col1\" >17</td> \n",
       "        <td id=\"T_e2d50bc6_0ee6_11e8_82e4_000c29f4ace4row3_col2\" class=\"data row3 col2\" >3.64e-10</td> \n",
       "        <td id=\"T_e2d50bc6_0ee6_11e8_82e4_000c29f4ace4row3_col3\" class=\"data row3 col3\" >5.75e-05</td> \n",
       "        <td id=\"T_e2d50bc6_0ee6_11e8_82e4_000c29f4ace4row3_col4\" class=\"data row3 col4\" >1.38713</td> \n",
       "        <td id=\"T_e2d50bc6_0ee6_11e8_82e4_000c29f4ace4row3_col5\" class=\"data row3 col5\" >156.359</td> \n",
       "        <td id=\"T_e2d50bc6_0ee6_11e8_82e4_000c29f4ace4row3_col6\" class=\"data row3 col6\" >64.0581</td> \n",
       "        <td id=\"T_e2d50bc6_0ee6_11e8_82e4_000c29f4ace4row3_col7\" class=\"data row3 col7\" >220.417</td> \n",
       "        <td id=\"T_e2d50bc6_0ee6_11e8_82e4_000c29f4ace4row3_col8\" class=\"data row3 col8\" >24.7683</td> \n",
       "        <td id=\"T_e2d50bc6_0ee6_11e8_82e4_000c29f4ace4row3_col9\" class=\"data row3 col9\" >0.190972</td> \n",
       "        <td id=\"T_e2d50bc6_0ee6_11e8_82e4_000c29f4ace4row3_col10\" class=\"data row3 col10\" >24.967</td> \n",
       "        <td id=\"T_e2d50bc6_0ee6_11e8_82e4_000c29f4ace4row3_col11\" class=\"data row3 col11\" >0.637522</td> \n",
       "        <td id=\"T_e2d50bc6_0ee6_11e8_82e4_000c29f4ace4row3_col12\" class=\"data row3 col12\" >170619</td> \n",
       "    </tr>    <tr> \n",
       "        <th id=\"T_e2d50bc6_0ee6_11e8_82e4_000c29f4ace4level0_row4\" class=\"row_heading level0 row4\" >4</th> \n",
       "        <td id=\"T_e2d50bc6_0ee6_11e8_82e4_000c29f4ace4row4_col0\" class=\"data row4 col0\" >16</td> \n",
       "        <td id=\"T_e2d50bc6_0ee6_11e8_82e4_000c29f4ace4row4_col1\" class=\"data row4 col1\" >17</td> \n",
       "        <td id=\"T_e2d50bc6_0ee6_11e8_82e4_000c29f4ace4row4_col2\" class=\"data row4 col2\" >3.49e-10</td> \n",
       "        <td id=\"T_e2d50bc6_0ee6_11e8_82e4_000c29f4ace4row4_col3\" class=\"data row4 col3\" >5.75e-05</td> \n",
       "        <td id=\"T_e2d50bc6_0ee6_11e8_82e4_000c29f4ace4row4_col4\" class=\"data row4 col4\" >0.751624</td> \n",
       "        <td id=\"T_e2d50bc6_0ee6_11e8_82e4_000c29f4ace4row4_col5\" class=\"data row4 col5\" >361.378</td> \n",
       "        <td id=\"T_e2d50bc6_0ee6_11e8_82e4_000c29f4ace4row4_col6\" class=\"data row4 col6\" >44.8663</td> \n",
       "        <td id=\"T_e2d50bc6_0ee6_11e8_82e4_000c29f4ace4row4_col7\" class=\"data row4 col7\" >406.245</td> \n",
       "        <td id=\"T_e2d50bc6_0ee6_11e8_82e4_000c29f4ace4row4_col8\" class=\"data row4 col8\" >19.0831</td> \n",
       "        <td id=\"T_e2d50bc6_0ee6_11e8_82e4_000c29f4ace4row4_col9\" class=\"data row4 col9\" >0.137895</td> \n",
       "        <td id=\"T_e2d50bc6_0ee6_11e8_82e4_000c29f4ace4row4_col10\" class=\"data row4 col10\" >19.2213</td> \n",
       "        <td id=\"T_e2d50bc6_0ee6_11e8_82e4_000c29f4ace4row4_col11\" class=\"data row4 col11\" >0.414046</td> \n",
       "        <td id=\"T_e2d50bc6_0ee6_11e8_82e4_000c29f4ace4row4_col12\" class=\"data row4 col12\" >110810</td> \n",
       "    </tr>    <tr> \n",
       "        <th id=\"T_e2d50bc6_0ee6_11e8_82e4_000c29f4ace4level0_row5\" class=\"row_heading level0 row5\" >5</th> \n",
       "        <td id=\"T_e2d50bc6_0ee6_11e8_82e4_000c29f4ace4row5_col0\" class=\"data row5 col0\" >32</td> \n",
       "        <td id=\"T_e2d50bc6_0ee6_11e8_82e4_000c29f4ace4row5_col1\" class=\"data row5 col1\" >17</td> \n",
       "        <td id=\"T_e2d50bc6_0ee6_11e8_82e4_000c29f4ace4row5_col2\" class=\"data row5 col2\" >3.05e-10</td> \n",
       "        <td id=\"T_e2d50bc6_0ee6_11e8_82e4_000c29f4ace4row5_col3\" class=\"data row5 col3\" >5.75e-05</td> \n",
       "        <td id=\"T_e2d50bc6_0ee6_11e8_82e4_000c29f4ace4row5_col4\" class=\"data row5 col4\" >0.345309</td> \n",
       "        <td id=\"T_e2d50bc6_0ee6_11e8_82e4_000c29f4ace4row5_col5\" class=\"data row5 col5\" >1.00412</td> \n",
       "        <td id=\"T_e2d50bc6_0ee6_11e8_82e4_000c29f4ace4row5_col6\" class=\"data row5 col6\" >1.46523</td> \n",
       "        <td id=\"T_e2d50bc6_0ee6_11e8_82e4_000c29f4ace4row5_col7\" class=\"data row5 col7\" >2.46942</td> \n",
       "        <td id=\"T_e2d50bc6_0ee6_11e8_82e4_000c29f4ace4row5_col8\" class=\"data row5 col8\" >18.4243</td> \n",
       "        <td id=\"T_e2d50bc6_0ee6_11e8_82e4_000c29f4ace4row5_col9\" class=\"data row5 col9\" >0.0932486</td> \n",
       "        <td id=\"T_e2d50bc6_0ee6_11e8_82e4_000c29f4ace4row5_col10\" class=\"data row5 col10\" >18.5242</td> \n",
       "        <td id=\"T_e2d50bc6_0ee6_11e8_82e4_000c29f4ace4row5_col11\" class=\"data row5 col11\" >0.214814</td> \n",
       "        <td id=\"T_e2d50bc6_0ee6_11e8_82e4_000c29f4ace4row5_col12\" class=\"data row5 col12\" >57490.3</td> \n",
       "    </tr>    <tr> \n",
       "        <th id=\"T_e2d50bc6_0ee6_11e8_82e4_000c29f4ace4level0_row6\" class=\"row_heading level0 row6\" >6</th> \n",
       "        <td id=\"T_e2d50bc6_0ee6_11e8_82e4_000c29f4ace4row6_col0\" class=\"data row6 col0\" >64</td> \n",
       "        <td id=\"T_e2d50bc6_0ee6_11e8_82e4_000c29f4ace4row6_col1\" class=\"data row6 col1\" >17</td> \n",
       "        <td id=\"T_e2d50bc6_0ee6_11e8_82e4_000c29f4ace4row6_col2\" class=\"data row6 col2\" >3.60e-10</td> \n",
       "        <td id=\"T_e2d50bc6_0ee6_11e8_82e4_000c29f4ace4row6_col3\" class=\"data row6 col3\" >5.75e-05</td> \n",
       "        <td id=\"T_e2d50bc6_0ee6_11e8_82e4_000c29f4ace4row6_col4\" class=\"data row6 col4\" >0.180251</td> \n",
       "        <td id=\"T_e2d50bc6_0ee6_11e8_82e4_000c29f4ace4row6_col5\" class=\"data row6 col5\" >0.538823</td> \n",
       "        <td id=\"T_e2d50bc6_0ee6_11e8_82e4_000c29f4ace4row6_col6\" class=\"data row6 col6\" >3.96143</td> \n",
       "        <td id=\"T_e2d50bc6_0ee6_11e8_82e4_000c29f4ace4row6_col7\" class=\"data row6 col7\" >4.50033</td> \n",
       "        <td id=\"T_e2d50bc6_0ee6_11e8_82e4_000c29f4ace4row6_col8\" class=\"data row6 col8\" >8.08365</td> \n",
       "        <td id=\"T_e2d50bc6_0ee6_11e8_82e4_000c29f4ace4row6_col9\" class=\"data row6 col9\" >0.0663817</td> \n",
       "        <td id=\"T_e2d50bc6_0ee6_11e8_82e4_000c29f4ace4row6_col10\" class=\"data row6 col10\" >8.1565</td> \n",
       "        <td id=\"T_e2d50bc6_0ee6_11e8_82e4_000c29f4ace4row6_col11\" class=\"data row6 col11\" >0.243932</td> \n",
       "        <td id=\"T_e2d50bc6_0ee6_11e8_82e4_000c29f4ace4row6_col12\" class=\"data row6 col12\" >65282.9</td> \n",
       "    </tr></tbody> \n",
       "</table> "
      ],
      "text/plain": [
       "<pandas.io.formats.style.Styler at 0x7fe7671a1da0>"
      ]
     },
     "execution_count": 8,
     "metadata": {},
     "output_type": "execute_result"
    }
   ],
   "source": [
    "DOF = 34078720\n",
    "Petsc_Hypre_Schur_Cores = np.array([1,2,4,8,16,32,64])\n",
    "Petsc_Hypre_Schur_Iterations = np.array([18,18,17,17,17,17,17])\n",
    "Petsc_Hypre_Schur_Residual = np.array([2.1422726188584e-10,3.2161565985030e-10,2.7612674597579e-10,3.6429603151764e-10,\n",
    "                                      3.4940500168352e-10,3.0469687491220e-10,3.5977521713133e-10])\n",
    "Petsc_Hypre_Schur_Error = np.array([5.7477238317432e-05,5.7477239548413e-05,5.7477238637187e-05,5.7477238433841e-05,\n",
    "                                   5.7477238995146e-05,5.7477239111240e-05,5.7477239589618e-05])\n",
    "Petsc_Hypre_Schur_Domain = np.array([9.4445950346,5.2305916603,2.6958817151,1.3871310527,0.7516239067,0.3453087533,\n",
    "                                    0.1802511932])\n",
    "Petsc_Hypre_Schur_Matrix = np.array([40.0887125916,42.7230843016,81.2467002987,156.3588543868,361.3782361214,\n",
    "                                    1.0041248196,0.5388229892])\n",
    "Petsc_Hypre_Schur_Petsc = np.array([30.6902516082,31.2512701374,41.7367549559,64.0581156817,44.866301632,1.4652302183,\n",
    "                                   3.961427355])\n",
    "Petsc_Hypre_Schur_LSS = np.array([70.7789770334,73.9743770872,122.9834756936,220.416994944,406.2445835313,2.4694171135,\n",
    "                                 4.5003341666])\n",
    "Petsc_Hypre_Schur_LinS = np.array([126.3492145385,63.8764787061,37.5105962078,24.7682500331,19.0830590801,18.4242870962,\n",
    "                                  8.0836519599])\n",
    "Petsc_Hypre_Schur_PatS = np.array([0.9870345647,0.550425772,0.3183192302,0.1909717065,0.1378947459,0.0932485796,\n",
    "                                  0.0663816566])\n",
    "Petsc_Hypre_Schur_CS = np.array([127.3362603822,64.4269330189,37.83016898,24.9670273807,19.221335037,18.5241706263,\n",
    "                                8.1564960435])\n",
    "Petsc_Hypre_Schur_DegF = (DOF)/Petsc_Hypre_Schur_CS/Petsc_Hypre_Schur_Cores\n",
    "Petsc_Hypre_Schur_Eff = Petsc_Hypre_Schur_CS[0]/(Petsc_Hypre_Schur_CS*Petsc_Hypre_Schur_Cores)\n",
    "\n",
    "d = {\"Cores\": Petsc_Hypre_Schur_Cores,\"Iterations\": Petsc_Hypre_Schur_Iterations,\"Residual\": Petsc_Hypre_Schur_Residual,\n",
    "    \"Error\": Petsc_Hypre_Schur_Error,\"Domain Initialization\": Petsc_Hypre_Schur_Domain,\"Matrix Formation\": Petsc_Hypre_Schur_Matrix,\n",
    "    \"Hypre Setup\": Petsc_Hypre_Schur_Petsc,\"Linear System Setup\": Petsc_Hypre_Schur_LSS,\"Linear Solve\": Petsc_Hypre_Schur_LinS,\n",
    "    \"Patch Solve\": Petsc_Hypre_Schur_PatS,\"Complete Solve\": Petsc_Hypre_Schur_CS,\"Efficiency\": Petsc_Hypre_Schur_Eff,\n",
    "     \"Degrees of Freedom Per Time Per Core\": Petsc_Hypre_Schur_DegF}\n",
    "df3 =  pd.DataFrame(data = d)\n",
    "df3 = df3[[\"Cores\",\"Iterations\",\"Residual\",\"Error\",\"Domain Initialization\",\"Matrix Formation\",\"Hypre Setup\",\n",
    "         \"Linear System Setup\",\"Linear Solve\",\"Patch Solve\",\"Complete Solve\",\"Efficiency\",\"Degrees of Freedom Per Time Per Core\"]]\n",
    "nform = {\"Error\" : \"{:6.2e}\".format, \"Residual\" : \"{:6.2e}\".format}\n",
    "\n",
    "df3.style.set_caption(\"Degrees of freedom {:,}\".format(DOF)).background_gradient(cmap=cm).format(nform)\n",
    "# display(HTML(df1.to_html(index=False)))"
   ]
  },
  {
   "cell_type": "code",
   "execution_count": 9,
   "metadata": {},
   "outputs": [
    {
     "data": {
      "text/plain": [
       "<function matplotlib.pyplot.show>"
      ]
     },
     "execution_count": 9,
     "metadata": {},
     "output_type": "execute_result"
    },
    {
     "data": {
      "image/png": "[encoded data removed]",
      "text/plain": [
       "<matplotlib.figure.Figure at 0x7fe767217b70>"
      ]
     },
     "metadata": {},
     "output_type": "display_data"
    }
   ],
   "source": [
    "x = Petsc_Hypre_Schur_Cores\n",
    "y = Petsc_Hypre_Schur_CS\n",
    "\n",
    "\n",
    "plt.plot(x,y,\"bo-\",label=\"Hypre (Schur matrix)\")\n",
    "plt.yscale(\"log\")\n",
    "plt.xscale(\"log\")\n",
    "plt.ylabel(\"Complete Solve Time (s)\")\n",
    "plt.xlabel(\"Number of Cores\")\n",
    "plt.title(\"Schur Matrix with 4 level mesh using Hypre\")\n",
    "\n",
    "c = np.polyfit(np.log(x),np.log(y),1)\n",
    "#  c = np.polyfit(np.log(x[:-2]),np.log(y[-2]),1)\n",
    "#  Take out points for slope\n",
    "\n",
    "s = \"Best-fit (slope = {:6.2f})\".format(c[0])\n",
    "plt.loglog(x,np.exp(np.polyval(c,np.log(x))),'k--',label=s)\n",
    "\n",
    "ct = np.array([-1,c[1]])\n",
    "plt.loglog(x,np.exp(np.polyval(ct,np.log(x))),'.-',label=\"Theoretical\",color='k',markersize=10)\n",
    "\n",
    "\n",
    "plt.legend()\n",
    "plt.show"
   ]
  },
  {
   "cell_type": "code",
   "execution_count": 10,
   "metadata": {},
   "outputs": [
    {
     "data": {
      "text/plain": [
       "<matplotlib.legend.Legend at 0x7fe767040f60>"
      ]
     },
     "execution_count": 10,
     "metadata": {},
     "output_type": "execute_result"
    },
    {
     "data": {
      "image/png": "[encoded data removed]",
      "text/plain": [
       "<matplotlib.figure.Figure at 0x7fe76709a0b8>"
      ]
     },
     "metadata": {},
     "output_type": "display_data"
    }
   ],
   "source": [
    "plt.plot(Petsc_Hypre_Schur_Cores,Petsc_Hypre_Schur_DegF,\"ro-\",label=\"Full\")\n",
    "plt.ylabel(\"Degrees of Freedom Per Time Per Core\")\n",
    "plt.xlabel(\"Number of Cores\")\n",
    "plt.title(\"Schur Matrix with 4 level mesh using Hypre\")\n",
    "plt.legend()"
   ]
  },
  {
   "cell_type": "markdown",
   "metadata": {
    "collapsed": true
   },
   "source": [
    "# Comparison of Full vs Schur solve"
   ]
  },
  {
   "cell_type": "code",
   "execution_count": 12,
   "metadata": {},
   "outputs": [
    {
     "name": "stderr",
     "output_type": "stream",
     "text": [
      "/home/brenton/anaconda3/lib/python3.6/site-packages/numpy/lib/polynomial.py:584: RuntimeWarning: invalid value encountered in true_divide\n",
      "  lhs /= scale\n",
      "/home/brenton/anaconda3/lib/python3.6/site-packages/numpy/lib/polynomial.py:586: RuntimeWarning: divide by zero encountered in true_divide\n",
      "  c = (c.T/scale).T  # broadcast scale coefficients\n",
      "/home/brenton/anaconda3/lib/python3.6/site-packages/ipykernel_launcher.py:15: RankWarning: Polyfit may be poorly conditioned\n",
      "  from ipykernel import kernelapp as app\n",
      "/home/brenton/anaconda3/lib/python3.6/site-packages/numpy/lib/polynomial.py:680: RuntimeWarning: invalid value encountered in multiply\n",
      "  y = y * x + p[i]\n"
     ]
    },
    {
     "data": {
      "text/plain": [
       "<function matplotlib.pyplot.show>"
      ]
     },
     "execution_count": 12,
     "metadata": {},
     "output_type": "execute_result"
    },
    {
     "data": {
      "image/png": "[encoded data removed]",
      "text/plain": [
       "<matplotlib.figure.Figure at 0x7fe766e7c160>"
      ]
     },
     "metadata": {},
     "output_type": "display_data"
    }
   ],
   "source": [
    "xf = Petsc_Hypre_Full_Cores\n",
    "yf = Petsc_Hypre_Full_CS\n",
    "xs = Petsc_Hypre_Schur_Cores\n",
    "ys = Petsc_Hypre_Schur_CS\n",
    "\n",
    "\n",
    "plt.plot(xf,yf,\"ro-\",label=\"Hypre (Full matrix)\")\n",
    "plt.plot(xs,ys,\"bo-\",label=\"Hypre (Schur matrix)\")\n",
    "plt.yscale(\"log\")\n",
    "plt.xscale(\"log\")\n",
    "plt.ylabel(\"Complete Solve Time (s)\")\n",
    "plt.xlabel(\"Number of Cores\")\n",
    "plt.title(\"Schur vs Full Matrix with 4 level mesh using Hypre\")\n",
    "\n",
    "cf = np.polyfit(np.log(xf),np.log(yf),1)\n",
    "cs = np.polyfit(np.log(xs),np.log(ys),1)\n",
    "#  c = np.polyfit(np.log(x[:-2]),np.log(y[-2]),1)\n",
    "#  Take out points for slope\n",
    "\n",
    "sf = \"Best-fit (slope = {:6.2f})\".format(cf[0])\n",
    "ss = \"Best-fit (slope = {:6.2f})\".format(cs[0])\n",
    "plt.loglog(xf,np.exp(np.polyval(cf,np.log(xf))),'k--',label=sf)\n",
    "plt.loglog(xs,np.exp(np.polyval(cs,np.log(xs))),'k--',label=ss)\n",
    "\n",
    "\n",
    "plt.legend()\n",
    "plt.show"
   ]
  },
  {
   "cell_type": "code",
   "execution_count": null,
   "metadata": {
    "collapsed": true
   },
   "outputs": [],
   "source": []
  }
 ],
 "metadata": {
  "kernelspec": {
   "display_name": "Python 3",
   "language": "python",
   "name": "python3"
  },
  "language_info": {
   "codemirror_mode": {
    "name": "ipython",
    "version": 3
   },
   "file_extension": ".py",
   "mimetype": "text/x-python",
   "name": "python",
   "nbconvert_exporter": "python",
   "pygments_lexer": "ipython3",
   "version": "3.6.3"
  }
 },
 "nbformat": 4,
 "nbformat_minor": 2
}
