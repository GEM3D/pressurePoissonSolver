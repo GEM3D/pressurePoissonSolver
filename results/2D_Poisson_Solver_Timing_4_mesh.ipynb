{
 "cells": [
  {
   "cell_type": "markdown",
   "metadata": {},
   "source": [
    "# Timing results for 2D Pressure Poisson Solver\n",
    "These are the results for the different methods of solving this matrix on a 4 level mesh."
   ]
  },
  {
   "cell_type": "code",
   "execution_count": 7,
   "metadata": {
    "collapsed": true
   },
   "outputs": [],
   "source": [
    "%matplotlib inline\n",
    "import numpy as np\n",
    "import pandas as pd\n",
    "import matplotlib.pyplot as plt\n",
    "from IPython.display import display, HTML\n",
    "import seaborn as sns\n",
    "cm = sns.light_palette(\"green\", as_cmap=True)"
   ]
  },
  {
   "cell_type": "markdown",
   "metadata": {},
   "source": [
    "# Full Matrix with Hypre (1)\n",
    "This section is the timing results for solving the full matrix with a 4 level mesh using Hypre. This matrix has 2,129,920 degrees of freedom. This was solved using the option divide 2."
   ]
  },
  {
   "cell_type": "code",
   "execution_count": 6,
   "metadata": {},
   "outputs": [
    {
     "data": {
      "text/html": [
       "<style  type=\"text/css\" >\n",
       "    #T_4a564180_0ed7_11e8_82e4_000c29f4ace4row0_col0 {\n",
       "            background-color:  #e5ffe5;\n",
       "        }    #T_4a564180_0ed7_11e8_82e4_000c29f4ace4row0_col1 {\n",
       "            background-color:  #008000;\n",
       "        }    #T_4a564180_0ed7_11e8_82e4_000c29f4ace4row0_col2 {\n",
       "            background-color:  #2e992e;\n",
       "        }    #T_4a564180_0ed7_11e8_82e4_000c29f4ace4row0_col3 {\n",
       "            background-color:  #008000;\n",
       "        }    #T_4a564180_0ed7_11e8_82e4_000c29f4ace4row0_col4 {\n",
       "            background-color:  #008000;\n",
       "        }    #T_4a564180_0ed7_11e8_82e4_000c29f4ace4row0_col5 {\n",
       "            background-color:  #008000;\n",
       "        }    #T_4a564180_0ed7_11e8_82e4_000c29f4ace4row0_col6 {\n",
       "            background-color:  #d5f6d5;\n",
       "        }    #T_4a564180_0ed7_11e8_82e4_000c29f4ace4row0_col7 {\n",
       "            background-color:  #cff3cf;\n",
       "        }    #T_4a564180_0ed7_11e8_82e4_000c29f4ace4row0_col8 {\n",
       "            background-color:  #008000;\n",
       "        }    #T_4a564180_0ed7_11e8_82e4_000c29f4ace4row0_col9 {\n",
       "            background-color:  #008000;\n",
       "        }    #T_4a564180_0ed7_11e8_82e4_000c29f4ace4row0_col10 {\n",
       "            background-color:  #008000;\n",
       "        }    #T_4a564180_0ed7_11e8_82e4_000c29f4ace4row0_col11 {\n",
       "            background-color:  #008000;\n",
       "        }    #T_4a564180_0ed7_11e8_82e4_000c29f4ace4row1_col0 {\n",
       "            background-color:  #e2fde2;\n",
       "        }    #T_4a564180_0ed7_11e8_82e4_000c29f4ace4row1_col1 {\n",
       "            background-color:  #72bf72;\n",
       "        }    #T_4a564180_0ed7_11e8_82e4_000c29f4ace4row1_col2 {\n",
       "            background-color:  #c6eec6;\n",
       "        }    #T_4a564180_0ed7_11e8_82e4_000c29f4ace4row1_col3 {\n",
       "            background-color:  #008000;\n",
       "        }    #T_4a564180_0ed7_11e8_82e4_000c29f4ace4row1_col4 {\n",
       "            background-color:  #6cbc6c;\n",
       "        }    #T_4a564180_0ed7_11e8_82e4_000c29f4ace4row1_col5 {\n",
       "            background-color:  #51ad51;\n",
       "        }    #T_4a564180_0ed7_11e8_82e4_000c29f4ace4row1_col6 {\n",
       "            background-color:  #008000;\n",
       "        }    #T_4a564180_0ed7_11e8_82e4_000c29f4ace4row1_col7 {\n",
       "            background-color:  #008000;\n",
       "        }    #T_4a564180_0ed7_11e8_82e4_000c29f4ace4row1_col8 {\n",
       "            background-color:  #78c278;\n",
       "        }    #T_4a564180_0ed7_11e8_82e4_000c29f4ace4row1_col9 {\n",
       "            background-color:  #78c278;\n",
       "        }    #T_4a564180_0ed7_11e8_82e4_000c29f4ace4row1_col10 {\n",
       "            background-color:  #3ca13c;\n",
       "        }    #T_4a564180_0ed7_11e8_82e4_000c29f4ace4row1_col11 {\n",
       "            background-color:  #3ca13c;\n",
       "        }    #T_4a564180_0ed7_11e8_82e4_000c29f4ace4row2_col0 {\n",
       "            background-color:  #dbf9db;\n",
       "        }    #T_4a564180_0ed7_11e8_82e4_000c29f4ace4row2_col1 {\n",
       "            background-color:  #72bf72;\n",
       "        }    #T_4a564180_0ed7_11e8_82e4_000c29f4ace4row2_col2 {\n",
       "            background-color:  #a5dba5;\n",
       "        }    #T_4a564180_0ed7_11e8_82e4_000c29f4ace4row2_col3 {\n",
       "            background-color:  #008000;\n",
       "        }    #T_4a564180_0ed7_11e8_82e4_000c29f4ace4row2_col4 {\n",
       "            background-color:  #b0e1b0;\n",
       "        }    #T_4a564180_0ed7_11e8_82e4_000c29f4ace4row2_col5 {\n",
       "            background-color:  #9bd69b;\n",
       "        }    #T_4a564180_0ed7_11e8_82e4_000c29f4ace4row2_col6 {\n",
       "            background-color:  #73c073;\n",
       "        }    #T_4a564180_0ed7_11e8_82e4_000c29f4ace4row2_col7 {\n",
       "            background-color:  #73c073;\n",
       "        }    #T_4a564180_0ed7_11e8_82e4_000c29f4ace4row2_col8 {\n",
       "            background-color:  #abdfab;\n",
       "        }    #T_4a564180_0ed7_11e8_82e4_000c29f4ace4row2_col9 {\n",
       "            background-color:  #abdfab;\n",
       "        }    #T_4a564180_0ed7_11e8_82e4_000c29f4ace4row2_col10 {\n",
       "            background-color:  #7ec67e;\n",
       "        }    #T_4a564180_0ed7_11e8_82e4_000c29f4ace4row2_col11 {\n",
       "            background-color:  #7ec67e;\n",
       "        }    #T_4a564180_0ed7_11e8_82e4_000c29f4ace4row3_col0 {\n",
       "            background-color:  #ccf1cc;\n",
       "        }    #T_4a564180_0ed7_11e8_82e4_000c29f4ace4row3_col1 {\n",
       "            background-color:  #72bf72;\n",
       "        }    #T_4a564180_0ed7_11e8_82e4_000c29f4ace4row3_col2 {\n",
       "            background-color:  #008000;\n",
       "        }    #T_4a564180_0ed7_11e8_82e4_000c29f4ace4row3_col3 {\n",
       "            background-color:  #e5ffe5;\n",
       "        }    #T_4a564180_0ed7_11e8_82e4_000c29f4ace4row3_col4 {\n",
       "            background-color:  #d0f3d0;\n",
       "        }    #T_4a564180_0ed7_11e8_82e4_000c29f4ace4row3_col5 {\n",
       "            background-color:  #c2ecc2;\n",
       "        }    #T_4a564180_0ed7_11e8_82e4_000c29f4ace4row3_col6 {\n",
       "            background-color:  #bfeabf;\n",
       "        }    #T_4a564180_0ed7_11e8_82e4_000c29f4ace4row3_col7 {\n",
       "            background-color:  #bee9be;\n",
       "        }    #T_4a564180_0ed7_11e8_82e4_000c29f4ace4row3_col8 {\n",
       "            background-color:  #b1e2b1;\n",
       "        }    #T_4a564180_0ed7_11e8_82e4_000c29f4ace4row3_col9 {\n",
       "            background-color:  #b1e2b1;\n",
       "        }    #T_4a564180_0ed7_11e8_82e4_000c29f4ace4row3_col10 {\n",
       "            background-color:  #b5e4b5;\n",
       "        }    #T_4a564180_0ed7_11e8_82e4_000c29f4ace4row3_col11 {\n",
       "            background-color:  #b5e4b5;\n",
       "        }    #T_4a564180_0ed7_11e8_82e4_000c29f4ace4row4_col0 {\n",
       "            background-color:  #b0e1b0;\n",
       "        }    #T_4a564180_0ed7_11e8_82e4_000c29f4ace4row4_col1 {\n",
       "            background-color:  #e5ffe5;\n",
       "        }    #T_4a564180_0ed7_11e8_82e4_000c29f4ace4row4_col2 {\n",
       "            background-color:  #2e992e;\n",
       "        }    #T_4a564180_0ed7_11e8_82e4_000c29f4ace4row4_col3 {\n",
       "            background-color:  #008000;\n",
       "        }    #T_4a564180_0ed7_11e8_82e4_000c29f4ace4row4_col4 {\n",
       "            background-color:  #e0fce0;\n",
       "        }    #T_4a564180_0ed7_11e8_82e4_000c29f4ace4row4_col5 {\n",
       "            background-color:  #d6f7d6;\n",
       "        }    #T_4a564180_0ed7_11e8_82e4_000c29f4ace4row4_col6 {\n",
       "            background-color:  #dcfadc;\n",
       "        }    #T_4a564180_0ed7_11e8_82e4_000c29f4ace4row4_col7 {\n",
       "            background-color:  #dcfadc;\n",
       "        }    #T_4a564180_0ed7_11e8_82e4_000c29f4ace4row4_col8 {\n",
       "            background-color:  #b8e6b8;\n",
       "        }    #T_4a564180_0ed7_11e8_82e4_000c29f4ace4row4_col9 {\n",
       "            background-color:  #b8e6b8;\n",
       "        }    #T_4a564180_0ed7_11e8_82e4_000c29f4ace4row4_col10 {\n",
       "            background-color:  #d2f4d2;\n",
       "        }    #T_4a564180_0ed7_11e8_82e4_000c29f4ace4row4_col11 {\n",
       "            background-color:  #d2f4d2;\n",
       "        }    #T_4a564180_0ed7_11e8_82e4_000c29f4ace4row5_col0 {\n",
       "            background-color:  #75c175;\n",
       "        }    #T_4a564180_0ed7_11e8_82e4_000c29f4ace4row5_col1 {\n",
       "            background-color:  #72bf72;\n",
       "        }    #T_4a564180_0ed7_11e8_82e4_000c29f4ace4row5_col2 {\n",
       "            background-color:  #078407;\n",
       "        }    #T_4a564180_0ed7_11e8_82e4_000c29f4ace4row5_col3 {\n",
       "            background-color:  #008000;\n",
       "        }    #T_4a564180_0ed7_11e8_82e4_000c29f4ace4row5_col4 {\n",
       "            background-color:  #e0fce0;\n",
       "        }    #T_4a564180_0ed7_11e8_82e4_000c29f4ace4row5_col5 {\n",
       "            background-color:  #e1fde1;\n",
       "        }    #T_4a564180_0ed7_11e8_82e4_000c29f4ace4row5_col6 {\n",
       "            background-color:  #e5ffe5;\n",
       "        }    #T_4a564180_0ed7_11e8_82e4_000c29f4ace4row5_col7 {\n",
       "            background-color:  #e5ffe5;\n",
       "        }    #T_4a564180_0ed7_11e8_82e4_000c29f4ace4row5_col8 {\n",
       "            background-color:  #e4fee4;\n",
       "        }    #T_4a564180_0ed7_11e8_82e4_000c29f4ace4row5_col9 {\n",
       "            background-color:  #e3fee3;\n",
       "        }    #T_4a564180_0ed7_11e8_82e4_000c29f4ace4row5_col10 {\n",
       "            background-color:  #dcfadc;\n",
       "        }    #T_4a564180_0ed7_11e8_82e4_000c29f4ace4row5_col11 {\n",
       "            background-color:  #dcfadc;\n",
       "        }    #T_4a564180_0ed7_11e8_82e4_000c29f4ace4row6_col0 {\n",
       "            background-color:  #008000;\n",
       "        }    #T_4a564180_0ed7_11e8_82e4_000c29f4ace4row6_col1 {\n",
       "            background-color:  #72bf72;\n",
       "        }    #T_4a564180_0ed7_11e8_82e4_000c29f4ace4row6_col2 {\n",
       "            background-color:  #e5ffe5;\n",
       "        }    #T_4a564180_0ed7_11e8_82e4_000c29f4ace4row6_col3 {\n",
       "            background-color:  #008000;\n",
       "        }    #T_4a564180_0ed7_11e8_82e4_000c29f4ace4row6_col4 {\n",
       "            background-color:  #e5ffe5;\n",
       "        }    #T_4a564180_0ed7_11e8_82e4_000c29f4ace4row6_col5 {\n",
       "            background-color:  #e5ffe5;\n",
       "        }    #T_4a564180_0ed7_11e8_82e4_000c29f4ace4row6_col6 {\n",
       "            background-color:  #e5ffe5;\n",
       "        }    #T_4a564180_0ed7_11e8_82e4_000c29f4ace4row6_col7 {\n",
       "            background-color:  #e5ffe5;\n",
       "        }    #T_4a564180_0ed7_11e8_82e4_000c29f4ace4row6_col8 {\n",
       "            background-color:  #e5ffe5;\n",
       "        }    #T_4a564180_0ed7_11e8_82e4_000c29f4ace4row6_col9 {\n",
       "            background-color:  #e5ffe5;\n",
       "        }    #T_4a564180_0ed7_11e8_82e4_000c29f4ace4row6_col10 {\n",
       "            background-color:  #e5ffe5;\n",
       "        }    #T_4a564180_0ed7_11e8_82e4_000c29f4ace4row6_col11 {\n",
       "            background-color:  #e5ffe5;\n",
       "        }</style>  \n",
       "<table id=\"T_4a564180_0ed7_11e8_82e4_000c29f4ace4\" ><caption>Degrees of freedom 2129920</caption> \n",
       "<thead>    <tr> \n",
       "        <th class=\"blank level0\" ></th> \n",
       "        <th class=\"col_heading level0 col0\" >Cores</th> \n",
       "        <th class=\"col_heading level0 col1\" >Iterations</th> \n",
       "        <th class=\"col_heading level0 col2\" >Residual</th> \n",
       "        <th class=\"col_heading level0 col3\" >Error</th> \n",
       "        <th class=\"col_heading level0 col4\" >Domain Initialization</th> \n",
       "        <th class=\"col_heading level0 col5\" >Matrix Formation</th> \n",
       "        <th class=\"col_heading level0 col6\" >Hypre Setup</th> \n",
       "        <th class=\"col_heading level0 col7\" >Linear System Setup</th> \n",
       "        <th class=\"col_heading level0 col8\" >Linear Solve</th> \n",
       "        <th class=\"col_heading level0 col9\" >Complete Solve</th> \n",
       "        <th class=\"col_heading level0 col10\" >Efficiency</th> \n",
       "        <th class=\"col_heading level0 col11\" >Degrees of Freedom Per Time Per Core</th> \n",
       "    </tr></thead> \n",
       "<tbody>    <tr> \n",
       "        <th id=\"T_4a564180_0ed7_11e8_82e4_000c29f4ace4level0_row0\" class=\"row_heading level0 row0\" >0</th> \n",
       "        <td id=\"T_4a564180_0ed7_11e8_82e4_000c29f4ace4row0_col0\" class=\"data row0 col0\" >1</td> \n",
       "        <td id=\"T_4a564180_0ed7_11e8_82e4_000c29f4ace4row0_col1\" class=\"data row0 col1\" >25</td> \n",
       "        <td id=\"T_4a564180_0ed7_11e8_82e4_000c29f4ace4row0_col2\" class=\"data row0 col2\" >7.80e-11</td> \n",
       "        <td id=\"T_4a564180_0ed7_11e8_82e4_000c29f4ace4row0_col3\" class=\"data row0 col3\" >9.23e-04</td> \n",
       "        <td id=\"T_4a564180_0ed7_11e8_82e4_000c29f4ace4row0_col4\" class=\"data row0 col4\" >0.577176</td> \n",
       "        <td id=\"T_4a564180_0ed7_11e8_82e4_000c29f4ace4row0_col5\" class=\"data row0 col5\" >0.787835</td> \n",
       "        <td id=\"T_4a564180_0ed7_11e8_82e4_000c29f4ace4row0_col6\" class=\"data row0 col6\" >2.53634</td> \n",
       "        <td id=\"T_4a564180_0ed7_11e8_82e4_000c29f4ace4row0_col7\" class=\"data row0 col7\" >3.32418</td> \n",
       "        <td id=\"T_4a564180_0ed7_11e8_82e4_000c29f4ace4row0_col8\" class=\"data row0 col8\" >16.0625</td> \n",
       "        <td id=\"T_4a564180_0ed7_11e8_82e4_000c29f4ace4row0_col9\" class=\"data row0 col9\" >16.0625</td> \n",
       "        <td id=\"T_4a564180_0ed7_11e8_82e4_000c29f4ace4row0_col10\" class=\"data row0 col10\" >1</td> \n",
       "        <td id=\"T_4a564180_0ed7_11e8_82e4_000c29f4ace4row0_col11\" class=\"data row0 col11\" >132602</td> \n",
       "    </tr>    <tr> \n",
       "        <th id=\"T_4a564180_0ed7_11e8_82e4_000c29f4ace4level0_row1\" class=\"row_heading level0 row1\" >1</th> \n",
       "        <td id=\"T_4a564180_0ed7_11e8_82e4_000c29f4ace4row1_col0\" class=\"data row1 col0\" >2</td> \n",
       "        <td id=\"T_4a564180_0ed7_11e8_82e4_000c29f4ace4row1_col1\" class=\"data row1 col1\" >24</td> \n",
       "        <td id=\"T_4a564180_0ed7_11e8_82e4_000c29f4ace4row1_col2\" class=\"data row1 col2\" >3.77e-11</td> \n",
       "        <td id=\"T_4a564180_0ed7_11e8_82e4_000c29f4ace4row1_col3\" class=\"data row1 col3\" >9.23e-04</td> \n",
       "        <td id=\"T_4a564180_0ed7_11e8_82e4_000c29f4ace4row1_col4\" class=\"data row1 col4\" >0.322767</td> \n",
       "        <td id=\"T_4a564180_0ed7_11e8_82e4_000c29f4ace4row1_col5\" class=\"data row1 col5\" >0.52081</td> \n",
       "        <td id=\"T_4a564180_0ed7_11e8_82e4_000c29f4ace4row1_col6\" class=\"data row1 col6\" >27.8735</td> \n",
       "        <td id=\"T_4a564180_0ed7_11e8_82e4_000c29f4ace4row1_col7\" class=\"data row1 col7\" >28.3943</td> \n",
       "        <td id=\"T_4a564180_0ed7_11e8_82e4_000c29f4ace4row1_col8\" class=\"data row1 col8\" >10.7205</td> \n",
       "        <td id=\"T_4a564180_0ed7_11e8_82e4_000c29f4ace4row1_col9\" class=\"data row1 col9\" >10.7205</td> \n",
       "        <td id=\"T_4a564180_0ed7_11e8_82e4_000c29f4ace4row1_col10\" class=\"data row1 col10\" >0.749145</td> \n",
       "        <td id=\"T_4a564180_0ed7_11e8_82e4_000c29f4ace4row1_col11\" class=\"data row1 col11\" >99338.3</td> \n",
       "    </tr>    <tr> \n",
       "        <th id=\"T_4a564180_0ed7_11e8_82e4_000c29f4ace4level0_row2\" class=\"row_heading level0 row2\" >2</th> \n",
       "        <td id=\"T_4a564180_0ed7_11e8_82e4_000c29f4ace4row2_col0\" class=\"data row2 col0\" >4</td> \n",
       "        <td id=\"T_4a564180_0ed7_11e8_82e4_000c29f4ace4row2_col1\" class=\"data row2 col1\" >24</td> \n",
       "        <td id=\"T_4a564180_0ed7_11e8_82e4_000c29f4ace4row2_col2\" class=\"data row2 col2\" >4.64e-11</td> \n",
       "        <td id=\"T_4a564180_0ed7_11e8_82e4_000c29f4ace4row2_col3\" class=\"data row2 col3\" >9.23e-04</td> \n",
       "        <td id=\"T_4a564180_0ed7_11e8_82e4_000c29f4ace4row2_col4\" class=\"data row2 col4\" >0.165109</td> \n",
       "        <td id=\"T_4a564180_0ed7_11e8_82e4_000c29f4ace4row2_col5\" class=\"data row2 col5\" >0.280036</td> \n",
       "        <td id=\"T_4a564180_0ed7_11e8_82e4_000c29f4ace4row2_col6\" class=\"data row2 col6\" >14.1988</td> \n",
       "        <td id=\"T_4a564180_0ed7_11e8_82e4_000c29f4ace4row2_col7\" class=\"data row2 col7\" >14.4788</td> \n",
       "        <td id=\"T_4a564180_0ed7_11e8_82e4_000c29f4ace4row2_col8\" class=\"data row2 col8\" >8.42545</td> \n",
       "        <td id=\"T_4a564180_0ed7_11e8_82e4_000c29f4ace4row2_col9\" class=\"data row2 col9\" >8.42555</td> \n",
       "        <td id=\"T_4a564180_0ed7_11e8_82e4_000c29f4ace4row2_col10\" class=\"data row2 col10\" >0.4766</td> \n",
       "        <td id=\"T_4a564180_0ed7_11e8_82e4_000c29f4ace4row2_col11\" class=\"data row2 col11\" >63198.2</td> \n",
       "    </tr>    <tr> \n",
       "        <th id=\"T_4a564180_0ed7_11e8_82e4_000c29f4ace4level0_row3\" class=\"row_heading level0 row3\" >3</th> \n",
       "        <td id=\"T_4a564180_0ed7_11e8_82e4_000c29f4ace4row3_col0\" class=\"data row3 col0\" >8</td> \n",
       "        <td id=\"T_4a564180_0ed7_11e8_82e4_000c29f4ace4row3_col1\" class=\"data row3 col1\" >24</td> \n",
       "        <td id=\"T_4a564180_0ed7_11e8_82e4_000c29f4ace4row3_col2\" class=\"data row3 col2\" >9.03e-11</td> \n",
       "        <td id=\"T_4a564180_0ed7_11e8_82e4_000c29f4ace4row3_col3\" class=\"data row3 col3\" >9.03e-11</td> \n",
       "        <td id=\"T_4a564180_0ed7_11e8_82e4_000c29f4ace4row3_col4\" class=\"data row3 col4\" >0.0904487</td> \n",
       "        <td id=\"T_4a564180_0ed7_11e8_82e4_000c29f4ace4row3_col5\" class=\"data row3 col5\" >0.151207</td> \n",
       "        <td id=\"T_4a564180_0ed7_11e8_82e4_000c29f4ace4row3_col6\" class=\"data row3 col6\" >5.23064</td> \n",
       "        <td id=\"T_4a564180_0ed7_11e8_82e4_000c29f4ace4row3_col7\" class=\"data row3 col7\" >5.38186</td> \n",
       "        <td id=\"T_4a564180_0ed7_11e8_82e4_000c29f4ace4row3_col8\" class=\"data row3 col8\" >8.14712</td> \n",
       "        <td id=\"T_4a564180_0ed7_11e8_82e4_000c29f4ace4row3_col9\" class=\"data row3 col9\" >8.15332</td> \n",
       "        <td id=\"T_4a564180_0ed7_11e8_82e4_000c29f4ace4row3_col10\" class=\"data row3 col10\" >0.246256</td> \n",
       "        <td id=\"T_4a564180_0ed7_11e8_82e4_000c29f4ace4row3_col11\" class=\"data row3 col11\" >32654.2</td> \n",
       "    </tr>    <tr> \n",
       "        <th id=\"T_4a564180_0ed7_11e8_82e4_000c29f4ace4level0_row4\" class=\"row_heading level0 row4\" >4</th> \n",
       "        <td id=\"T_4a564180_0ed7_11e8_82e4_000c29f4ace4row4_col0\" class=\"data row4 col0\" >16</td> \n",
       "        <td id=\"T_4a564180_0ed7_11e8_82e4_000c29f4ace4row4_col1\" class=\"data row4 col1\" >23</td> \n",
       "        <td id=\"T_4a564180_0ed7_11e8_82e4_000c29f4ace4row4_col2\" class=\"data row4 col2\" >7.81e-11</td> \n",
       "        <td id=\"T_4a564180_0ed7_11e8_82e4_000c29f4ace4row4_col3\" class=\"data row4 col3\" >9.23e-04</td> \n",
       "        <td id=\"T_4a564180_0ed7_11e8_82e4_000c29f4ace4row4_col4\" class=\"data row4 col4\" >0.0527357</td> \n",
       "        <td id=\"T_4a564180_0ed7_11e8_82e4_000c29f4ace4row4_col5\" class=\"data row4 col5\" >0.0864477</td> \n",
       "        <td id=\"T_4a564180_0ed7_11e8_82e4_000c29f4ace4row4_col6\" class=\"data row4 col6\" >1.77742</td> \n",
       "        <td id=\"T_4a564180_0ed7_11e8_82e4_000c29f4ace4row4_col7\" class=\"data row4 col7\" >1.86389</td> \n",
       "        <td id=\"T_4a564180_0ed7_11e8_82e4_000c29f4ace4row4_col8\" class=\"data row4 col8\" >7.83818</td> \n",
       "        <td id=\"T_4a564180_0ed7_11e8_82e4_000c29f4ace4row4_col9\" class=\"data row4 col9\" >7.83856</td> \n",
       "        <td id=\"T_4a564180_0ed7_11e8_82e4_000c29f4ace4row4_col10\" class=\"data row4 col10\" >0.128072</td> \n",
       "        <td id=\"T_4a564180_0ed7_11e8_82e4_000c29f4ace4row4_col11\" class=\"data row4 col11\" >16982.7</td> \n",
       "    </tr>    <tr> \n",
       "        <th id=\"T_4a564180_0ed7_11e8_82e4_000c29f4ace4level0_row5\" class=\"row_heading level0 row5\" >5</th> \n",
       "        <td id=\"T_4a564180_0ed7_11e8_82e4_000c29f4ace4row5_col0\" class=\"data row5 col0\" >32</td> \n",
       "        <td id=\"T_4a564180_0ed7_11e8_82e4_000c29f4ace4row5_col1\" class=\"data row5 col1\" >24</td> \n",
       "        <td id=\"T_4a564180_0ed7_11e8_82e4_000c29f4ace4row5_col2\" class=\"data row5 col2\" >8.82e-11</td> \n",
       "        <td id=\"T_4a564180_0ed7_11e8_82e4_000c29f4ace4row5_col3\" class=\"data row5 col3\" >9.23e-04</td> \n",
       "        <td id=\"T_4a564180_0ed7_11e8_82e4_000c29f4ace4row5_col4\" class=\"data row5 col4\" >0.0524435</td> \n",
       "        <td id=\"T_4a564180_0ed7_11e8_82e4_000c29f4ace4row5_col5\" class=\"data row5 col5\" >0.0514294</td> \n",
       "        <td id=\"T_4a564180_0ed7_11e8_82e4_000c29f4ace4row5_col6\" class=\"data row5 col6\" >0.699267</td> \n",
       "        <td id=\"T_4a564180_0ed7_11e8_82e4_000c29f4ace4row5_col7\" class=\"data row5 col7\" >0.750759</td> \n",
       "        <td id=\"T_4a564180_0ed7_11e8_82e4_000c29f4ace4row5_col8\" class=\"data row5 col8\" >5.90144</td> \n",
       "        <td id=\"T_4a564180_0ed7_11e8_82e4_000c29f4ace4row5_col9\" class=\"data row5 col9\" >5.90951</td> \n",
       "        <td id=\"T_4a564180_0ed7_11e8_82e4_000c29f4ace4row5_col10\" class=\"data row5 col10\" >0.0849397</td> \n",
       "        <td id=\"T_4a564180_0ed7_11e8_82e4_000c29f4ace4row5_col11\" class=\"data row5 col11\" >11263.2</td> \n",
       "    </tr>    <tr> \n",
       "        <th id=\"T_4a564180_0ed7_11e8_82e4_000c29f4ace4level0_row6\" class=\"row_heading level0 row6\" >6</th> \n",
       "        <td id=\"T_4a564180_0ed7_11e8_82e4_000c29f4ace4row6_col0\" class=\"data row6 col0\" >64</td> \n",
       "        <td id=\"T_4a564180_0ed7_11e8_82e4_000c29f4ace4row6_col1\" class=\"data row6 col1\" >24</td> \n",
       "        <td id=\"T_4a564180_0ed7_11e8_82e4_000c29f4ace4row6_col2\" class=\"data row6 col2\" >2.93e-11</td> \n",
       "        <td id=\"T_4a564180_0ed7_11e8_82e4_000c29f4ace4row6_col3\" class=\"data row6 col3\" >9.23e-04</td> \n",
       "        <td id=\"T_4a564180_0ed7_11e8_82e4_000c29f4ace4row6_col4\" class=\"data row6 col4\" >0.0381673</td> \n",
       "        <td id=\"T_4a564180_0ed7_11e8_82e4_000c29f4ace4row6_col5\" class=\"data row6 col5\" >0.0353743</td> \n",
       "        <td id=\"T_4a564180_0ed7_11e8_82e4_000c29f4ace4row6_col6\" class=\"data row6 col6\" >0.535025</td> \n",
       "        <td id=\"T_4a564180_0ed7_11e8_82e4_000c29f4ace4row6_col7\" class=\"data row6 col7\" >0.570473</td> \n",
       "        <td id=\"T_4a564180_0ed7_11e8_82e4_000c29f4ace4row6_col8\" class=\"data row6 col8\" >5.78097</td> \n",
       "        <td id=\"T_4a564180_0ed7_11e8_82e4_000c29f4ace4row6_col9\" class=\"data row6 col9\" >5.78483</td> \n",
       "        <td id=\"T_4a564180_0ed7_11e8_82e4_000c29f4ace4row6_col10\" class=\"data row6 col10\" >0.0433852</td> \n",
       "        <td id=\"T_4a564180_0ed7_11e8_82e4_000c29f4ace4row6_col11\" class=\"data row6 col11\" >5752.98</td> \n",
       "    </tr></tbody> \n",
       "</table> "
      ],
      "text/plain": [
       "<pandas.io.formats.style.Styler at 0x7f97284c30b8>"
      ]
     },
     "execution_count": 6,
     "metadata": {},
     "output_type": "execute_result"
    }
   ],
   "source": [
    "DOF = 2129920\n",
    "Petsc_Hypre_Full_Cores = np.array([1,2,4,8,16,32,64])\n",
    "Petsc_Hypre_Full_Iterations = np.array([25,24,24,24,23,24,24])\n",
    "Petsc_Hypre_Full_Residual = np.array([7.7959970105686e-11,3.7698395250881e-11,4.6445688201149e-11,9.0298349451787e-11,\n",
    "                                     7.8125285574285e-11,8.8175567594805e-11,2.9253011119871e-11])\n",
    "Petsc_Hypre_Full_Error = np.array([9.2304660443222e-04,9.2304660439089e-04,9.2304660437377e-04,9.0298349451787e-11,\n",
    "                                  9.2304660461603e-04,9.2304660463712e-04,9.2304660489770e-04])\n",
    "Petsc_Hypre_Full_Domain = np.array([0.5771762146,0.3227674969,0.1651092233,0.0904486713,0.0527356856,0.052443451,\n",
    "                                   0.0381672983])\n",
    "Petsc_Hypre_Full_Matrix = np.array([0.7878353477,0.5208099744,0.2800362866,0.1512065142,0.0864476525,0.0514293829,\n",
    "                                   0.0353743028])\n",
    "Petsc_Hypre_Full_Petsc = np.array([2.5363367318,27.8735060668,14.1987835682,5.2306352596,1.7774178884,0.6992671084,\n",
    "                                  0.5350252831])\n",
    "Petsc_Hypre_Full_LSS = np.array([3.3241811173,28.3943279512,14.4788363321,5.3818625687,1.8638884793,0.7507591284,\n",
    "                                0.5704725933])\n",
    "Petsc_Hypre_Full_LinS = np.array([16.0624597243,10.7205219595,8.4254460076,8.1471176039,7.8381800788,5.901440664,\n",
    "                                 5.7809692144])\n",
    "Petsc_Hypre_Full_CS = np.array([16.0624642228,10.7205349951,8.4255548989,8.153320034,7.8385614164,5.9095084751,\n",
    "                               5.7848270771])\n",
    "Petsc_Hypre_Full_DegF = (DOF)/Petsc_Hypre_Full_CS/Petsc_Hypre_Full_Cores\n",
    "Petsc_Hypre_Full_Eff = Petsc_Hypre_Full_CS[0]/(Petsc_Hypre_Full_CS*Petsc_Hypre_Full_Cores)\n",
    "\n",
    "d = {\"Cores\": Petsc_Hypre_Full_Cores,\"Iterations\": Petsc_Hypre_Full_Iterations,\"Residual\": Petsc_Hypre_Full_Residual,\n",
    "    \"Error\": Petsc_Hypre_Full_Error,\"Domain Initialization\": Petsc_Hypre_Full_Domain,\"Matrix Formation\": Petsc_Hypre_Full_Matrix,\n",
    "    \"Hypre Setup\": Petsc_Hypre_Full_Petsc,\"Linear System Setup\": Petsc_Hypre_Full_LSS,\"Linear Solve\": Petsc_Hypre_Full_LinS,\n",
    "    \"Complete Solve\": Petsc_Hypre_Full_CS,\"Efficiency\": Petsc_Hypre_Full_Eff,\"Degrees of Freedom Per Time Per Core\": Petsc_Hypre_Full_DegF}\n",
    "df1 =  pd.DataFrame(data = d)\n",
    "df1 = df1[[\"Cores\",\"Iterations\",\"Residual\",\"Error\",\"Domain Initialization\",\"Matrix Formation\",\"Hypre Setup\",\n",
    "         \"Linear System Setup\",\"Linear Solve\",\"Complete Solve\",\"Efficiency\",\"Degrees of Freedom Per Time Per Core\"]]\n",
    "nform = {\"Error\" : \"{:6.2e}\".format, \"Residual\" : \"{:6.2e}\".format}\n",
    "\n",
    "df1.style.set_caption(\"Degrees of freedom {:d}\".format(DOF)).background_gradient(cmap=cm).format(nform)\n",
    "# display(HTML(df1.to_html(index=False)))"
   ]
  },
  {
   "cell_type": "code",
   "execution_count": 3,
   "metadata": {},
   "outputs": [
    {
     "data": {
      "text/plain": [
       "<function matplotlib.pyplot.show>"
      ]
     },
     "execution_count": 3,
     "metadata": {},
     "output_type": "execute_result"
    },
    {
     "data": {
      "image/png": "[encoded data removed]",
      "text/plain": [
       "<matplotlib.figure.Figure at 0x7f97303eec18>"
      ]
     },
     "metadata": {},
     "output_type": "display_data"
    }
   ],
   "source": [
    "x = Petsc_Hypre_Full_Cores\n",
    "y = Petsc_Hypre_Full_CS\n",
    "\n",
    "\n",
    "plt.plot(x,y,\"bo-\",label=\"Hypre (Full matrix)\")\n",
    "plt.yscale(\"log\")\n",
    "plt.xscale(\"log\")\n",
    "plt.ylabel(\"Complete Solve Time (s)\")\n",
    "plt.xlabel(\"Number of Cores\")\n",
    "plt.title(\"Full Matrix with 4 level mesh using Hypre\")\n",
    "\n",
    "c = np.polyfit(np.log(x),np.log(y),1)\n",
    "#  c = np.polyfit(np.log(x[:-2]),np.log(y[-2]),1)\n",
    "#  Take out points for slope\n",
    "\n",
    "s = \"Best-fit (slope = {:6.2f})\".format(c[0])\n",
    "plt.loglog(x,np.exp(np.polyval(c,np.log(x))),'k--',label=s)\n",
    "\n",
    "ct = np.array([-1,c[1]])\n",
    "plt.loglog(x,np.exp(np.polyval(ct,np.log(x))),'.-',label=\"Theoretical\",color='k',markersize=10)\n",
    "\n",
    "\n",
    "plt.legend()\n",
    "plt.show"
   ]
  },
  {
   "cell_type": "code",
   "execution_count": 4,
   "metadata": {},
   "outputs": [
    {
     "data": {
      "text/plain": [
       "<matplotlib.legend.Legend at 0x7f97283b39b0>"
      ]
     },
     "execution_count": 4,
     "metadata": {},
     "output_type": "execute_result"
    },
    {
     "data": {
      "image/png": "[encoded data removed]",
      "text/plain": [
       "<matplotlib.figure.Figure at 0x7f972834ca20>"
      ]
     },
     "metadata": {},
     "output_type": "display_data"
    }
   ],
   "source": [
    "plt.plot(Petsc_Hypre_Full_Cores,Petsc_Hypre_Full_DegF,\"ro-\",label=\"Full\")\n",
    "plt.xlabel(\"Degrees of Freedom Per Time Per Core\")\n",
    "plt.ylabel(\"Number of Cores\")\n",
    "plt.title(\"Full Matrix with 4 level mesh using Hypre\")\n",
    "plt.legend()"
   ]
  },
  {
   "cell_type": "markdown",
   "metadata": {},
   "source": [
    "This section is the timing results for solving the full matrix with a 4 level mesh using Hypre. This matrix has ___ degrees of freedom. This was solved using the option divide 4."
   ]
  },
  {
   "cell_type": "code",
   "execution_count": 5,
   "metadata": {},
   "outputs": [
    {
     "ename": "IndexError",
     "evalue": "index 0 is out of bounds for axis 0 with size 0",
     "output_type": "error",
     "traceback": [
      "\u001b[0;31m---------------------------------------------------------------------------\u001b[0m",
      "\u001b[0;31mIndexError\u001b[0m                                Traceback (most recent call last)",
      "\u001b[0;32m<ipython-input-5-97b4a4de2cea>\u001b[0m in \u001b[0;36m<module>\u001b[0;34m()\u001b[0m\n\u001b[1;32m     10\u001b[0m \u001b[0mPetsc_Hypre_Full_CS\u001b[0m \u001b[0;34m=\u001b[0m \u001b[0mnp\u001b[0m\u001b[0;34m.\u001b[0m\u001b[0marray\u001b[0m\u001b[0;34m(\u001b[0m\u001b[0;34m[\u001b[0m\u001b[0;34m]\u001b[0m\u001b[0;34m)\u001b[0m\u001b[0;34m\u001b[0m\u001b[0m\n\u001b[1;32m     11\u001b[0m \u001b[0mPetsc_Hypre_Full_DegF\u001b[0m \u001b[0;34m=\u001b[0m \u001b[0;34m(\u001b[0m\u001b[0;34m)\u001b[0m\u001b[0;34m/\u001b[0m\u001b[0mPetsc_Hypre_Full_CS\u001b[0m\u001b[0;34m/\u001b[0m\u001b[0mPetsc_Hypre_Full_Cores\u001b[0m\u001b[0;34m\u001b[0m\u001b[0m\n\u001b[0;32m---> 12\u001b[0;31m \u001b[0mPetsc_Hypre_Full_Eff\u001b[0m \u001b[0;34m=\u001b[0m \u001b[0mPetsc_Hypre_Full_CS\u001b[0m\u001b[0;34m[\u001b[0m\u001b[0;36m0\u001b[0m\u001b[0;34m]\u001b[0m\u001b[0;34m/\u001b[0m\u001b[0;34m(\u001b[0m\u001b[0mPetsc_Hypre_Full_CS\u001b[0m\u001b[0;34m*\u001b[0m\u001b[0mPetsc_Hypre_Full_Cores\u001b[0m\u001b[0;34m)\u001b[0m\u001b[0;34m\u001b[0m\u001b[0m\n\u001b[0m\u001b[1;32m     13\u001b[0m \u001b[0;34m\u001b[0m\u001b[0m\n\u001b[1;32m     14\u001b[0m d = {\"Cores\": Petsc_Hypre_Full_Cores,\"Iterations\": Petsc_Hypre_Full_Iterations,\"Residual\": Petsc_Hypre_Full_Residual,\n",
      "\u001b[0;31mIndexError\u001b[0m: index 0 is out of bounds for axis 0 with size 0"
     ]
    }
   ],
   "source": [
    "Petsc_Hypre_Full_Cores = np.array([1])\n",
    "Petsc_Hypre_Full_Iterations = np.array([])\n",
    "Petsc_Hypre_Full_Residual = np.array([])\n",
    "Petsc_Hypre_Full_Error = np.array([])\n",
    "Petsc_Hypre_Full_Domain = np.array([])\n",
    "Petsc_Hypre_Full_Matrix = np.array([])\n",
    "Petsc_Hypre_Full_Petsc = np.array([])\n",
    "Petsc_Hypre_Full_LSS = np.array([])\n",
    "Petsc_Hypre_Full_LinS = np.array([])\n",
    "Petsc_Hypre_Full_CS = np.array([])\n",
    "Petsc_Hypre_Full_DegF = ()/Petsc_Hypre_Full_CS/Petsc_Hypre_Full_Cores\n",
    "Petsc_Hypre_Full_Eff = Petsc_Hypre_Full_CS[0]/(Petsc_Hypre_Full_CS*Petsc_Hypre_Full_Cores)\n",
    "\n",
    "d = {\"Cores\": Petsc_Hypre_Full_Cores,\"Iterations\": Petsc_Hypre_Full_Iterations,\"Residual\": Petsc_Hypre_Full_Residual,\n",
    "    \"Error\": Petsc_Hypre_Full_Error,\"Domain Initialization\": Petsc_Hypre_Full_Domain,\"Matrix Formation\": Petsc_Hypre_Full_Matrix,\n",
    "    \"Hypre Setup\": Petsc_Hypre_Full_Petsc,\"Linear System Setup\": Petsc_Hypre_Full_LSS,\"Linear Solve\": Petsc_Hypre_Full_LinS,\n",
    "    \"Complete Solve\": Petsc_Hypre_Full_CS,\"Efficiency\": Petsc_Hypre_Full_Eff,\"Degrees of Freedom Per Time Per Core\": Petsc_Hypre_Full_DegF}\n",
    "df1 =  pd.DataFrame(data = d)\n",
    "df1 = df1[[\"Cores\",\"Iterations\",\"Residual\",\"Error\",\"Domain Initialization\",\"Matrix Formation\",\"Hypre Setup\",\n",
    "         \"Linear System Setup\",\"Linear Solve\",\"Complete Solve\",\"Efficiency\",\"Degrees of Freedom Per Time Per Core\"]]\n",
    "\n",
    "df1.style.format({\"Error\" : \"{:6.2e}\".format})\n",
    "df1.style.set_caption(\"Degrees of freedom {:d}\".format(DOF)).background_gradient(cmap=cm)\n",
    "# display(HTML(df1.to_html(index=False)))"
   ]
  },
  {
   "cell_type": "code",
   "execution_count": null,
   "metadata": {
    "collapsed": true
   },
   "outputs": [],
   "source": [
    "x = Petsc_Hypre_Full_Cores\n",
    "y = Petsc_Hypre_Full_CS\n",
    "\n",
    "\n",
    "plt.plot(x,y,\"bo-\",label=\"Hypre (Full matrix)\")\n",
    "plt.yscale(\"log\")\n",
    "plt.xscale(\"log\")\n",
    "plt.ylabel(\"Complete Solve Time (s)\")\n",
    "plt.xlabel(\"Number of Cores\")\n",
    "plt.title(\"Full Matrix with 4 level mesh using Hypre\")\n",
    "\n",
    "c = np.polyfit(np.log(x),np.log(y),1)\n",
    "\n",
    "s = \"Best-fit (slope = {:6.2f})\".format(c[0])\n",
    "plt.loglog(x,np.exp(np.polyval(c,np.log(x))),'k--',label=s)\n",
    "\n",
    "ct = np.array([-1,c[1]])\n",
    "plt.loglog(x,np.exp(np.polyval(ct,np.log(x))),'.-',label=\"Theoretical\",color='k',markersize=10)\n",
    "\n",
    "\n",
    "plt.legend()\n",
    "plt.show"
   ]
  },
  {
   "cell_type": "code",
   "execution_count": null,
   "metadata": {
    "collapsed": true
   },
   "outputs": [],
   "source": [
    "plt.plot(Petsc_Hypre_Full_Cores,Petsc_Hypre_Full_DegF,\"ro-\",label=\"Full\")\n",
    "plt.xlabel(\"Degrees of Freedom Per Time Per Core\")\n",
    "plt.ylabel(\"Number of Cores\")\n",
    "plt.title(\"Full Matrix with 4 level mesh using Hypre\")\n",
    "plt.legend()"
   ]
  },
  {
   "cell_type": "markdown",
   "metadata": {},
   "source": [
    "# Full Matrix with AMGX (2)\n",
    "This section is the timing results for solving the full matrix with a 4 level mesh using AMGX. This matrix has 2,129,920 degrees of freedom. This was solved using the option divide 2."
   ]
  },
  {
   "cell_type": "code",
   "execution_count": 8,
   "metadata": {},
   "outputs": [
    {
     "data": {
      "text/html": [
       "<style  type=\"text/css\" >\n",
       "    #T_8303c838_0eda_11e8_82e4_000c29f4ace4row0_col0 {\n",
       "            background-color:  #e5ffe5;\n",
       "        }    #T_8303c838_0eda_11e8_82e4_000c29f4ace4row0_col1 {\n",
       "            background-color:  #d5f6d5;\n",
       "        }    #T_8303c838_0eda_11e8_82e4_000c29f4ace4row0_col2 {\n",
       "            background-color:  #008000;\n",
       "        }    #T_8303c838_0eda_11e8_82e4_000c29f4ace4row0_col3 {\n",
       "            background-color:  #e5ffe5;\n",
       "        }    #T_8303c838_0eda_11e8_82e4_000c29f4ace4row0_col4 {\n",
       "            background-color:  #008000;\n",
       "        }    #T_8303c838_0eda_11e8_82e4_000c29f4ace4row0_col5 {\n",
       "            background-color:  #008000;\n",
       "        }    #T_8303c838_0eda_11e8_82e4_000c29f4ace4row0_col6 {\n",
       "            background-color:  #e5ffe5;\n",
       "        }    #T_8303c838_0eda_11e8_82e4_000c29f4ace4row0_col7 {\n",
       "            background-color:  #b5e4b5;\n",
       "        }    #T_8303c838_0eda_11e8_82e4_000c29f4ace4row0_col8 {\n",
       "            background-color:  #008000;\n",
       "        }    #T_8303c838_0eda_11e8_82e4_000c29f4ace4row0_col9 {\n",
       "            background-color:  #008000;\n",
       "        }    #T_8303c838_0eda_11e8_82e4_000c29f4ace4row0_col10 {\n",
       "            background-color:  #008000;\n",
       "        }    #T_8303c838_0eda_11e8_82e4_000c29f4ace4row0_col11 {\n",
       "            background-color:  #008000;\n",
       "        }    #T_8303c838_0eda_11e8_82e4_000c29f4ace4row1_col0 {\n",
       "            background-color:  #c5edc5;\n",
       "        }    #T_8303c838_0eda_11e8_82e4_000c29f4ace4row1_col1 {\n",
       "            background-color:  #e5ffe5;\n",
       "        }    #T_8303c838_0eda_11e8_82e4_000c29f4ace4row1_col2 {\n",
       "            background-color:  #e4fee4;\n",
       "        }    #T_8303c838_0eda_11e8_82e4_000c29f4ace4row1_col3 {\n",
       "            background-color:  #259425;\n",
       "        }    #T_8303c838_0eda_11e8_82e4_000c29f4ace4row1_col4 {\n",
       "            background-color:  #7ac47a;\n",
       "        }    #T_8303c838_0eda_11e8_82e4_000c29f4ace4row1_col5 {\n",
       "            background-color:  #6bbb6b;\n",
       "        }    #T_8303c838_0eda_11e8_82e4_000c29f4ace4row1_col6 {\n",
       "            background-color:  #008000;\n",
       "        }    #T_8303c838_0eda_11e8_82e4_000c29f4ace4row1_col7 {\n",
       "            background-color:  #008000;\n",
       "        }    #T_8303c838_0eda_11e8_82e4_000c29f4ace4row1_col8 {\n",
       "            background-color:  #7cc57c;\n",
       "        }    #T_8303c838_0eda_11e8_82e4_000c29f4ace4row1_col9 {\n",
       "            background-color:  #7cc57c;\n",
       "        }    #T_8303c838_0eda_11e8_82e4_000c29f4ace4row1_col10 {\n",
       "            background-color:  #62b662;\n",
       "        }    #T_8303c838_0eda_11e8_82e4_000c29f4ace4row1_col11 {\n",
       "            background-color:  #62b662;\n",
       "        }    #T_8303c838_0eda_11e8_82e4_000c29f4ace4row2_col0 {\n",
       "            background-color:  #83c983;\n",
       "        }    #T_8303c838_0eda_11e8_82e4_000c29f4ace4row2_col1 {\n",
       "            background-color:  #ddfbdd;\n",
       "        }    #T_8303c838_0eda_11e8_82e4_000c29f4ace4row2_col2 {\n",
       "            background-color:  #e5ffe5;\n",
       "        }    #T_8303c838_0eda_11e8_82e4_000c29f4ace4row2_col3 {\n",
       "            background-color:  #a6dca6;\n",
       "        }    #T_8303c838_0eda_11e8_82e4_000c29f4ace4row2_col4 {\n",
       "            background-color:  #c2ebc2;\n",
       "        }    #T_8303c838_0eda_11e8_82e4_000c29f4ace4row2_col5 {\n",
       "            background-color:  #bde9bd;\n",
       "        }    #T_8303c838_0eda_11e8_82e4_000c29f4ace4row2_col6 {\n",
       "            background-color:  #2a972a;\n",
       "        }    #T_8303c838_0eda_11e8_82e4_000c29f4ace4row2_col7 {\n",
       "            background-color:  #70be70;\n",
       "        }    #T_8303c838_0eda_11e8_82e4_000c29f4ace4row2_col8 {\n",
       "            background-color:  #e5ffe5;\n",
       "        }    #T_8303c838_0eda_11e8_82e4_000c29f4ace4row2_col9 {\n",
       "            background-color:  #e5ffe5;\n",
       "        }    #T_8303c838_0eda_11e8_82e4_000c29f4ace4row2_col10 {\n",
       "            background-color:  #9ed89e;\n",
       "        }    #T_8303c838_0eda_11e8_82e4_000c29f4ace4row2_col11 {\n",
       "            background-color:  #9ed89e;\n",
       "        }    #T_8303c838_0eda_11e8_82e4_000c29f4ace4row3_col0 {\n",
       "            background-color:  #008000;\n",
       "        }    #T_8303c838_0eda_11e8_82e4_000c29f4ace4row3_col1 {\n",
       "            background-color:  #008000;\n",
       "        }    #T_8303c838_0eda_11e8_82e4_000c29f4ace4row3_col2 {\n",
       "            background-color:  #e0fce0;\n",
       "        }    #T_8303c838_0eda_11e8_82e4_000c29f4ace4row3_col3 {\n",
       "            background-color:  #008000;\n",
       "        }    #T_8303c838_0eda_11e8_82e4_000c29f4ace4row3_col4 {\n",
       "            background-color:  #e5ffe5;\n",
       "        }    #T_8303c838_0eda_11e8_82e4_000c29f4ace4row3_col5 {\n",
       "            background-color:  #e5ffe5;\n",
       "        }    #T_8303c838_0eda_11e8_82e4_000c29f4ace4row3_col6 {\n",
       "            background-color:  #77c277;\n",
       "        }    #T_8303c838_0eda_11e8_82e4_000c29f4ace4row3_col7 {\n",
       "            background-color:  #e5ffe5;\n",
       "        }    #T_8303c838_0eda_11e8_82e4_000c29f4ace4row3_col8 {\n",
       "            background-color:  #44a644;\n",
       "        }    #T_8303c838_0eda_11e8_82e4_000c29f4ace4row3_col9 {\n",
       "            background-color:  #44a644;\n",
       "        }    #T_8303c838_0eda_11e8_82e4_000c29f4ace4row3_col10 {\n",
       "            background-color:  #e5ffe5;\n",
       "        }    #T_8303c838_0eda_11e8_82e4_000c29f4ace4row3_col11 {\n",
       "            background-color:  #e5ffe5;\n",
       "        }</style>  \n",
       "<table id=\"T_8303c838_0eda_11e8_82e4_000c29f4ace4\" ><caption>Degrees of freedom 2129920</caption> \n",
       "<thead>    <tr> \n",
       "        <th class=\"blank level0\" ></th> \n",
       "        <th class=\"col_heading level0 col0\" >Cores</th> \n",
       "        <th class=\"col_heading level0 col1\" >Iterations</th> \n",
       "        <th class=\"col_heading level0 col2\" >Residual</th> \n",
       "        <th class=\"col_heading level0 col3\" >Error</th> \n",
       "        <th class=\"col_heading level0 col4\" >Domain Initialization</th> \n",
       "        <th class=\"col_heading level0 col5\" >Matrix Formation</th> \n",
       "        <th class=\"col_heading level0 col6\" >AMGX Setup</th> \n",
       "        <th class=\"col_heading level0 col7\" >Linear System Setup</th> \n",
       "        <th class=\"col_heading level0 col8\" >Linear Solve</th> \n",
       "        <th class=\"col_heading level0 col9\" >Complete Solve</th> \n",
       "        <th class=\"col_heading level0 col10\" >Efficiency</th> \n",
       "        <th class=\"col_heading level0 col11\" >Degrees of Freedom Per Time Per Core</th> \n",
       "    </tr></thead> \n",
       "<tbody>    <tr> \n",
       "        <th id=\"T_8303c838_0eda_11e8_82e4_000c29f4ace4level0_row0\" class=\"row_heading level0 row0\" >0</th> \n",
       "        <td id=\"T_8303c838_0eda_11e8_82e4_000c29f4ace4row0_col0\" class=\"data row0 col0\" >1</td> \n",
       "        <td id=\"T_8303c838_0eda_11e8_82e4_000c29f4ace4row0_col1\" class=\"data row0 col1\" >39</td> \n",
       "        <td id=\"T_8303c838_0eda_11e8_82e4_000c29f4ace4row0_col2\" class=\"data row0 col2\" >5.82515e-11</td> \n",
       "        <td id=\"T_8303c838_0eda_11e8_82e4_000c29f4ace4row0_col3\" class=\"data row0 col3\" >0.000923047</td> \n",
       "        <td id=\"T_8303c838_0eda_11e8_82e4_000c29f4ace4row0_col4\" class=\"data row0 col4\" >0.590398</td> \n",
       "        <td id=\"T_8303c838_0eda_11e8_82e4_000c29f4ace4row0_col5\" class=\"data row0 col5\" >0.864216</td> \n",
       "        <td id=\"T_8303c838_0eda_11e8_82e4_000c29f4ace4row0_col6\" class=\"data row0 col6\" >1.14309</td> \n",
       "        <td id=\"T_8303c838_0eda_11e8_82e4_000c29f4ace4row0_col7\" class=\"data row0 col7\" >2.00731</td> \n",
       "        <td id=\"T_8303c838_0eda_11e8_82e4_000c29f4ace4row0_col8\" class=\"data row0 col8\" >1.46294</td> \n",
       "        <td id=\"T_8303c838_0eda_11e8_82e4_000c29f4ace4row0_col9\" class=\"data row0 col9\" >1.46294</td> \n",
       "        <td id=\"T_8303c838_0eda_11e8_82e4_000c29f4ace4row0_col10\" class=\"data row0 col10\" >1</td> \n",
       "        <td id=\"T_8303c838_0eda_11e8_82e4_000c29f4ace4row0_col11\" class=\"data row0 col11\" >1.45592e+06</td> \n",
       "    </tr>    <tr> \n",
       "        <th id=\"T_8303c838_0eda_11e8_82e4_000c29f4ace4level0_row1\" class=\"row_heading level0 row1\" >1</th> \n",
       "        <td id=\"T_8303c838_0eda_11e8_82e4_000c29f4ace4row1_col0\" class=\"data row1 col0\" >2</td> \n",
       "        <td id=\"T_8303c838_0eda_11e8_82e4_000c29f4ace4row1_col1\" class=\"data row1 col1\" >37</td> \n",
       "        <td id=\"T_8303c838_0eda_11e8_82e4_000c29f4ace4row1_col2\" class=\"data row1 col2\" >5.94324e-12</td> \n",
       "        <td id=\"T_8303c838_0eda_11e8_82e4_000c29f4ace4row1_col3\" class=\"data row1 col3\" >0.000923047</td> \n",
       "        <td id=\"T_8303c838_0eda_11e8_82e4_000c29f4ace4row1_col4\" class=\"data row1 col4\" >0.318626</td> \n",
       "        <td id=\"T_8303c838_0eda_11e8_82e4_000c29f4ace4row1_col5\" class=\"data row1 col5\" >0.523328</td> \n",
       "        <td id=\"T_8303c838_0eda_11e8_82e4_000c29f4ace4row1_col6\" class=\"data row1 col6\" >2.23357</td> \n",
       "        <td id=\"T_8303c838_0eda_11e8_82e4_000c29f4ace4row1_col7\" class=\"data row1 col7\" >2.75691</td> \n",
       "        <td id=\"T_8303c838_0eda_11e8_82e4_000c29f4ace4row1_col8\" class=\"data row1 col8\" >1.15745</td> \n",
       "        <td id=\"T_8303c838_0eda_11e8_82e4_000c29f4ace4row1_col9\" class=\"data row1 col9\" >1.15745</td> \n",
       "        <td id=\"T_8303c838_0eda_11e8_82e4_000c29f4ace4row1_col10\" class=\"data row1 col10\" >0.631965</td> \n",
       "        <td id=\"T_8303c838_0eda_11e8_82e4_000c29f4ace4row1_col11\" class=\"data row1 col11\" >920088</td> \n",
       "    </tr>    <tr> \n",
       "        <th id=\"T_8303c838_0eda_11e8_82e4_000c29f4ace4level0_row2\" class=\"row_heading level0 row2\" >2</th> \n",
       "        <td id=\"T_8303c838_0eda_11e8_82e4_000c29f4ace4row2_col0\" class=\"data row2 col0\" >4</td> \n",
       "        <td id=\"T_8303c838_0eda_11e8_82e4_000c29f4ace4row2_col1\" class=\"data row2 col1\" >38</td> \n",
       "        <td id=\"T_8303c838_0eda_11e8_82e4_000c29f4ace4row2_col2\" class=\"data row2 col2\" >5.49023e-12</td> \n",
       "        <td id=\"T_8303c838_0eda_11e8_82e4_000c29f4ace4row2_col3\" class=\"data row2 col3\" >0.000923047</td> \n",
       "        <td id=\"T_8303c838_0eda_11e8_82e4_000c29f4ace4row2_col4\" class=\"data row2 col4\" >0.16282</td> \n",
       "        <td id=\"T_8303c838_0eda_11e8_82e4_000c29f4ace4row2_col5\" class=\"data row2 col5\" >0.264776</td> \n",
       "        <td id=\"T_8303c838_0eda_11e8_82e4_000c29f4ace4row2_col6\" class=\"data row2 col6\" >2.02933</td> \n",
       "        <td id=\"T_8303c838_0eda_11e8_82e4_000c29f4ace4row2_col7\" class=\"data row2 col7\" >2.29413</td> \n",
       "        <td id=\"T_8303c838_0eda_11e8_82e4_000c29f4ace4row2_col8\" class=\"data row2 col8\" >0.899803</td> \n",
       "        <td id=\"T_8303c838_0eda_11e8_82e4_000c29f4ace4row2_col9\" class=\"data row2 col9\" >0.899815</td> \n",
       "        <td id=\"T_8303c838_0eda_11e8_82e4_000c29f4ace4row2_col10\" class=\"data row2 col10\" >0.406457</td> \n",
       "        <td id=\"T_8303c838_0eda_11e8_82e4_000c29f4ace4row2_col11\" class=\"data row2 col11\" >591766</td> \n",
       "    </tr>    <tr> \n",
       "        <th id=\"T_8303c838_0eda_11e8_82e4_000c29f4ace4level0_row3\" class=\"row_heading level0 row3\" >3</th> \n",
       "        <td id=\"T_8303c838_0eda_11e8_82e4_000c29f4ace4row3_col0\" class=\"data row3 col0\" >8</td> \n",
       "        <td id=\"T_8303c838_0eda_11e8_82e4_000c29f4ace4row3_col1\" class=\"data row3 col1\" >65</td> \n",
       "        <td id=\"T_8303c838_0eda_11e8_82e4_000c29f4ace4row3_col2\" class=\"data row3 col2\" >6.73662e-12</td> \n",
       "        <td id=\"T_8303c838_0eda_11e8_82e4_000c29f4ace4row3_col3\" class=\"data row3 col3\" >0.000923047</td> \n",
       "        <td id=\"T_8303c838_0eda_11e8_82e4_000c29f4ace4row3_col4\" class=\"data row3 col4\" >0.0815449</td> \n",
       "        <td id=\"T_8303c838_0eda_11e8_82e4_000c29f4ace4row3_col5\" class=\"data row3 col5\" >0.136096</td> \n",
       "        <td id=\"T_8303c838_0eda_11e8_82e4_000c29f4ace4row3_col6\" class=\"data row3 col6\" >1.66779</td> \n",
       "        <td id=\"T_8303c838_0eda_11e8_82e4_000c29f4ace4row3_col7\" class=\"data row3 col7\" >1.80392</td> \n",
       "        <td id=\"T_8303c838_0eda_11e8_82e4_000c29f4ace4row3_col8\" class=\"data row3 col8\" >1.29364</td> \n",
       "        <td id=\"T_8303c838_0eda_11e8_82e4_000c29f4ace4row3_col9\" class=\"data row3 col9\" >1.29365</td> \n",
       "        <td id=\"T_8303c838_0eda_11e8_82e4_000c29f4ace4row3_col10\" class=\"data row3 col10\" >0.141358</td> \n",
       "        <td id=\"T_8303c838_0eda_11e8_82e4_000c29f4ace4row3_col11\" class=\"data row3 col11\" >205805</td> \n",
       "    </tr></tbody> \n",
       "</table> "
      ],
      "text/plain": [
       "<pandas.io.formats.style.Styler at 0x7f97284be240>"
      ]
     },
     "execution_count": 8,
     "metadata": {},
     "output_type": "execute_result"
    }
   ],
   "source": [
    "Petsc_AMGX_Full_Cores = np.array([1,2,4,8])\n",
    "Petsc_AMGX_Full_Iterations = np.array([39,37,38,65])\n",
    "Petsc_AMGX_Full_Residual = np.array([5.8251507857323e-11,5.9432372630946e-12,5.4902317909355e-12,6.7366153106333e-12])\n",
    "Petsc_AMGX_Full_Error = np.array([9.2304660445096e-04,9.2304660471372e-04,9.2304660453712e-04,9.2304660476448e-04])\n",
    "Petsc_AMGX_Full_Domain = np.array([0.5903979252,0.3186255926,0.1628198647,0.0815449427])\n",
    "Petsc_AMGX_Full_Matrix = np.array([0.8642156914,0.5233281249,0.2647758999,0.1360955876])\n",
    "Petsc_AMGX_Full_AMGX = np.array([1.1430887716,2.2335680514,2.0293313354,1.6677904826])\n",
    "Petsc_AMGX_Full_LSS = np.array([2.0073132098,2.7569079597,2.2941298202,1.803915502])\n",
    "Petsc_AMGX_Full_LinS = np.array([1.462938244,1.1574490177,0.8998026873,1.2936377062])\n",
    "Petsc_AMGX_Full_CS = np.array([1.4629419528,1.1574543659,0.8998145702,1.2936539742])\n",
    "Petsc_AMGX_Full_DegF = (2129920)/Petsc_AMGX_Full_CS/Petsc_AMGX_Full_Cores\n",
    "Petsc_AMGX_Full_Eff = Petsc_AMGX_Full_CS[0]/(Petsc_AMGX_Full_CS*Petsc_AMGX_Full_Cores)\n",
    "\n",
    "d = {\"Cores\": Petsc_AMGX_Full_Cores,\"Iterations\": Petsc_AMGX_Full_Iterations,\"Residual\": Petsc_AMGX_Full_Residual,\n",
    "    \"Error\": Petsc_AMGX_Full_Error,\"Domain Initialization\": Petsc_AMGX_Full_Domain,\"Matrix Formation\": Petsc_AMGX_Full_Matrix,\n",
    "    \"AMGX Setup\": Petsc_AMGX_Full_AMGX,\"Linear System Setup\": Petsc_AMGX_Full_LSS,\"Linear Solve\": Petsc_AMGX_Full_LinS,\n",
    "    \"Complete Solve\": Petsc_AMGX_Full_CS,\"Efficiency\": Petsc_AMGX_Full_Eff,\"Degrees of Freedom Per Time Per Core\": Petsc_AMGX_Full_DegF}\n",
    "df2 =  pd.DataFrame(data = d)\n",
    "df2 = df2[[\"Cores\",\"Iterations\",\"Residual\",\"Error\",\"Domain Initialization\",\"Matrix Formation\",\"AMGX Setup\",\n",
    "         \"Linear System Setup\",\"Linear Solve\",\"Complete Solve\",\"Efficiency\",\"Degrees of Freedom Per Time Per Core\"]]\n",
    "\n",
    "df2.style.format({\"Error\" : \"{:6.2e}\".format})\n",
    "df2.style.set_caption(\"Degrees of freedom {:d}\".format(DOF)).background_gradient(cmap=cm)\n",
    "# display(HTML(df2.to_html(index=False)))"
   ]
  },
  {
   "cell_type": "code",
   "execution_count": 9,
   "metadata": {},
   "outputs": [
    {
     "data": {
      "text/plain": [
       "<function matplotlib.pyplot.show>"
      ]
     },
     "execution_count": 9,
     "metadata": {},
     "output_type": "execute_result"
    },
    {
     "data": {
      "image/png": "[encoded data removed]",
      "text/plain": [
       "<matplotlib.figure.Figure at 0x7f9728500128>"
      ]
     },
     "metadata": {},
     "output_type": "display_data"
    }
   ],
   "source": [
    "plt.plot(Petsc_AMGX_Full_Cores,Petsc_AMGX_Full_CS,\"bo-\",label=\"Full\")\n",
    "plt.yscale(\"log\")\n",
    "plt.xscale(\"log\")\n",
    "plt.xlabel(\"Number of Cores\")\n",
    "plt.ylabel(\"Complete Solve Time (s)\")\n",
    "plt.title(\"Full Matrix with 4 level mesh using AMGX\")\n",
    "\n",
    "x = Petsc_AMGX_Full_Cores\n",
    "y = Petsc_AMGX_Full_CS\n",
    "c = np.polyfit(np.log(x),np.log(y),1)\n",
    "s = \"Best-fit (slope = {:6.2f})\".format(c[0])\n",
    "plt.loglog(x,np.exp(np.polyval(c,np.log(x))),'k--',label=s)\n",
    "\n",
    "ct = np.array([-1,c[1]])\n",
    "plt.loglog(x,np.exp(np.polyval(ct,np.log(x))),'.-',label=\"Theoretical\",color='k',markersize=10)\n",
    "\n",
    "\n",
    "plt.legend()\n",
    "plt.show"
   ]
  },
  {
   "cell_type": "code",
   "execution_count": 10,
   "metadata": {},
   "outputs": [
    {
     "data": {
      "text/plain": [
       "<matplotlib.legend.Legend at 0x7f97283f8be0>"
      ]
     },
     "execution_count": 10,
     "metadata": {},
     "output_type": "execute_result"
    },
    {
     "data": {
      "image/png": "[encoded data removed]",
      "text/plain": [
       "<matplotlib.figure.Figure at 0x7f97283f8f28>"
      ]
     },
     "metadata": {},
     "output_type": "display_data"
    }
   ],
   "source": [
    "plt.plot(Petsc_AMGX_Full_Cores,Petsc_AMGX_Full_DegF,\"ro-\",label=\"Full\")\n",
    "plt.xlabel(\"Degrees of Freedom Per Time Per Core\")\n",
    "plt.ylabel(\"Number of Cores\")\n",
    "plt.title(\"Full Matrix with 4 level mesh using AMGX\")\n",
    "plt.legend()"
   ]
  },
  {
   "cell_type": "markdown",
   "metadata": {},
   "source": [
    "This section is the timing results for solving the full matrix with a 4 level mesh using AMGX. This matrix has 8,519,680 degrees of freedom. This was solved using the option divide 3.\n",
    "\n",
    "Was not able to get results on 1 or 2 cores. I got a memory error."
   ]
  },
  {
   "cell_type": "code",
   "execution_count": null,
   "metadata": {
    "collapsed": true
   },
   "outputs": [],
   "source": [
    "Petsc_AMGX_Full_Cores = np.array([4,8,16])\n",
    "Petsc_AMGX_Full_Iterations = np.array([53,54,100])\n",
    "Petsc_AMGX_Full_Residual = np.array([2.6928778673549e-11,2.5390739248273e-11,4.4980646373830e+34])\n",
    "Petsc_AMGX_Full_Error = np.array([2.3017137276764e-04,2.3017137259899e-04,2.5162658115142e+32])\n",
    "Petsc_AMGX_Full_Domain = np.array([0.6384049258,0.3250950618,0.1596760514])\n",
    "Petsc_AMGX_Full_Matrix = np.array([1.0501234819,0.5264085192,0.25415168])\n",
    "Petsc_AMGX_Full_AMGX = np.array([5.8601402815,4.7022465706,3.3320006146])\n",
    "Petsc_AMGX_Full_LSS = np.array([6.9102868591,5.2286880751,3.5861939082])\n",
    "Petsc_AMGX_Full_LinS = np.array([3.168793774,2.4353946755,3.4660941007])\n",
    "Petsc_AMGX_Full_CS = np.array([3.1688130379,2.4354128055,3.4661210478])\n",
    "Petsc_AMGX_Full_DegF = (8519680)/Petsc_AMGX_Full_CS/Petsc_AMGX_Full_Cores\n",
    "Petsc_AMGX_Full_Eff = Petsc_AMGX_Full_CS[0]/(Petsc_AMGX_Full_CS*Petsc_AMGX_Full_Cores)\n",
    "\n",
    "d = {\"Cores\": Petsc_AMGX_Full_Cores,\"Iterations\": Petsc_AMGX_Full_Iterations,\"Residual\": Petsc_AMGX_Full_Residual,\n",
    "    \"Error\": Petsc_AMGX_Full_Error,\"Domain Initialization\": Petsc_AMGX_Full_Domain,\"Matrix Formation\": Petsc_AMGX_Full_Matrix,\n",
    "    \"AMGX Setup\": Petsc_AMGX_Full_AMGX,\"Linear System Setup\": Petsc_AMGX_Full_LSS,\"Linear Solve\": Petsc_AMGX_Full_LinS,\n",
    "    \"Complete Solve\": Petsc_AMGX_Full_CS,\"Efficiency\": Petsc_AMGX_Full_Eff,\"Degrees of Freedom Per Time Per Core\": Petsc_AMGX_Full_DegF}\n",
    "df2 =  pd.DataFrame(data = d)\n",
    "df2 = df2[[\"Cores\",\"Iterations\",\"Residual\",\"Error\",\"Domain Initialization\",\"Matrix Formation\",\"AMGX Setup\",\n",
    "         \"Linear System Setup\",\"Linear Solve\",\"Complete Solve\",\"Efficiency\",\"Degrees of Freedom Per Time Per Core\"]]\n",
    "\n",
    "df2.style.format({\"Error\" : \"{:6.2e}\".format})\n",
    "df2.style.set_caption(\"Degrees of freedom {:d}\".format(DOF)).background_gradient(cmap=cm)\n",
    "# display(HTML(df2.to_html(index=False)))"
   ]
  },
  {
   "cell_type": "code",
   "execution_count": null,
   "metadata": {
    "collapsed": true
   },
   "outputs": [],
   "source": [
    "plt.plot(Petsc_AMGX_Full_Cores,Petsc_AMGX_Full_CS,\"bo-\",label=\"Full\")\n",
    "plt.yscale(\"log\")\n",
    "plt.xscale(\"log\")\n",
    "plt.xlabel(\"Number of Cores\")\n",
    "plt.ylabel(\"Complete Solve Time (s)\")\n",
    "plt.title(\"Full Matrix with 4 level mesh using AMGX\")\n",
    "\n",
    "x = Petsc_AMGX_Full_Cores\n",
    "y = Petsc_AMGX_Full_CS\n",
    "c = np.polyfit(np.log(x),np.log(y),1)\n",
    "s = \"Best-fit (slope = {:6.2f})\".format(c[0])\n",
    "plt.loglog(x,np.exp(np.polyval(c,np.log(x))),'k--',label=s)\n",
    "\n",
    "ct = np.array([-1,c[1]])\n",
    "plt.loglog(x,np.exp(np.polyval(ct,np.log(x))),'.-',label=\"Theoretical\",color='k',markersize=10)\n",
    "\n",
    "\n",
    "plt.legend()\n",
    "plt.show"
   ]
  },
  {
   "cell_type": "code",
   "execution_count": null,
   "metadata": {
    "collapsed": true
   },
   "outputs": [],
   "source": [
    "plt.plot(Petsc_AMGX_Full_Cores,Petsc_AMGX_Full_DegF,\"ro-\",label=\"Full\")\n",
    "plt.xlabel(\"Degrees of Freedom Per Time Per Core\")\n",
    "plt.ylabel(\"Number of Cores\")\n",
    "plt.title(\"Full Matrix with 4 level mesh using AMGX\")\n",
    "plt.legend()"
   ]
  },
  {
   "cell_type": "markdown",
   "metadata": {},
   "source": [
    "# Schur Matrix with Hypre (3)\n",
    "This section is the timing results for solving the schur matrix with a 4 level mesh using Hypre. This matrix has 2,129,920 degrees of freedom. This was solved using the option divide 2."
   ]
  },
  {
   "cell_type": "code",
   "execution_count": null,
   "metadata": {
    "collapsed": true
   },
   "outputs": [],
   "source": [
    "DOF = 2129920\n",
    "Petsc_Hypre_Schur_Cores = np.array([1,2,4,8,16,32,64])\n",
    "Petsc_Hypre_Schur_Iterations = np.array([15,16,15,15,15,15,15])\n",
    "Petsc_Hypre_Schur_Residual = np.array([1.4921383876826e-11,1.7220707735628e-11,1.4581840990874e-11,1.5825807654468e-11,\n",
    "                                      1.6702296611205e-11,1.3552860002989e-11,1.3209191840070e-11])\n",
    "Petsc_Hypre_Schur_Error = np.array([9.2304660338315e-04,9.2304660440241e-04,9.2304660380692e-04,9.2304660390208e-04,\n",
    "                                   9.2304660497885e-04,9.2304660452603e-04,9.2304660427317e-04])\n",
    "Petsc_Hypre_Schur_Domain = np.array([0.5760825519,0.3183954835,0.1626387854,0.0870258676,0.0464655059,0.0241027643,\n",
    "                                    0.0130447396])\n",
    "Petsc_Hypre_Schur_Matrix = np.array([1.2923972976,0.6724024935,0.3957461371,0.2491670264,0.1601606103,0.0911872781,\n",
    "                                     0.0480356934])\n",
    "Petsc_Hypre_Schur_Petsc = np.array([1.2439340614,0.743642809,0.4749248756,0.3160935496,0.2168506626,0.1442224058,\n",
    "                                   0.1274887984])\n",
    "Petsc_Hypre_Schur_LSS = np.array([2.5363416905,1.4160582366,0.8706880539,0.5652815754,0.3770350551,0.2354591543,\n",
    "                                 0.1755852286])\n",
    "Petsc_Hypre_Schur_LinS = np.array([6.3049499966,3.9294155822,3.4292208332,3.8394493443,0.9232984641,0.4772214199,\n",
    "                                  0.3042294933])\n",
    "Petsc_Hypre_Schur_PatS = np.array([0.0654250609,0.0362876569,0.0593896497,0.0491331545,0.0050379279,0.002635037,\n",
    "                                  0.0015443831])\n",
    "Petsc_Hypre_Schur_CS = np.array([6.3703831963,3.9657228067,3.4886692446,3.8905896156,0.9283604692,0.4799156356,\n",
    "                                0.3058381772])\n",
    "Petsc_Hypre_Schur_DegF = (DOF)/Petsc_Hypre_Schur_CS/Petsc_Hypre_Schur_Cores\n",
    "Petsc_Hypre_Schur_Eff = Petsc_Hypre_Schur_CS[0]/(Petsc_Hypre_Schur_CS*Petsc_Hypre_Schur_Cores)\n",
    "\n",
    "d = {\"Cores\": Petsc_Hypre_Schur_Cores,\"Iterations\": Petsc_Hypre_Schur_Iterations,\"Residual\": Petsc_Hypre_Schur_Residual,\n",
    "    \"Error\": Petsc_Hypre_Schur_Error,\"Domain Initialization\": Petsc_Hypre_Schur_Domain,\"Matrix Formation\": Petsc_Hypre_Schur_Matrix,\n",
    "    \"Hypre Setup\": Petsc_Hypre_Schur_Petsc,\"Linear System Setup\": Petsc_Hypre_Schur_LSS,\"Linear Solve\": Petsc_Hypre_Schur_LinS,\n",
    "    \"Patch Solve\": Petsc_Hypre_Schur_PatS,\"Complete Solve\": Petsc_Hypre_Schur_CS,\"Efficiency\": Petsc_Hypre_Schur_Eff,\n",
    "     \"Degrees of Freedom Per Time Per Core\": Petsc_Hypre_Schur_DegF}\n",
    "df3 =  pd.DataFrame(data = d)\n",
    "df3 = df3[[\"Cores\",\"Iterations\",\"Residual\",\"Error\",\"Domain Initialization\",\"Matrix Formation\",\"Hypre Setup\",\n",
    "         \"Linear System Setup\",\"Linear Solve\",\"Patch Solve\",\"Complete Solve\",\"Efficiency\",\"Degrees of Freedom Per Time Per Core\"]]\n",
    "\n",
    "df3.style.format({\"Error\" : \"{:6.2e}\".format})\n",
    "df3.style.set_caption(\"Degrees of freedom {:d}\".format(DOF)).background_gradient(cmap=cm)\n",
    "# display(HTML(df3.to_html(index=False)))"
   ]
  },
  {
   "cell_type": "code",
   "execution_count": null,
   "metadata": {
    "collapsed": true
   },
   "outputs": [],
   "source": [
    "plt.plot(Petsc_Hypre_Schur_Cores,Petsc_Hypre_Schur_CS,\"bo-\",label=\"Full\")\n",
    "plt.yscale(\"log\")\n",
    "plt.xscale(\"log\")\n",
    "plt.xlabel(\"Number of Cores\")\n",
    "plt.ylabel(\"Complete Solve Time (s)\")\n",
    "plt.title(\"Schur Matrix with 4 level mesh using Hypre\")\n",
    "\n",
    "x = Petsc_Hypre_Schur_Cores\n",
    "y = Petsc_Hypre_Schur_CS\n",
    "c = np.polyfit(np.log(x),np.log(y),1)\n",
    "s = \"Best-fit (slope = {:6.2f})\".format(c[0])\n",
    "plt.loglog(x,np.exp(np.polyval(c,np.log(x))),'k--',label=s)\n",
    "\n",
    "ct = np.array([-1,c[1]])\n",
    "plt.loglog(x,np.exp(np.polyval(ct,np.log(x))),'.-',label=\"Theoretical\",color='k',markersize=10)\n",
    "\n",
    "\n",
    "\n",
    "plt.legend()\n",
    "plt.show"
   ]
  },
  {
   "cell_type": "code",
   "execution_count": null,
   "metadata": {
    "collapsed": true
   },
   "outputs": [],
   "source": [
    "plt.plot(Petsc_Hypre_Schur_Cores,Petsc_Hypre_Schur_DegF,\"ro-\",label=\"Full\")\n",
    "plt.xlabel(\"Degrees of Freedom Per Time Per Core\")\n",
    "plt.ylabel(\"Number of Cores\")\n",
    "plt.title(\"Schur Matrix with 4 level mesh using Hypre\")\n",
    "plt.legend()"
   ]
  },
  {
   "cell_type": "markdown",
   "metadata": {},
   "source": [
    "This section is the timing results for solving the schur matrix with a 4 level mesh using Hypre. This matrix has 34,078,720 degrees of freedom. This was solved using the option divide 4."
   ]
  },
  {
   "cell_type": "code",
   "execution_count": null,
   "metadata": {
    "collapsed": true
   },
   "outputs": [],
   "source": [
    "Petsc_Hypre_Schur_Cores = np.array([1,2,4,8,16,32,64])\n",
    "Petsc_Hypre_Schur_Iterations = np.array([18,18,17,17,17,17,17])\n",
    "Petsc_Hypre_Schur_Residual = np.array([2.1422726188584e-10,3.2161565985030e-10,2.7612674597579e-10,3.6429603151764e-10,\n",
    "                                      3.4940500168352e-10,3.0469687491220e-10,3.5977521713133e-10])\n",
    "Petsc_Hypre_Schur_Error = np.array([5.7477238317432e-05,5.7477239548413e-05,5.7477238637187e-05,5.7477238433841e-05,\n",
    "                                   5.7477238995146e-05,5.7477239111240e-05,5.7477239589618e-05])\n",
    "Petsc_Hypre_Schur_Domain = np.array([9.4445950346,5.2305916603,2.6958817151,1.3871310527,0.7516239067,0.3453087533,\n",
    "                                    0.1802511932])\n",
    "Petsc_Hypre_Schur_Matrix = np.array([40.0887125916,42.7230843016,81.2467002987,156.3588543868,361.3782361214,\n",
    "                                    1.0041248196,0.5388229892])\n",
    "Petsc_Hypre_Schur_Petsc = np.array([30.6902516082,31.2512701374,41.7367549559,64.0581156817,44.866301632,\n",
    "                                   1.4652302183,3.961427355])\n",
    "Petsc_Hypre_Schur_LSS = np.array([70.7789770334,73.9743770872,122.9834756936,220.416994944,406.2445835313,\n",
    "                                 2.4694171135,4.5003341666])\n",
    "Petsc_Hypre_Schur_LinS = np.array([126.3492145385,63.8764787061,37.5105962078,24.7682500331,19.0830590801,\n",
    "                                  18.4242870962,8.0836519599])\n",
    "Petsc_Hypre_Schur_PatS = np.array([0.9870345647,0.550425772,0.3183192302,0.1909717065,0.1378947459,0.0932485796,\n",
    "                                   0.0663816566])\n",
    "Petsc_Hypre_Schur_CS = np.array([127.3362603822,64.4269330189,37.83016898,24.9670273807,19.221335037,\n",
    "                                18.5241706263,8.1564960435])\n",
    "Petsc_Hypre_Schur_DegF = (34078720)/Petsc_Hypre_Schur_CS/Petsc_Hypre_Schur_Cores\n",
    "Petsc_Hypre_Schur_Eff = Petsc_Hypre_Schur_CS[0]/(Petsc_Hypre_Schur_CS*Petsc_Hypre_Schur_Cores)\n",
    "\n",
    "d = {\"Cores\": Petsc_Hypre_Schur_Cores,\"Iterations\": Petsc_Hypre_Schur_Iterations,\"Residual\": Petsc_Hypre_Schur_Residual,\n",
    "    \"Error\": Petsc_Hypre_Schur_Error,\"Domain Initialization\": Petsc_Hypre_Schur_Domain,\"Matrix Formation\": Petsc_Hypre_Schur_Matrix,\n",
    "    \"Hypre Setup\": Petsc_Hypre_Schur_Petsc,\"Linear System Setup\": Petsc_Hypre_Schur_LSS,\"Linear Solve\": Petsc_Hypre_Schur_LinS,\n",
    "    \"Patch Solve\": Petsc_Hypre_Schur_PatS,\"Complete Solve\": Petsc_Hypre_Schur_CS,\"Efficiency\": Petsc_Hypre_Schur_Eff,\n",
    "     \"Degrees of Freedom Per Time Per Core\": Petsc_Hypre_Schur_DegF}\n",
    "df3 =  pd.DataFrame(data = d)\n",
    "df3 = df3[[\"Cores\",\"Iterations\",\"Residual\",\"Error\",\"Domain Initialization\",\"Matrix Formation\",\"Hypre Setup\",\n",
    "         \"Linear System Setup\",\"Linear Solve\",\"Patch Solve\",\"Complete Solve\",\"Efficiency\",\"Degrees of Freedom Per Time Per Core\"]]\n",
    "\n",
    "df3.style.format({\"Error\" : \"{:6.2e}\".format})\n",
    "df3.style.set_caption(\"Degrees of freedom {:d}\".format(DOF)).background_gradient(cmap=cm)\n",
    "# display(HTML(df3.to_html(index=False)))"
   ]
  },
  {
   "cell_type": "code",
   "execution_count": null,
   "metadata": {
    "collapsed": true
   },
   "outputs": [],
   "source": [
    "plt.plot(Petsc_Hypre_Schur_Cores,Petsc_Hypre_Schur_CS,\"bo-\",label=\"Full\")\n",
    "plt.yscale(\"log\")\n",
    "plt.xscale(\"log\")\n",
    "plt.xlabel(\"Number of Cores\")\n",
    "plt.ylabel(\"Complete Solve Time (s)\")\n",
    "plt.title(\"Schur Matrix with 4 level mesh using Hypre\")\n",
    "\n",
    "x = Petsc_Hypre_Schur_Cores\n",
    "y = Petsc_Hypre_Schur_CS\n",
    "c = np.polyfit(np.log(x),np.log(y),1)\n",
    "s = \"Best-fit (slope = {:6.2f})\".format(c[0])\n",
    "plt.loglog(x,np.exp(np.polyval(c,np.log(x))),'k--',label=s)\n",
    "\n",
    "ct = np.array([-1,c[1]])\n",
    "plt.loglog(x,np.exp(np.polyval(ct,np.log(x))),'.-',label=\"Theoretical\",color='k',markersize=10)\n",
    "\n",
    "\n",
    "\n",
    "plt.legend()\n",
    "plt.show"
   ]
  },
  {
   "cell_type": "code",
   "execution_count": null,
   "metadata": {
    "collapsed": true
   },
   "outputs": [],
   "source": [
    "plt.plot(Petsc_Hypre_Schur_Cores,Petsc_Hypre_Schur_DegF,\"ro-\",label=\"Full\")\n",
    "plt.ylabel(\"Degrees of Freedom Per Time Per Core\")\n",
    "plt.xlabel(\"Number of Cores\")\n",
    "plt.title(\"Schur Matrix with 4 level mesh using Hypre\")\n",
    "plt.legend()"
   ]
  },
  {
   "cell_type": "markdown",
   "metadata": {},
   "source": [
    "# Schur Matrix with AMGX (4)\n",
    "This section is the timing results for solving the schur matrix with a 4 level mesh using AMGX. This matrix has 2,129,920 degrees of freedom. This was solved using the option divide 2."
   ]
  },
  {
   "cell_type": "code",
   "execution_count": null,
   "metadata": {
    "collapsed": true
   },
   "outputs": [],
   "source": [
    "Petsc_AMGX_Schur_Cores = np.array([1,2,4,8])\n",
    "Petsc_AMGX_Schur_Iterations = np.array([17,17,22,23])\n",
    "Petsc_AMGX_Schur_Residual = np.array([1.3695817646415e-11,1.3548303935857e-11,1.8316663826715e-11,1.7930090921489e-11])\n",
    "Petsc_AMGX_Schur_Error = np.array([9.2304660344892e-04,9.2304660472995e-04,9.2304659469577e-04,9.2304660479051e-04])\n",
    "Petsc_AMGX_Schur_Domain = np.array([0.5855890301,0.3206256908,0.1588446304,0.0792485065])\n",
    "Petsc_AMGX_Schur_Matrix = np.array([1.4475454043,0.7005159386,0.3667015114,0.2538813382])\n",
    "Petsc_AMGX_Schur_AMGX = np.array([1.5284000524,0.8723155789,0.623428325,0.8332132946])\n",
    "Petsc_AMGX_Schur_LSS = np.array([2.975953922,1.5728427425,0.9901511835,1.0871343354])\n",
    "Petsc_AMGX_Schur_LinS = np.array([0.3923422311,0.3040044664,0.2743465336,0.2876472744])\n",
    "Petsc_AMGX_Schur_PS = np.array([0.0601743763,0.033307604,0.0168305067,0.0098936041])\n",
    "Petsc_AMGX_Schur_CS = np.array([0.4525222653,0.3373205181,0.2911922364,0.2975672569])\n",
    "Petsc_AMGX_Schur_DegF = (2129920)/Petsc_AMGX_Schur_CS/Petsc_AMGX_Schur_Cores\n",
    "Petsc_AMGX_Schur_Eff = np.array(np.ones(len(Petsc_AMGX_Schur_Cores))*Petsc_AMGX_Schur_CS[0]/(Petsc_AMGX_Schur_CS*Petsc_AMGX_Schur_Cores))\n",
    "\n",
    "d = {\"Cores\": Petsc_AMGX_Schur_Cores,\"Iterations\": Petsc_AMGX_Schur_Iterations,\"Residual\": Petsc_AMGX_Schur_Residual,\n",
    "    \"Error\": Petsc_AMGX_Schur_Error,\"Domain Initialization\": Petsc_AMGX_Schur_Domain,\"Matrix Formation\": Petsc_AMGX_Schur_Matrix,\n",
    "    \"AMGX Setup\": Petsc_AMGX_Schur_AMGX,\"Linear System Setup\": Petsc_AMGX_Schur_LSS,\"Linear Solve\": Petsc_AMGX_Schur_LinS,\n",
    "    \"Patch Solve\": Petsc_AMGX_Schur_PS,\"Complete Solve\": Petsc_AMGX_Schur_CS,\"Efficiency\": Petsc_AMGX_Schur_Eff,\n",
    "    \"Degrees of Freedom Per Time Per Core\": Petsc_AMGX_Schur_DegF}\n",
    "df4 =  pd.DataFrame(data = d)\n",
    "df4 = df4[[\"Cores\",\"Iterations\",\"Residual\",\"Error\",\"Domain Initialization\",\"Matrix Formation\",\"AMGX Setup\",\n",
    "         \"Linear System Setup\",\"Linear Solve\",\"Patch Solve\",\"Complete Solve\",\"Efficiency\",\"Degrees of Freedom Per Time Per Core\"]]\n",
    "\n",
    "df4.style.format({\"Error\" : \"{:6.2e}\".format})\n",
    "df4.style.set_caption(\"Degrees of freedom {:d}\".format(DOF)).background_gradient(cmap=cm)\n",
    "# display(HTML(df4.to_html(index=False)))"
   ]
  },
  {
   "cell_type": "code",
   "execution_count": null,
   "metadata": {
    "collapsed": true
   },
   "outputs": [],
   "source": [
    "plt.plot(Petsc_AMGX_Schur_Cores,Petsc_AMGX_Schur_CS,\"bo-\",label=\"Schur\")\n",
    "plt.yscale(\"log\")\n",
    "plt.xscale(\"log\")\n",
    "plt.xlabel(\"Number of Cores\")\n",
    "plt.ylabel(\"Complete Solve Time (s)\")\n",
    "plt.title(\"Schur Matrix with 4 level mesh using AMGX\")\n",
    "\n",
    "x = Petsc_AMGX_Schur_Cores\n",
    "y = Petsc_AMGX_Schur_CS\n",
    "c = np.polyfit(np.log(x),np.log(y),1)\n",
    "s = \"Best-fit (slope = {:6.2f})\".format(c[0])\n",
    "plt.loglog(x,np.exp(np.polyval(c,np.log(x))),'k--',label=s)\n",
    "\n",
    "ct = np.array([-1,c[1]])\n",
    "plt.loglog(x,np.exp(np.polyval(ct,np.log(x))),'.-',label=\"Theoretical\",color='k',markersize=10)\n",
    "\n",
    "\n",
    "plt.legend()\n",
    "plt.show"
   ]
  },
  {
   "cell_type": "code",
   "execution_count": null,
   "metadata": {
    "collapsed": true
   },
   "outputs": [],
   "source": [
    "plt.plot(Petsc_AMGX_Schur_Cores,Petsc_AMGX_Schur_DegF,\"ro-\",label=\"Full\")\n",
    "plt.xlabel(\"Degrees of Freedom Per Time Per Core\")\n",
    "plt.ylabel(\"Number of Cores\")\n",
    "plt.title(\"Schur Matrix with 4 level mesh using AMGX\")\n",
    "plt.legend()"
   ]
  },
  {
   "cell_type": "markdown",
   "metadata": {},
   "source": [
    "This section is the timing results for solving the schur matrix with a 3 level mesh using AMGX. This matrix has 8,519,680 degrees of freedom. This was solved using the option divide 3."
   ]
  },
  {
   "cell_type": "code",
   "execution_count": null,
   "metadata": {
    "collapsed": true
   },
   "outputs": [],
   "source": [
    "Petsc_AMGX_Schur_Cores = np.array([1,2,4,8,16])\n",
    "Petsc_AMGX_Schur_Iterations = np.array([19,20,20,41,43])\n",
    "Petsc_AMGX_Schur_Residual = np.array([5.2936983910698e-11,7.5600542815270e-11,7.4026913091532e-11,7.6694115873228e-11,\n",
    "                                     7.7819407916075e-11])\n",
    "Petsc_AMGX_Schur_Error = np.array([2.3017137248232e-04,2.3017137207938e-04,2.3017137136600e-04,2.3017140291427e-04,\n",
    "                                  2.3017137841256e-04])\n",
    "Petsc_AMGX_Schur_Domain = np.array([2.3337616937,1.2930742003,0.6458368543,0.320829864,0.1596537432])\n",
    "Petsc_AMGX_Schur_Matrix = np.array([4.7120087786,2.4247896112,1.3989577046,0.7023233447,0.3609061177])\n",
    "Petsc_AMGX_Schur_AMGX = np.array([3.3300434468,2.3564731745,3.2339107711,1.1047223745,0.8511620792])\n",
    "Petsc_AMGX_Schur_LSS = np.array([8.0420624677,4.7812800098,4.6328985485,1.807076874,1.2121099722])\n",
    "Petsc_AMGX_Schur_LinS = np.array([1.4526519399,0.8794994916,0.5656855198,0.791941556,0.6672197783])\n",
    "Petsc_AMGX_Schur_PS = np.array([0.2378894442,0.1342686384,0.0674168489,0.0339031809,0.0184403416])\n",
    "Petsc_AMGX_Schur_CS = np.array([1.6905478806,1.013778522,0.6331196053,0.8258673021,0.6856942482])\n",
    "Petsc_AMGX_Schur_DegF = (8519680)/Petsc_AMGX_Schur_CS/Petsc_AMGX_Schur_Cores\n",
    "Petsc_AMGX_Schur_Eff = np.array(np.ones(len(Petsc_AMGX_Schur_Cores))*Petsc_AMGX_Schur_CS[0]/(Petsc_AMGX_Schur_CS*Petsc_AMGX_Schur_Cores))\n",
    "\n",
    "d = {\"Cores\": Petsc_AMGX_Schur_Cores,\"Iterations\": Petsc_AMGX_Schur_Iterations,\"Residual\": Petsc_AMGX_Schur_Residual,\n",
    "    \"Error\": Petsc_AMGX_Schur_Error,\"Domain Initialization\": Petsc_AMGX_Schur_Domain,\"Matrix Formation\": Petsc_AMGX_Schur_Matrix,\n",
    "    \"AMGX Setup\": Petsc_AMGX_Schur_AMGX,\"Linear System Setup\": Petsc_AMGX_Schur_LSS,\"Linear Solve\": Petsc_AMGX_Schur_LinS,\n",
    "    \"Patch Solve\": Petsc_AMGX_Schur_PS,\"Complete Solve\": Petsc_AMGX_Schur_CS,\"Efficiency\": Petsc_AMGX_Schur_Eff,\n",
    "    \"Degrees of Freedom Per Time Per Core\": Petsc_AMGX_Schur_DegF}\n",
    "df4 =  pd.DataFrame(data = d)\n",
    "df4 = df4[[\"Cores\",\"Iterations\",\"Residual\",\"Error\",\"Domain Initialization\",\"Matrix Formation\",\"AMGX Setup\",\n",
    "         \"Linear System Setup\",\"Linear Solve\",\"Patch Solve\",\"Complete Solve\",\"Efficiency\",\"Degrees of Freedom Per Time Per Core\"]]\n",
    "\n",
    "df4.style.format({\"Error\" : \"{:6.2e}\".format})\n",
    "df4.style.set_caption(\"Degrees of freedom {:d}\".format(DOF)).background_gradient(cmap=cm)\n",
    "# display(HTML(df4.to_html(index=False)))"
   ]
  },
  {
   "cell_type": "code",
   "execution_count": null,
   "metadata": {
    "collapsed": true
   },
   "outputs": [],
   "source": [
    "plt.plot(Petsc_AMGX_Schur_Cores,Petsc_AMGX_Schur_CS,\"bo-\",label=\"Schur\")\n",
    "plt.yscale(\"log\")\n",
    "plt.xscale(\"log\")\n",
    "plt.xlabel(\"Number of Cores\")\n",
    "plt.ylabel(\"Complete Solve Time (s)\")\n",
    "plt.title(\"Schur Matrix with 4 level mesh using AMGX\")\n",
    "\n",
    "x = Petsc_AMGX_Schur_Cores\n",
    "y = Petsc_AMGX_Schur_CS\n",
    "c = np.polyfit(np.log(x),np.log(y),1)\n",
    "s = \"Best-fit (slope = {:6.2f})\".format(c[0])\n",
    "plt.loglog(x,np.exp(np.polyval(c,np.log(x))),'k--',label=s)\n",
    "\n",
    "ct = np.array([-1,c[1]])\n",
    "plt.loglog(x,np.exp(np.polyval(ct,np.log(x))),'.-',label=\"Theoretical\",color='k',markersize=10)\n",
    "\n",
    "\n",
    "plt.legend()\n",
    "plt.show"
   ]
  },
  {
   "cell_type": "code",
   "execution_count": null,
   "metadata": {
    "collapsed": true
   },
   "outputs": [],
   "source": [
    "plt.plot(Petsc_AMGX_Schur_Cores,Petsc_AMGX_Schur_DegF,\"ro-\",label=\"Full\")\n",
    "plt.xlabel(\"Degrees of Freedom Per Time Per Core\")\n",
    "plt.ylabel(\"Number of Cores\")\n",
    "plt.title(\"Schur Matrix with 4 level mesh using AMGX\")\n",
    "plt.legend()"
   ]
  },
  {
   "cell_type": "code",
   "execution_count": null,
   "metadata": {
    "collapsed": true
   },
   "outputs": [],
   "source": [
    "plt.plot(Petsc_AMGX_Schur_Cores,Petsc_AMGX_Schur_CS,'b.-',label=\"Schur\",markersize=10)\n",
    "plt.plot(Petsc_AMGX_Full_Cores,Petsc_AMGX_Full_CS,'k.-',label=\"Full\",markersize=10)\n",
    "plt.xscale(\"log\")\n",
    "plt.yscale(\"log\")\n",
    "plt.ylabel(\"Number of Cores\")\n",
    "plt.xlabel(\"Complete Solve Time (s)\")\n",
    "plt.title(\"Schur vs Full Matrix with 4 level mesh using AMGX\")\n",
    "plt.legend()\n",
    "plt.show"
   ]
  },
  {
   "cell_type": "code",
   "execution_count": null,
   "metadata": {
    "collapsed": true
   },
   "outputs": [],
   "source": []
  }
 ],
 "metadata": {
  "kernelspec": {
   "display_name": "Python 3",
   "language": "python",
   "name": "python3"
  },
  "language_info": {
   "codemirror_mode": {
    "name": "ipython",
    "version": 3
   },
   "file_extension": ".py",
   "mimetype": "text/x-python",
   "name": "python",
   "nbconvert_exporter": "python",
   "pygments_lexer": "ipython3",
   "version": "3.6.3"
  }
 },
 "nbformat": 4,
 "nbformat_minor": 2
}
