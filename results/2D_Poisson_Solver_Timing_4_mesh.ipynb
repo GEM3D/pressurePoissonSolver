{
 "cells": [
  {
   "cell_type": "markdown",
   "metadata": {},
   "source": [
    "# Timing results for 2D Pressure Poisson Solver"
   ]
  },
  {
   "cell_type": "code",
   "execution_count": null,
   "metadata": {
    "collapsed": true
   },
   "outputs": [],
   "source": [
    "%matplotlib inline\n",
    "import numpy as np\n",
    "import pandas as pd\n",
    "import matplotlib.pyplot as plt\n",
    "from IPython.display import display, HTML"
   ]
  },
  {
   "cell_type": "markdown",
   "metadata": {},
   "source": [
    "# Full Matrix with Hypre (1)\n",
    "4 level Mesh, divide 2\n",
    "\n",
    "(Note: on all numbers of cores I recieved this message: Linear solve did not converge due to DIVERGED_ITS iterations 5000)"
   ]
  },
  {
   "cell_type": "code",
   "execution_count": null,
   "metadata": {},
   "outputs": [],
   "source": [
    "Petsc_Hypre_Full_Cores = np.array([1,2,4,8,16,32,64])\n",
    "Petsc_Hypre_Full_Iterations = np.array([5000,5000,5000,5000,5000,5000,5000])\n",
    "Petsc_Hypre_Full_Residual = np.array([5.1440916412698e-12,7.4457000462186e-12,5.1190832230103e-12,6.3506797888769e-12,\n",
    "                                      5.1339906865290e-12,7.8046459024054e-12,6.9679990642007e-12])\n",
    "Petsc_Hypre_Full_Error = np.array([9.2304660458272e-04,9.2304660460753e-04,9.2304660458417e-04,9.2304660458907e-04,\n",
    "                                   9.2304660458272e-04,9.2304660459265e-04,9.2304660458041e-04])\n",
    "Petsc_Hypre_Full_Domain = np.array([0.5839118612,0.3169376837,0.1638771106,0.0902800064,0.0513676287,0.0459715367,\n",
    "                                   0.0303975181])\n",
    "Petsc_Hypre_Full_Matrix = np.array([0.8104584917,0.5273871579,0.2756661383,0.147858201,0.0851094482,0.046911915,\n",
    "                                   0.0311453948])\n",
    "Petsc_Hypre_Full_Petsc = np.array([2.6410983062,28.3480519357,14.1447757994,5.2138989039,1.7539493038,0.714940094,\n",
    "                                  0.5130295848])\n",
    "Petsc_Hypre_Full_LSS = np.array([3.4515674341,28.8754516324,14.4204580111,5.36177828,1.8390873784,0.7619222103,\n",
    "                                0.5442787802])\n",
    "Petsc_Hypre_Full_LinS = np.array([3593.655821962,2223.762275693,1889.523625442,1784.873625948,1674.99098359,\n",
    "                                  1205.707730647,1163.371327034])\n",
    "Petsc_Hypre_Full_CS = np.array([3593.655827128,2223.762286893,1889.524029697,1784.874220864,1674.992754103,\n",
    "                               1205.710852144,1163.373198184])\n",
    "Petsc_Hypre_Full_DegF = (2129920)/Petsc_Hypre_Full_CS/Petsc_Hypre_Full_Cores\n",
    "Petsc_Hypre_Full_Eff = Petsc_Hypre_Full_CS[0]/(Petsc_Hypre_Full_CS*Petsc_Hypre_Full_Cores)\n",
    "\n",
    "d = {\"Cores\": Petsc_Hypre_Full_Cores,\"Iterations\": Petsc_Hypre_Full_Iterations,\"Residual\": Petsc_Hypre_Full_Residual,\n",
    "    \"Error\": Petsc_Hypre_Full_Error,\"Domain Initialization\": Petsc_Hypre_Full_Domain,\"Matrix Formation\": Petsc_Hypre_Full_Matrix,\n",
    "    \"Hypre Setup\": Petsc_Hypre_Full_Petsc,\"Linear System Setup\": Petsc_Hypre_Full_LSS,\"Linear Solve\": Petsc_Hypre_Full_LinS,\n",
    "    \"Complete Solve\": Petsc_Hypre_Full_CS,\"Efficiency\": Petsc_Hypre_Full_Eff,\"Degrees of Freedom Per Time Per Core\": Petsc_Hypre_Full_DegF}\n",
    "df1 =  pd.DataFrame(data = d)\n",
    "df1 = df1[[\"Cores\",\"Iterations\",\"Residual\",\"Error\",\"Domain Initialization\",\"Matrix Formation\",\"Hypre Setup\",\n",
    "         \"Linear System Setup\",\"Linear Solve\",\"Complete Solve\",\"Efficiency\",\"Degrees of Freedom Per Time Per Core\"]]\n",
    "\n",
    "df1.style.format({\"Error\" : \"{:6.2e}\".format})\n",
    "display(HTML(df1.to_html(index=False)))"
   ]
  },
  {
   "cell_type": "code",
   "execution_count": null,
   "metadata": {},
   "outputs": [],
   "source": [
    "x = Petsc_Hypre_Full_Cores\n",
    "y = Petsc_Hypre_Full_CS\n",
    "\n",
    "\n",
    "plt.plot(x,y,\"bo-\",label=\"Hypre (Full matrix)\")\n",
    "plt.yscale(\"log\")\n",
    "plt.xscale(\"log\")\n",
    "plt.ylabel(\"Complete Solve Time (s)\")\n",
    "plt.xlabel(\"Number of Cores\")\n",
    "plt.title(\"Full Matrix with 4 level mesh using Hypre\")\n",
    "\n",
    "c = np.polyfit(np.log(x),np.log(y),1)\n",
    "\n",
    "s = \"Best-fit (slope = {:6.2f})\".format(c[0])\n",
    "plt.loglog(x,np.exp(np.polyval(c,np.log(x))),'k--',label=s)\n",
    "\n",
    "ct = np.array([-1,c[1]])\n",
    "plt.loglog(x,np.exp(np.polyval(ct,np.log(x))),'.-',label=\"Theoretical\",color='k',markersize=10)\n",
    "\n",
    "\n",
    "plt.legend()\n",
    "plt.show"
   ]
  },
  {
   "cell_type": "code",
   "execution_count": null,
   "metadata": {},
   "outputs": [],
   "source": [
    "plt.plot(Petsc_Hypre_Full_DegF,Petsc_Hypre_Full_CS,\"ro-\",label=\"Full\")\n",
    "plt.ylabel(\"Degrees of Freedom Per Time Per Core\")\n",
    "plt.xlabel(\"Complete Solve Time (s)\")\n",
    "plt.title(\"Full Matrix with 4 level mesh using Hypre\")\n",
    "plt.legend()"
   ]
  },
  {
   "cell_type": "markdown",
   "metadata": {},
   "source": [
    "# Full Matrix with AMGX (2)\n",
    "4 level Mesh, divide 2"
   ]
  },
  {
   "cell_type": "code",
   "execution_count": null,
   "metadata": {},
   "outputs": [],
   "source": [
    "Petsc_AMGX_Full_Cores = np.array([1,2,4,8])\n",
    "Petsc_AMGX_Full_Iterations = np.array([39,37,38,65])\n",
    "Petsc_AMGX_Full_Residual = np.array([5.8251507857323e-11,5.9432372630946e-12,5.4902317909355e-12,6.7366153106333e-12])\n",
    "Petsc_AMGX_Full_Error = np.array([9.2304660445096e-04,9.2304660471372e-04,9.2304660453712e-04,9.2304660476448e-04])\n",
    "Petsc_AMGX_Full_Domain = np.array([0.5903979252,0.3186255926,0.1628198647,0.0815449427])\n",
    "Petsc_AMGX_Full_Matrix = np.array([0.8642156914,0.5233281249,0.2647758999,0.1360955876])\n",
    "Petsc_AMGX_Full_AMGX = np.array([1.1430887716,2.2335680514,2.0293313354,1.6677904826])\n",
    "Petsc_AMGX_Full_LSS = np.array([2.0073132098,2.7569079597,2.2941298202,1.803915502])\n",
    "Petsc_AMGX_Full_LinS = np.array([1.462938244,1.1574490177,0.8998026873,1.2936377062])\n",
    "Petsc_AMGX_Full_CS = np.array([1.4629419528,1.1574543659,0.8998145702,1.2936539742])\n",
    "Petsc_AMGX_Full_DegF = (2129920)/Petsc_AMGX_Full_CS/Petsc_AMGX_Full_Cores\n",
    "Petsc_AMGX_Full_Eff = Petsc_AMGX_Full_CS[0]/(Petsc_AMGX_Full_CS*Petsc_AMGX_Full_Cores)\n",
    "\n",
    "d = {\"Cores\": Petsc_AMGX_Full_Cores,\"Iterations\": Petsc_AMGX_Full_Iterations,\"Residual\": Petsc_AMGX_Full_Residual,\n",
    "    \"Error\": Petsc_AMGX_Full_Error,\"Domain Initialization\": Petsc_AMGX_Full_Domain,\"Matrix Formation\": Petsc_AMGX_Full_Matrix,\n",
    "    \"AMGX Setup\": Petsc_AMGX_Full_AMGX,\"Linear System Setup\": Petsc_AMGX_Full_LSS,\"Linear Solve\": Petsc_AMGX_Full_LinS,\n",
    "    \"Complete Solve\": Petsc_AMGX_Full_CS,\"Efficiency\": Petsc_AMGX_Full_Eff,\"Degrees of Freedom Per Time Per Core\": Petsc_AMGX_Full_DegF}\n",
    "df2 =  pd.DataFrame(data = d)\n",
    "df2 = df2[[\"Cores\",\"Iterations\",\"Residual\",\"Error\",\"Domain Initialization\",\"Matrix Formation\",\"AMGX Setup\",\n",
    "         \"Linear System Setup\",\"Linear Solve\",\"Complete Solve\",\"Efficiency\",\"Degrees of Freedom Per Time Per Core\"]]\n",
    "df2"
   ]
  },
  {
   "cell_type": "code",
   "execution_count": null,
   "metadata": {},
   "outputs": [],
   "source": [
    "plt.plot(Petsc_AMGX_Full_Cores,Petsc_AMGX_Full_CS,\"bo-\",label=\"Full\")\n",
    "plt.yscale(\"log\")\n",
    "plt.xscale(\"log\")\n",
    "plt.xlabel(\"Number of Cores\")\n",
    "plt.ylabel(\"Complete Solve Time (s)\")\n",
    "plt.title(\"Full Matrix with 4 level mesh using AMGX\")\n",
    "\n",
    "x = Petsc_AMGX_Full_Cores\n",
    "y = Petsc_AMGX_Full_CS\n",
    "c = np.polyfit(np.log(x),np.log(y),1)\n",
    "s = \"Best-fit (slope = {:6.2f})\".format(c[0])\n",
    "plt.loglog(x,np.exp(np.polyval(c,np.log(x))),'k--',label=s)\n",
    "\n",
    "ct = np.array([-1,c[1]])\n",
    "plt.loglog(x,np.exp(np.polyval(ct,np.log(x))),'.-',label=\"Theoretical\",color='k',markersize=10)\n",
    "\n",
    "\n",
    "plt.legend()\n",
    "plt.show"
   ]
  },
  {
   "cell_type": "code",
   "execution_count": null,
   "metadata": {},
   "outputs": [],
   "source": [
    "plt.plot(Petsc_AMGX_Full_DegF,Petsc_AMGX_Full_CS,\"ro-\",label=\"Full\")\n",
    "plt.ylabel(\"Degrees of Freedom Per Time Per Core\")\n",
    "plt.xlabel(\"Complete Solve Time (s)\")\n",
    "plt.title(\"Full Matrix with 4 level mesh using AMGX\")\n",
    "plt.legend()"
   ]
  },
  {
   "cell_type": "markdown",
   "metadata": {},
   "source": [
    "# Schur Matrix with Hypre (3)\n",
    "4 level Mesh, divide 2"
   ]
  },
  {
   "cell_type": "code",
   "execution_count": null,
   "metadata": {},
   "outputs": [],
   "source": [
    "Petsc_Hypre_Schur_Cores = np.array([1,2,4,8,16,32,64])\n",
    "Petsc_Hypre_Schur_Iterations = np.array([15,16,15,15,15,15,15])\n",
    "Petsc_Hypre_Schur_Residual = np.array([1.4921383876826e-11,1.7220707735628e-11,1.4581840990874e-11,1.5825807654468e-11,\n",
    "                                      1.6702296611205e-11,1.3552860002989e-11,1.3209191840070e-11])\n",
    "Petsc_Hypre_Schur_Error = np.array([9.2304660338315e-04,9.2304660440241e-04,9.2304660380692e-04,9.2304660390208e-04,\n",
    "                                   9.2304660497885e-04,9.2304660452603e-04,9.2304660427317e-04])\n",
    "Petsc_Hypre_Schur_Domain = np.array([0.5760825519,0.3183954835,0.1626387854,0.0870258676,0.0464655059,0.0241027643,\n",
    "                                    0.0130447396])\n",
    "Petsc_Hypre_Schur_Matrix = np.array([1.2923972976,0.6724024935,0.3957461371,0.2491670264,0.1601606103,0.0911872781,\n",
    "                                     0.0480356934])\n",
    "Petsc_Hypre_Schur_Petsc = np.array([1.2439340614,0.743642809,0.4749248756,0.3160935496,0.2168506626,0.1442224058,\n",
    "                                   0.1274887984])\n",
    "Petsc_Hypre_Schur_LSS = np.array([2.5363416905,1.4160582366,0.8706880539,0.5652815754,0.3770350551,0.2354591543,\n",
    "                                 0.1755852286])\n",
    "Petsc_Hypre_Schur_LinS = np.array([6.3049499966,3.9294155822,3.4292208332,3.8394493443,0.9232984641,0.4772214199,\n",
    "                                  0.3042294933])\n",
    "Petsc_Hypre_Schur_PatS = np.array([0.0654250609,0.0362876569,0.0593896497,0.0491331545,0.0050379279,0.002635037,\n",
    "                                  0.0015443831])\n",
    "Petsc_Hypre_Schur_CS = np.array([6.3703831963,3.9657228067,3.4886692446,3.8905896156,0.9283604692,0.4799156356,\n",
    "                                0.3058381772])\n",
    "Petsc_Hypre_Schur_DegF = (2129920)/Petsc_Hypre_Full_CS/Petsc_Hypre_Full_Cores\n",
    "Petsc_Hypre_Schur_Eff = Petsc_Hypre_Schur_CS[0]/(Petsc_Hypre_Schur_CS*Petsc_Hypre_Schur_Cores)\n",
    "\n",
    "d = {\"Cores\": Petsc_Hypre_Schur_Cores,\"Iterations\": Petsc_Hypre_Schur_Iterations,\"Residual\": Petsc_Hypre_Schur_Residual,\n",
    "    \"Error\": Petsc_Hypre_Schur_Error,\"Domain Initialization\": Petsc_Hypre_Schur_Domain,\"Matrix Formation\": Petsc_Hypre_Schur_Matrix,\n",
    "    \"Hypre Setup\": Petsc_Hypre_Schur_Petsc,\"Linear System Setup\": Petsc_Hypre_Schur_LSS,\"Linear Solve\": Petsc_Hypre_Schur_LinS,\n",
    "    \"Patch Solve\": Petsc_Hypre_Schur_PatS,\"Complete Solve\": Petsc_Hypre_Schur_CS,\"Efficiency\": Petsc_Hypre_Schur_Eff,\n",
    "     \"Degrees of Freedom Per Time Per Core\": Petsc_Hypre_Schur_DegF}\n",
    "df3 =  pd.DataFrame(data = d)\n",
    "df3 = df3[[\"Cores\",\"Iterations\",\"Residual\",\"Error\",\"Domain Initialization\",\"Matrix Formation\",\"Hypre Setup\",\n",
    "         \"Linear System Setup\",\"Linear Solve\",\"Patch Solve\",\"Complete Solve\",\"Efficiency\",\"Degrees of Freedom Per Time Per Core\"]]\n",
    "df3"
   ]
  },
  {
   "cell_type": "code",
   "execution_count": null,
   "metadata": {},
   "outputs": [],
   "source": [
    "plt.plot(Petsc_Hypre_Schur_Cores,Petsc_Hypre_Schur_CS,\"bo-\",label=\"Full\")\n",
    "plt.yscale(\"log\")\n",
    "plt.xscale(\"log\")\n",
    "plt.xlabel(\"Number of Cores\")\n",
    "plt.ylabel(\"Complete Solve Time (s)\")\n",
    "plt.title(\"Schur Matrix with 4 level mesh using Hypre\")\n",
    "\n",
    "x = Petsc_Hypre_Schur_Cores\n",
    "y = Petsc_Hypre_Schur_CS\n",
    "c = np.polyfit(np.log(x),np.log(y),1)\n",
    "s = \"Best-fit (slope = {:6.2f})\".format(c[0])\n",
    "plt.loglog(x,np.exp(np.polyval(c,np.log(x))),'k--',label=s)\n",
    "\n",
    "ct = np.array([-1,c[1]])\n",
    "plt.loglog(x,np.exp(np.polyval(ct,np.log(x))),'.-',label=\"Theoretical\",color='k',markersize=10)\n",
    "\n",
    "\n",
    "\n",
    "plt.legend()\n",
    "plt.show"
   ]
  },
  {
   "cell_type": "code",
   "execution_count": null,
   "metadata": {},
   "outputs": [],
   "source": [
    "plt.plot(Petsc_Hypre_Schur_DegF,Petsc_Hypre_Schur_CS,\"ro-\",label=\"Full\")\n",
    "plt.ylabel(\"Degrees of Freedom\")\n",
    "plt.xlabel(\"Complete Solve Time (s)\")\n",
    "plt.title(\"Schur Matrix with 4 level mesh using Hypre\")\n",
    "plt.legend()"
   ]
  },
  {
   "cell_type": "markdown",
   "metadata": {},
   "source": [
    "# Schur Matrix with AMGX (4)\n",
    "4 level Mesh, divide 2"
   ]
  },
  {
   "cell_type": "code",
   "execution_count": null,
   "metadata": {},
   "outputs": [],
   "source": [
    "Petsc_AMGX_Schur_Cores = np.array([1,2,4,8])\n",
    "Petsc_AMGX_Schur_Iterations = np.array([17,17,22,23])\n",
    "Petsc_AMGX_Schur_Residual = np.array([1.3695817646415e-11,1.3548303935857e-11,1.8316663826715e-11,1.7930090921489e-11])\n",
    "Petsc_AMGX_Schur_Error = np.array([9.2304660344892e-04,9.2304660472995e-04,9.2304659469577e-04,9.2304660479051e-04])\n",
    "Petsc_AMGX_Schur_Domain = np.array([0.5855890301,0.3206256908,0.1588446304,0.0792485065])\n",
    "Petsc_AMGX_Schur_Matrix = np.array([1.4475454043,0.7005159386,0.3667015114,0.2538813382])\n",
    "Petsc_AMGX_Schur_AMGX = np.array([1.5284000524,0.8723155789,0.623428325,0.8332132946])\n",
    "Petsc_AMGX_Schur_LSS = np.array([2.975953922,1.5728427425,0.9901511835,1.0871343354])\n",
    "Petsc_AMGX_Schur_LinS = np.array([0.3923422311,0.3040044664,0.2743465336,0.2876472744])\n",
    "Petsc_AMGX_Schur_PS = np.array([0.0601743763,0.033307604,0.0168305067,0.0098936041])\n",
    "Petsc_AMGX_Schur_CS = np.array([0.4525222653,0.3373205181,0.2911922364,0.2975672569])\n",
    "Petsc_AMGX_Schur_DegF = (2129920)/Petsc_AMGX_Schur_CS/Petsc_AMGX_Schur_Cores\n",
    "Petsc_AMGX_Schur_Eff = np.array(np.ones(len(Petsc_AMGX_Schur_Cores))*Petsc_AMGX_Schur_CS[0]/(Petsc_AMGX_Schur_CS*Petsc_AMGX_Schur_Cores))\n",
    "\n",
    "d = {\"Cores\": Petsc_AMGX_Schur_Cores,\"Iterations\": Petsc_AMGX_Schur_Iterations,\"Residual\": Petsc_AMGX_Schur_Residual,\n",
    "    \"Error\": Petsc_AMGX_Schur_Error,\"Domain Initialization\": Petsc_AMGX_Schur_Domain,\"Matrix Formation\": Petsc_AMGX_Schur_Matrix,\n",
    "    \"AMGX Setup\": Petsc_AMGX_Schur_AMGX,\"Linear System Setup\": Petsc_AMGX_Schur_LSS,\"Linear Solve\": Petsc_AMGX_Schur_LinS,\n",
    "    \"Patch Solve\": Petsc_AMGX_Schur_PS,\"Complete Solve\": Petsc_AMGX_Schur_CS,\"Efficiency\": Petsc_AMGX_Schur_Eff,\n",
    "    \"Degrees of Freedom Per Time Per Core\": Petsc_AMGX_Full_DegF}\n",
    "df4 =  pd.DataFrame(data = d)\n",
    "df4 = df4[[\"Cores\",\"Iterations\",\"Residual\",\"Error\",\"Domain Initialization\",\"Matrix Formation\",\"AMGX Setup\",\n",
    "         \"Linear System Setup\",\"Linear Solve\",\"Patch Solve\",\"Complete Solve\",\"Efficiency\",\"Degrees of Freedom Per Time Per Core\"]]\n",
    "df4"
   ]
  },
  {
   "cell_type": "code",
   "execution_count": null,
   "metadata": {},
   "outputs": [],
   "source": [
    "plt.plot(Petsc_AMGX_Schur_Cores,Petsc_AMGX_Schur_CS,\"bo-\",label=\"Schur\")\n",
    "plt.yscale(\"log\")\n",
    "plt.xscale(\"log\")\n",
    "plt.xlabel(\"Number of Cores\")\n",
    "plt.ylabel(\"Complete Solve Time (s)\")\n",
    "plt.title(\"Schur Matrix with 4 level mesh using AMGX\")\n",
    "\n",
    "x = Petsc_AMGX_Schur_Cores\n",
    "y = Petsc_AMGX_Schur_CS\n",
    "c = np.polyfit(np.log(x),np.log(y),1)\n",
    "s = \"Best-fit (slope = {:6.2f})\".format(c[0])\n",
    "plt.loglog(x,np.exp(np.polyval(c,np.log(x))),'k--',label=s)\n",
    "\n",
    "ct = np.array([-1,c[1]])\n",
    "plt.loglog(x,np.exp(np.polyval(ct,np.log(x))),'.-',label=\"Theoretical\",color='k',markersize=10)\n",
    "\n",
    "\n",
    "plt.legend()\n",
    "plt.show"
   ]
  },
  {
   "cell_type": "code",
   "execution_count": null,
   "metadata": {},
   "outputs": [],
   "source": [
    "plt.plot(Petsc_AMGX_Schur_DegF,Petsc_AMGX_Schur_CS,\"ro-\",label=\"Full\")\n",
    "plt.ylabel(\"Degrees of Freedom Per Time Per Core\")\n",
    "plt.xlabel(\"Complete Solve Time (s)\")\n",
    "plt.title(\"Schur Matrix with 4 level mesh using AMGX\")\n",
    "plt.legend()"
   ]
  },
  {
   "cell_type": "code",
   "execution_count": null,
   "metadata": {},
   "outputs": [],
   "source": [
    "plt.plot(Petsc_AMGX_Schur_Cores,Petsc_AMGX_Schur_CS,'b.-',label=\"Schur\",markersize=10)\n",
    "plt.plot(Petsc_AMGX_Full_Cores,Petsc_AMGX_Full_CS,'k.-',label=\"Full\",markersize=10)\n",
    "plt.xscale(\"log\")\n",
    "plt.yscale(\"log\")\n",
    "plt.ylabel(\"Number of Cores\")\n",
    "plt.xlabel(\"Complete Solve Time (s)\")\n",
    "plt.title(\"Schur vs Full Matrix with 4 level mesh using AMGX\")\n",
    "plt.legend()\n",
    "plt.show"
   ]
  },
  {
   "cell_type": "markdown",
   "metadata": {},
   "source": [
    "# Full Uniform Matrix with AMGX"
   ]
  },
  {
   "cell_type": "code",
   "execution_count": null,
   "metadata": {},
   "outputs": [],
   "source": [
    "Petsc_AMGX_Full_Unif_Cores = np.array([1,4])\n",
    "Petsc_AMGX_Full_Unif_Iterations = np.array([17,21])\n",
    "Petsc_AMGX_Full_Unif_Residual = np.array([2.1377864014005e-13,8.8064132186009e-13])\n",
    "Petsc_AMGX_Full_Unif_Error = np.array([1.2433617093924e-03,3.1047600057290e-04])\n",
    "Petsc_AMGX_Full_Unif_Domain = np.array([0.0277966052,0.0281537121])\n",
    "Petsc_AMGX_Full_Unif_Matrix = np.array([0.0370635031,0.0431492156])\n",
    "Petsc_AMGX_Full_Unif_AMGX = np.array([0.0842310272,0.2285295179])\n",
    "Petsc_AMGX_Full_Unif_LSS = np.array([0.1213034518,0.2716992054])\n",
    "Petsc_AMGX_Full_Unif_LinS = np.array([0.0791391368,0.2057369141])\n",
    "Petsc_AMGX_Full_Unif_CS = np.array([0.0791414209,0.2057489875])\n",
    "Petsc_AMGX_Full_Unif_DegF = np.array([102400,409600])\n",
    "Petsc_AMGX_Full_Unif_Eff = Petsc_AMGX_Full_Unif_CS[0]/(Petsc_AMGX_Full_Unif_CS*Petsc_AMGX_Full_Unif_Cores)\n",
    "\n",
    "d = {\"Cores\": Petsc_AMGX_Full_Unif_Cores,\"Iterations\": Petsc_AMGX_Full_Unif_Iterations,\"Residual\": Petsc_AMGX_Full_Unif_Residual,\n",
    "    \"Error\": Petsc_AMGX_Full_Unif_Error,\"Domain Initialization\": Petsc_AMGX_Full_Unif_Domain,\"Matrix Formation\": Petsc_AMGX_Full_Unif_Matrix,\n",
    "    \"AMGX Setup\": Petsc_AMGX_Full_Unif_AMGX,\"Linear System Setup\": Petsc_AMGX_Full_Unif_LSS,\"Linear Solve\": Petsc_AMGX_Full_Unif_LinS,\n",
    "    \"Complete Solve\": Petsc_AMGX_Full_Unif_CS,\"Efficiency\": Petsc_AMGX_Full_Unif_Eff,\"Degrees of Freedom\": Petsc_AMGX_Full_Unif_DegF}\n",
    "dffu =  pd.DataFrame(data = d)\n",
    "dffu = dffu[[\"Cores\",\"Iterations\",\"Residual\",\"Error\",\"Domain Initialization\",\"Matrix Formation\",\"AMGX Setup\",\n",
    "         \"Linear System Setup\",\"Linear Solve\",\"Complete Solve\",\"Efficiency\",\"Degrees of Freedom\"]]\n",
    "dffu"
   ]
  },
  {
   "cell_type": "code",
   "execution_count": null,
   "metadata": {},
   "outputs": [],
   "source": [
    "plt.plot(Petsc_AMGX_Full_Unif_Cores,Petsc_AMGX_Full_Unif_CS,'bo-',label=\"Full Uniform\")\n",
    "plt.yscale(\"log\")\n",
    "plt.xscale(\"log\")\n",
    "plt.xlabel(\"Number of Cores\")\n",
    "plt.ylabel(\"Complete Solve Time (s)\")\n",
    "plt.title(\"Full Matrix Uniform\")\n",
    "plt.legend()\n",
    "plt.show"
   ]
  },
  {
   "cell_type": "markdown",
   "metadata": {},
   "source": [
    "# Schur Uniform Matrix with AMGX"
   ]
  },
  {
   "cell_type": "code",
   "execution_count": null,
   "metadata": {},
   "outputs": [],
   "source": [
    "Petsc_AMGX_Schur_Unif_Cores = np.array([1,4])\n",
    "Petsc_AMGX_Schur_Unif_Iterations = np.array([15,15])\n",
    "Petsc_AMGX_Schur_Unif_Residual = np.array([5.7287734271363e-14,2.2600255644831e-13])\n",
    "Petsc_AMGX_Schur_Unif_Error = np.array([1.2433617093859e-03,3.1047600053384e-04])\n",
    "Petsc_AMGX_Schur_Unif_Domain = np.array([0.0278877456,0.0283390281])\n",
    "Petsc_AMGX_Schur_Unif_Matrix = np.array([0.0588594731,0.0632796101])\n",
    "Petsc_AMGX_Schur_Unif_AMGX = np.array([0.0597267248,0.2071640541])\n",
    "Petsc_AMGX_Schur_Unif_LSS = np.array([0.1185939362,0.2704656285])\n",
    "Petsc_AMGX_Schur_Unif_LinS = np.array([0.0454767412,0.1184891837])\n",
    "Petsc_AMGX_Schur_Unif_PS = np.array([0.0029428548,0.0040731875])\n",
    "Petsc_AMGX_Schur_Unif_CS = np.array([0.048425405,0.1225776319])\n",
    "Petsc_AMGX_Schur_Unif_DegF = np.array([102400,409600])\n",
    "Petsc_AMGX_Schur_Unif_Eff = np.array(np.ones(len(Petsc_AMGX_Schur_Unif_Cores))*Petsc_AMGX_Schur_Unif_CS[0]/(Petsc_AMGX_Schur_Unif_CS*Petsc_AMGX_Schur_Unif_Cores))\n",
    "\n",
    "d = {\"Cores\": Petsc_AMGX_Schur_Unif_Cores,\"Iterations\": Petsc_AMGX_Schur_Unif_Iterations,\"Residual\": Petsc_AMGX_Schur_Unif_Residual,\n",
    "    \"Error\": Petsc_AMGX_Schur_Unif_Error,\"Domain Initialization\": Petsc_AMGX_Schur_Unif_Domain,\"Matrix Formation\": Petsc_AMGX_Schur_Unif_Matrix,\n",
    "    \"AMGX Setup\": Petsc_AMGX_Schur_Unif_AMGX,\"Linear System Setup\": Petsc_AMGX_Schur_Unif_LSS,\"Linear Solve\": Petsc_AMGX_Schur_Unif_LinS,\n",
    "    \"Patch Solve\": Petsc_AMGX_Schur_Unif_PS,\"Complete Solve\": Petsc_AMGX_Schur_Unif_CS,\"Efficiency\": Petsc_AMGX_Schur_Unif_Eff,\n",
    "    \"Degrees of Freedom\": Petsc_AMGX_Full_Unif_DegF}\n",
    "dfsu =  pd.DataFrame(data = d)\n",
    "dfsu = dfsu[[\"Cores\",\"Iterations\",\"Residual\",\"Error\",\"Domain Initialization\",\"Matrix Formation\",\"AMGX Setup\",\n",
    "         \"Linear System Setup\",\"Linear Solve\",\"Patch Solve\",\"Complete Solve\",\"Efficiency\",\"Degrees of Freedom\"]]\n",
    "dfsu"
   ]
  },
  {
   "cell_type": "code",
   "execution_count": null,
   "metadata": {},
   "outputs": [],
   "source": [
    "plt.plot(Petsc_AMGX_Schur_Unif_Cores,Petsc_AMGX_Schur_Unif_CS,'bo-',label=\"Full Uniform\")\n",
    "plt.yscale(\"log\")\n",
    "plt.xscale(\"log\")\n",
    "plt.xlabel(\"Number of Cores\")\n",
    "plt.ylabel(\"Complete Solve Time (s)\")\n",
    "plt.title(\"Schur Matrix Uniform\")\n",
    "plt.legend()\n",
    "plt.show"
   ]
  },
  {
   "cell_type": "code",
   "execution_count": null,
   "metadata": {
    "collapsed": true
   },
   "outputs": [],
   "source": []
  },
  {
   "cell_type": "code",
   "execution_count": null,
   "metadata": {
    "collapsed": true
   },
   "outputs": [],
   "source": []
  },
  {
   "cell_type": "code",
   "execution_count": null,
   "metadata": {
    "collapsed": true
   },
   "outputs": [],
   "source": []
  }
 ],
 "metadata": {
  "kernelspec": {
   "display_name": "Python 3",
   "language": "python",
   "name": "python3"
  },
  "language_info": {
   "codemirror_mode": {
    "name": "ipython",
    "version": 3
   },
   "file_extension": ".py",
   "mimetype": "text/x-python",
   "name": "python",
   "nbconvert_exporter": "python",
   "pygments_lexer": "ipython3",
   "version": "3.6.3"
  }
 },
 "nbformat": 4,
 "nbformat_minor": 2
}
