{
 "cells": [
  {
   "cell_type": "markdown",
   "metadata": {},
   "source": [
    "# Timing results for 2D Pressure Poisson Solver\n",
    "These are the results for solving this a uniform matrix on a 4 level mesh with strong scaling."
   ]
  },
  {
   "cell_type": "code",
   "execution_count": 1,
   "metadata": {
    "collapsed": true
   },
   "outputs": [],
   "source": [
    "%matplotlib inline\n",
    "import numpy as np\n",
    "import pandas as pd\n",
    "import matplotlib.pyplot as plt\n",
    "from IPython.display import display, HTML"
   ]
  },
  {
   "cell_type": "markdown",
   "metadata": {
    "collapsed": true
   },
   "source": [
    "# Full Uniform Matrix with AMGX\n",
    "This section is the timing results for solving the full uniform matrix with a 4 level mesh using AMGX. This was solved using the option divide 2."
   ]
  },
  {
   "cell_type": "code",
   "execution_count": 2,
   "metadata": {},
   "outputs": [
    {
     "data": {
      "text/html": [
       "<div>\n",
       "<style>\n",
       "    .dataframe thead tr:only-child th {\n",
       "        text-align: right;\n",
       "    }\n",
       "\n",
       "    .dataframe thead th {\n",
       "        text-align: left;\n",
       "    }\n",
       "\n",
       "    .dataframe tbody tr th {\n",
       "        vertical-align: top;\n",
       "    }\n",
       "</style>\n",
       "<table border=\"1\" class=\"dataframe\">\n",
       "  <thead>\n",
       "    <tr style=\"text-align: right;\">\n",
       "      <th></th>\n",
       "      <th>Cores</th>\n",
       "      <th>Iterations</th>\n",
       "      <th>Residual</th>\n",
       "      <th>Error</th>\n",
       "      <th>Domain Initialization</th>\n",
       "      <th>Matrix Formation</th>\n",
       "      <th>AMGX Setup</th>\n",
       "      <th>Linear System Setup</th>\n",
       "      <th>Linear Solve</th>\n",
       "      <th>Complete Solve</th>\n",
       "      <th>Efficiency</th>\n",
       "      <th>Degrees of Freedom</th>\n",
       "    </tr>\n",
       "  </thead>\n",
       "  <tbody>\n",
       "    <tr>\n",
       "      <th>0</th>\n",
       "      <td>1</td>\n",
       "      <td>17</td>\n",
       "      <td>2.137786e-13</td>\n",
       "      <td>0.001243</td>\n",
       "      <td>0.027797</td>\n",
       "      <td>0.037064</td>\n",
       "      <td>0.084231</td>\n",
       "      <td>0.121303</td>\n",
       "      <td>0.079139</td>\n",
       "      <td>0.079141</td>\n",
       "      <td>1.000000</td>\n",
       "      <td>102400</td>\n",
       "    </tr>\n",
       "    <tr>\n",
       "      <th>1</th>\n",
       "      <td>4</td>\n",
       "      <td>21</td>\n",
       "      <td>8.806413e-13</td>\n",
       "      <td>0.000310</td>\n",
       "      <td>0.028154</td>\n",
       "      <td>0.043149</td>\n",
       "      <td>0.228530</td>\n",
       "      <td>0.271699</td>\n",
       "      <td>0.205737</td>\n",
       "      <td>0.205749</td>\n",
       "      <td>0.096163</td>\n",
       "      <td>409600</td>\n",
       "    </tr>\n",
       "  </tbody>\n",
       "</table>\n",
       "</div>"
      ],
      "text/plain": [
       "   Cores  Iterations      Residual     Error  Domain Initialization  \\\n",
       "0      1          17  2.137786e-13  0.001243               0.027797   \n",
       "1      4          21  8.806413e-13  0.000310               0.028154   \n",
       "\n",
       "   Matrix Formation  AMGX Setup  Linear System Setup  Linear Solve  \\\n",
       "0          0.037064    0.084231             0.121303      0.079139   \n",
       "1          0.043149    0.228530             0.271699      0.205737   \n",
       "\n",
       "   Complete Solve  Efficiency  Degrees of Freedom  \n",
       "0        0.079141    1.000000              102400  \n",
       "1        0.205749    0.096163              409600  "
      ]
     },
     "execution_count": 2,
     "metadata": {},
     "output_type": "execute_result"
    }
   ],
   "source": [
    "Petsc_AMGX_Full_Unif_Cores = np.array([1,4])\n",
    "Petsc_AMGX_Full_Unif_Iterations = np.array([17,21])\n",
    "Petsc_AMGX_Full_Unif_Residual = np.array([2.1377864014005e-13,8.8064132186009e-13])\n",
    "Petsc_AMGX_Full_Unif_Error = np.array([1.2433617093924e-03,3.1047600057290e-04])\n",
    "Petsc_AMGX_Full_Unif_Domain = np.array([0.0277966052,0.0281537121])\n",
    "Petsc_AMGX_Full_Unif_Matrix = np.array([0.0370635031,0.0431492156])\n",
    "Petsc_AMGX_Full_Unif_AMGX = np.array([0.0842310272,0.2285295179])\n",
    "Petsc_AMGX_Full_Unif_LSS = np.array([0.1213034518,0.2716992054])\n",
    "Petsc_AMGX_Full_Unif_LinS = np.array([0.0791391368,0.2057369141])\n",
    "Petsc_AMGX_Full_Unif_CS = np.array([0.0791414209,0.2057489875])\n",
    "Petsc_AMGX_Full_Unif_DegF = np.array([102400,409600])\n",
    "Petsc_AMGX_Full_Unif_Eff = Petsc_AMGX_Full_Unif_CS[0]/(Petsc_AMGX_Full_Unif_CS*Petsc_AMGX_Full_Unif_Cores)\n",
    "\n",
    "d = {\"Cores\": Petsc_AMGX_Full_Unif_Cores,\"Iterations\": Petsc_AMGX_Full_Unif_Iterations,\"Residual\": Petsc_AMGX_Full_Unif_Residual,\n",
    "    \"Error\": Petsc_AMGX_Full_Unif_Error,\"Domain Initialization\": Petsc_AMGX_Full_Unif_Domain,\"Matrix Formation\": Petsc_AMGX_Full_Unif_Matrix,\n",
    "    \"AMGX Setup\": Petsc_AMGX_Full_Unif_AMGX,\"Linear System Setup\": Petsc_AMGX_Full_Unif_LSS,\"Linear Solve\": Petsc_AMGX_Full_Unif_LinS,\n",
    "    \"Complete Solve\": Petsc_AMGX_Full_Unif_CS,\"Efficiency\": Petsc_AMGX_Full_Unif_Eff,\"Degrees of Freedom\": Petsc_AMGX_Full_Unif_DegF}\n",
    "dffu =  pd.DataFrame(data = d)\n",
    "dffu = dffu[[\"Cores\",\"Iterations\",\"Residual\",\"Error\",\"Domain Initialization\",\"Matrix Formation\",\"AMGX Setup\",\n",
    "         \"Linear System Setup\",\"Linear Solve\",\"Complete Solve\",\"Efficiency\",\"Degrees of Freedom\"]]\n",
    "dffu"
   ]
  },
  {
   "cell_type": "code",
   "execution_count": 3,
   "metadata": {},
   "outputs": [
    {
     "data": {
      "text/plain": [
       "<function matplotlib.pyplot.show>"
      ]
     },
     "execution_count": 3,
     "metadata": {},
     "output_type": "execute_result"
    },
    {
     "data": {
      "image/png": "[encoded data removed]",
      "text/plain": [
       "<matplotlib.figure.Figure at 0x7fd2434df4a8>"
      ]
     },
     "metadata": {},
     "output_type": "display_data"
    }
   ],
   "source": [
    "plt.plot(Petsc_AMGX_Full_Unif_Cores,Petsc_AMGX_Full_Unif_CS,'bo-',label=\"Full Uniform\")\n",
    "plt.yscale(\"log\")\n",
    "plt.xscale(\"log\")\n",
    "plt.xlabel(\"Number of Cores\")\n",
    "plt.ylabel(\"Complete Solve Time (s)\")\n",
    "plt.title(\"Full Matrix Uniform\")\n",
    "plt.legend()\n",
    "plt.show"
   ]
  },
  {
   "cell_type": "markdown",
   "metadata": {},
   "source": [
    "# Schur Uniform Matrix with AMGX\n",
    "This section is the timing results for solving the schur uniform matrix with a 4 level mesh using AMGX. This was solved using the option divide 2."
   ]
  },
  {
   "cell_type": "code",
   "execution_count": 4,
   "metadata": {},
   "outputs": [
    {
     "data": {
      "text/html": [
       "<div>\n",
       "<style>\n",
       "    .dataframe thead tr:only-child th {\n",
       "        text-align: right;\n",
       "    }\n",
       "\n",
       "    .dataframe thead th {\n",
       "        text-align: left;\n",
       "    }\n",
       "\n",
       "    .dataframe tbody tr th {\n",
       "        vertical-align: top;\n",
       "    }\n",
       "</style>\n",
       "<table border=\"1\" class=\"dataframe\">\n",
       "  <thead>\n",
       "    <tr style=\"text-align: right;\">\n",
       "      <th></th>\n",
       "      <th>Cores</th>\n",
       "      <th>Iterations</th>\n",
       "      <th>Residual</th>\n",
       "      <th>Error</th>\n",
       "      <th>Domain Initialization</th>\n",
       "      <th>Matrix Formation</th>\n",
       "      <th>AMGX Setup</th>\n",
       "      <th>Linear System Setup</th>\n",
       "      <th>Linear Solve</th>\n",
       "      <th>Patch Solve</th>\n",
       "      <th>Complete Solve</th>\n",
       "      <th>Efficiency</th>\n",
       "      <th>Degrees of Freedom</th>\n",
       "    </tr>\n",
       "  </thead>\n",
       "  <tbody>\n",
       "    <tr>\n",
       "      <th>0</th>\n",
       "      <td>1</td>\n",
       "      <td>15</td>\n",
       "      <td>5.728773e-14</td>\n",
       "      <td>0.001243</td>\n",
       "      <td>0.027888</td>\n",
       "      <td>0.058859</td>\n",
       "      <td>0.059727</td>\n",
       "      <td>0.118594</td>\n",
       "      <td>0.045477</td>\n",
       "      <td>0.002943</td>\n",
       "      <td>0.048425</td>\n",
       "      <td>1.000000</td>\n",
       "      <td>102400</td>\n",
       "    </tr>\n",
       "    <tr>\n",
       "      <th>1</th>\n",
       "      <td>4</td>\n",
       "      <td>15</td>\n",
       "      <td>2.260026e-13</td>\n",
       "      <td>0.000310</td>\n",
       "      <td>0.028339</td>\n",
       "      <td>0.063280</td>\n",
       "      <td>0.207164</td>\n",
       "      <td>0.270466</td>\n",
       "      <td>0.118489</td>\n",
       "      <td>0.004073</td>\n",
       "      <td>0.122578</td>\n",
       "      <td>0.098765</td>\n",
       "      <td>409600</td>\n",
       "    </tr>\n",
       "  </tbody>\n",
       "</table>\n",
       "</div>"
      ],
      "text/plain": [
       "   Cores  Iterations      Residual     Error  Domain Initialization  \\\n",
       "0      1          15  5.728773e-14  0.001243               0.027888   \n",
       "1      4          15  2.260026e-13  0.000310               0.028339   \n",
       "\n",
       "   Matrix Formation  AMGX Setup  Linear System Setup  Linear Solve  \\\n",
       "0          0.058859    0.059727             0.118594      0.045477   \n",
       "1          0.063280    0.207164             0.270466      0.118489   \n",
       "\n",
       "   Patch Solve  Complete Solve  Efficiency  Degrees of Freedom  \n",
       "0     0.002943        0.048425    1.000000              102400  \n",
       "1     0.004073        0.122578    0.098765              409600  "
      ]
     },
     "execution_count": 4,
     "metadata": {},
     "output_type": "execute_result"
    }
   ],
   "source": [
    "Petsc_AMGX_Schur_Unif_Cores = np.array([1,4])\n",
    "Petsc_AMGX_Schur_Unif_Iterations = np.array([15,15])\n",
    "Petsc_AMGX_Schur_Unif_Residual = np.array([5.7287734271363e-14,2.2600255644831e-13])\n",
    "Petsc_AMGX_Schur_Unif_Error = np.array([1.2433617093859e-03,3.1047600053384e-04])\n",
    "Petsc_AMGX_Schur_Unif_Domain = np.array([0.0278877456,0.0283390281])\n",
    "Petsc_AMGX_Schur_Unif_Matrix = np.array([0.0588594731,0.0632796101])\n",
    "Petsc_AMGX_Schur_Unif_AMGX = np.array([0.0597267248,0.2071640541])\n",
    "Petsc_AMGX_Schur_Unif_LSS = np.array([0.1185939362,0.2704656285])\n",
    "Petsc_AMGX_Schur_Unif_LinS = np.array([0.0454767412,0.1184891837])\n",
    "Petsc_AMGX_Schur_Unif_PS = np.array([0.0029428548,0.0040731875])\n",
    "Petsc_AMGX_Schur_Unif_CS = np.array([0.048425405,0.1225776319])\n",
    "Petsc_AMGX_Schur_Unif_DegF = np.array([102400,409600])\n",
    "Petsc_AMGX_Schur_Unif_Eff = np.array(np.ones(len(Petsc_AMGX_Schur_Unif_Cores))*Petsc_AMGX_Schur_Unif_CS[0]/(Petsc_AMGX_Schur_Unif_CS*Petsc_AMGX_Schur_Unif_Cores))\n",
    "\n",
    "d = {\"Cores\": Petsc_AMGX_Schur_Unif_Cores,\"Iterations\": Petsc_AMGX_Schur_Unif_Iterations,\"Residual\": Petsc_AMGX_Schur_Unif_Residual,\n",
    "    \"Error\": Petsc_AMGX_Schur_Unif_Error,\"Domain Initialization\": Petsc_AMGX_Schur_Unif_Domain,\"Matrix Formation\": Petsc_AMGX_Schur_Unif_Matrix,\n",
    "    \"AMGX Setup\": Petsc_AMGX_Schur_Unif_AMGX,\"Linear System Setup\": Petsc_AMGX_Schur_Unif_LSS,\"Linear Solve\": Petsc_AMGX_Schur_Unif_LinS,\n",
    "    \"Patch Solve\": Petsc_AMGX_Schur_Unif_PS,\"Complete Solve\": Petsc_AMGX_Schur_Unif_CS,\"Efficiency\": Petsc_AMGX_Schur_Unif_Eff,\n",
    "    \"Degrees of Freedom\": Petsc_AMGX_Full_Unif_DegF}\n",
    "dfsu =  pd.DataFrame(data = d)\n",
    "dfsu = dfsu[[\"Cores\",\"Iterations\",\"Residual\",\"Error\",\"Domain Initialization\",\"Matrix Formation\",\"AMGX Setup\",\n",
    "         \"Linear System Setup\",\"Linear Solve\",\"Patch Solve\",\"Complete Solve\",\"Efficiency\",\"Degrees of Freedom\"]]\n",
    "dfsu"
   ]
  },
  {
   "cell_type": "code",
   "execution_count": 5,
   "metadata": {},
   "outputs": [
    {
     "data": {
      "text/plain": [
       "<function matplotlib.pyplot.show>"
      ]
     },
     "execution_count": 5,
     "metadata": {},
     "output_type": "execute_result"
    },
    {
     "data": {
      "image/png": "[encoded data removed]",
      "text/plain": [
       "<matplotlib.figure.Figure at 0x7fd23b5c3630>"
      ]
     },
     "metadata": {},
     "output_type": "display_data"
    }
   ],
   "source": [
    "plt.plot(Petsc_AMGX_Schur_Unif_Cores,Petsc_AMGX_Schur_Unif_CS,'bo-',label=\"Full Uniform\")\n",
    "plt.yscale(\"log\")\n",
    "plt.xscale(\"log\")\n",
    "plt.xlabel(\"Number of Cores\")\n",
    "plt.ylabel(\"Complete Solve Time (s)\")\n",
    "plt.title(\"Schur Matrix Uniform\")\n",
    "plt.legend()\n",
    "plt.show"
   ]
  },
  {
   "cell_type": "code",
   "execution_count": null,
   "metadata": {
    "collapsed": true
   },
   "outputs": [],
   "source": []
  }
 ],
 "metadata": {
  "kernelspec": {
   "display_name": "Python 3",
   "language": "python",
   "name": "python3"
  },
  "language_info": {
   "codemirror_mode": {
    "name": "ipython",
    "version": 3
   },
   "file_extension": ".py",
   "mimetype": "text/x-python",
   "name": "python",
   "nbconvert_exporter": "python",
   "pygments_lexer": "ipython3",
   "version": "3.6.3"
  }
 },
 "nbformat": 4,
 "nbformat_minor": 2
}
