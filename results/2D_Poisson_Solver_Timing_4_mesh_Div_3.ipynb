{
 "cells": [
  {
   "cell_type": "markdown",
   "metadata": {},
   "source": [
    "# Timing results for 2D Pressure Poisson Solver\n",
    "These are the results for the different methods of solving this matrix on a 4 level mesh with the divide 3 option."
   ]
  },
  {
   "cell_type": "code",
   "execution_count": null,
   "metadata": {
    "collapsed": true
   },
   "outputs": [],
   "source": [
    "%matplotlib inline\n",
    "import numpy as np\n",
    "import pandas as pd\n",
    "import matplotlib.pyplot as plt\n",
    "from IPython.display import display, HTML\n",
    "import seaborn as sns\n",
    "cm = sns.light_palette(\"green\", as_cmap=True)"
   ]
  },
  {
   "cell_type": "markdown",
   "metadata": {},
   "source": [
    "# Full Matrix with Hypre (1)\n",
    "This section is the timing results for solving the full matrix with a 4 level mesh using Hypre. This matrix has 2,129,920 degrees of freedom."
   ]
  },
  {
   "cell_type": "code",
   "execution_count": null,
   "metadata": {},
   "outputs": [],
   "source": [
    "DOF = 8519680\n",
    "Petsc_Hypre_Full_Cores = np.array([1,2,4,8,16,32,64])\n",
    "Petsc_Hypre_Full_Iterations = np.array([27,25,26,26,25,25,25])\n",
    "Petsc_Hypre_Full_Residual = np.array([5.9988067127624e-10,1.4273238491268e-10,1.7254957978808e-10,9.5011690618987e-11,\n",
    "                                     4.1219666250785e-10,2.1063728799053e-10,4.8227291436170e-10])\n",
    "Petsc_Hypre_Full_Error = np.array([2.3017137287093e-04,2.3017137246889e-04,2.3017137270920e-04,2.3017137270801e-04,\n",
    "                                  2.3017137247438e-04,2.3017137244399e-04,2.3017137247297e-04])\n",
    "Petsc_Hypre_Full_Domain = np.array([2.3153894807,1.2637218663,0.6478832577,0.3401489734,0.1812644858,0.0898693553,\n",
    "                                   0.0617126075])\n",
    "Petsc_Hypre_Full_Matrix = np.array([3.3369409704,2.0570431213,1.0631297091,0.5936307549,0.3467149461,0.161736464,\n",
    "                                   0.0923267154])\n",
    "Petsc_Hypre_Full_Petsc = np.array([10.3979734503,391.6720703532,186.4258577879,71.9993323065,21.9934946754,\n",
    "                                  6.5406074993,2.8195007452])\n",
    "Petsc_Hypre_Full_LSS = np.array([13.7349249107,393.7291275882,187.4890104319,72.5929859406,22.3402330636,6.7023960359,\n",
    "                                2.9118931858])\n",
    "Petsc_Hypre_Full_LinS = np.array([68.0680552959,40.4927748359,29.4081339507,24.11662926,17.5557686602,10.2702540602,\n",
    "                                 8.4260292341])\n",
    "Petsc_Hypre_Full_CS = np.array([68.0680601461,40.4927931763,29.408291536,24.1182497637,17.5584340833,10.2716404851,\n",
    "                               8.4316525948])\n",
    "Petsc_Hypre_Full_DegF = (DOF)/Petsc_Hypre_Full_CS/Petsc_Hypre_Full_Cores\n",
    "Petsc_Hypre_Full_Eff = Petsc_Hypre_Full_CS[0]/(Petsc_Hypre_Full_CS*Petsc_Hypre_Full_Cores)\n",
    "\n",
    "d = {\"Cores\": Petsc_Hypre_Full_Cores,\"Iterations\": Petsc_Hypre_Full_Iterations,\"Residual\": Petsc_Hypre_Full_Residual,\n",
    "    \"Error\": Petsc_Hypre_Full_Error,\"Domain Initialization\": Petsc_Hypre_Full_Domain,\"Matrix Formation\": Petsc_Hypre_Full_Matrix,\n",
    "    \"Hypre Setup\": Petsc_Hypre_Full_Petsc,\"Linear System Setup\": Petsc_Hypre_Full_LSS,\"Linear Solve\": Petsc_Hypre_Full_LinS,\n",
    "    \"Complete Solve\": Petsc_Hypre_Full_CS,\"Efficiency\": Petsc_Hypre_Full_Eff,\"Degrees of Freedom Per Time Per Core\": Petsc_Hypre_Full_DegF}\n",
    "df1 =  pd.DataFrame(data = d)\n",
    "df1 = df1[[\"Cores\",\"Iterations\",\"Residual\",\"Error\",\"Domain Initialization\",\"Matrix Formation\",\"Hypre Setup\",\n",
    "         \"Linear System Setup\",\"Linear Solve\",\"Complete Solve\",\"Efficiency\",\"Degrees of Freedom Per Time Per Core\"]]\n",
    "nform = {\"Error\" : \"{:6.2e}\".format, \"Residual\" : \"{:6.2e}\".format}\n",
    "\n",
    "df1.style.set_caption(\"Degrees of freedom {:,}\".format(DOF)).background_gradient(cmap=cm).format(nform)\n",
    "# display(HTML(df1.to_html(index=False)))"
   ]
  },
  {
   "cell_type": "code",
   "execution_count": null,
   "metadata": {},
   "outputs": [],
   "source": [
    "x = Petsc_Hypre_Full_Cores\n",
    "y = Petsc_Hypre_Full_CS\n",
    "\n",
    "\n",
    "plt.plot(x,y,\"bo-\",label=\"Hypre (Full matrix)\")\n",
    "plt.yscale(\"log\")\n",
    "plt.xscale(\"log\")\n",
    "plt.ylabel(\"Complete Solve Time (s)\")\n",
    "plt.xlabel(\"Number of Cores\")\n",
    "plt.title(\"Full Matrix with 4 level mesh using Hypre\")\n",
    "\n",
    "c = np.polyfit(np.log(x),np.log(y),1)\n",
    "#  c = np.polyfit(np.log(x[:-2]),np.log(y[-2]),1)\n",
    "#  Take out points for slope\n",
    "\n",
    "s = \"Best-fit (slope = {:6.2f})\".format(c[0])\n",
    "plt.loglog(x,np.exp(np.polyval(c,np.log(x))),'k--',label=s)\n",
    "\n",
    "ct = np.array([-1,c[1]])\n",
    "plt.loglog(x,np.exp(np.polyval(ct,np.log(x))),'.-',label=\"Theoretical\",color='k',markersize=10)\n",
    "\n",
    "\n",
    "plt.legend()\n",
    "plt.show"
   ]
  },
  {
   "cell_type": "code",
   "execution_count": null,
   "metadata": {},
   "outputs": [],
   "source": [
    "plt.plot(Petsc_Hypre_Full_Cores,Petsc_Hypre_Full_DegF,\"ro-\",label=\"Full\")\n",
    "plt.ylabel(\"Degrees of Freedom Per Time Per Core\")\n",
    "plt.xlabel(\"Number of Cores\")\n",
    "plt.title(\"Full Matrix with 4 level mesh using Hypre\")\n",
    "plt.legend()"
   ]
  },
  {
   "cell_type": "markdown",
   "metadata": {},
   "source": [
    "# Full Matrix with AMGX (2)\n",
    "This section is the timing results for solving the full matrix using AMGX. This matrix has 8,519,680 degrees of freedom.\n",
    "\n",
    "Was not able to get results on 1 or 2 cores. I got a memory error."
   ]
  },
  {
   "cell_type": "code",
   "execution_count": null,
   "metadata": {},
   "outputs": [],
   "source": [
    "DOF = 8519680\n",
    "Petsc_AMGX_Full_Cores = np.array([4,8,16])\n",
    "Petsc_AMGX_Full_Iterations = np.array([53,54,100])\n",
    "Petsc_AMGX_Full_Residual = np.array([2.6928778673549e-11,2.5390739248273e-11,4.4980646373830e+34])\n",
    "Petsc_AMGX_Full_Error = np.array([2.3017137276764e-04,2.3017137259899e-04,2.5162658115142e+32])\n",
    "Petsc_AMGX_Full_Domain = np.array([0.6384049258,0.3250950618,0.1596760514])\n",
    "Petsc_AMGX_Full_Matrix = np.array([1.0501234819,0.5264085192,0.25415168])\n",
    "Petsc_AMGX_Full_AMGX = np.array([5.8601402815,4.7022465706,3.3320006146])\n",
    "Petsc_AMGX_Full_LSS = np.array([6.9102868591,5.2286880751,3.5861939082])\n",
    "Petsc_AMGX_Full_LinS = np.array([3.168793774,2.4353946755,3.4660941007])\n",
    "Petsc_AMGX_Full_CS = np.array([3.1688130379,2.4354128055,3.4661210478])\n",
    "Petsc_AMGX_Full_DegF = (DOF)/Petsc_AMGX_Full_CS/Petsc_AMGX_Full_Cores\n",
    "Petsc_AMGX_Full_Eff = Petsc_AMGX_Full_CS[0]/(Petsc_AMGX_Full_CS*Petsc_AMGX_Full_Cores)\n",
    "\n",
    "d = {\"Cores\": Petsc_AMGX_Full_Cores,\"Iterations\": Petsc_AMGX_Full_Iterations,\"Residual\": Petsc_AMGX_Full_Residual,\n",
    "    \"Error\": Petsc_AMGX_Full_Error,\"Domain Initialization\": Petsc_AMGX_Full_Domain,\"Matrix Formation\": Petsc_AMGX_Full_Matrix,\n",
    "    \"AMGX Setup\": Petsc_AMGX_Full_AMGX,\"Linear System Setup\": Petsc_AMGX_Full_LSS,\"Linear Solve\": Petsc_AMGX_Full_LinS,\n",
    "    \"Complete Solve\": Petsc_AMGX_Full_CS,\"Efficiency\": Petsc_AMGX_Full_Eff,\"Degrees of Freedom Per Time Per Core\": Petsc_AMGX_Full_DegF}\n",
    "df2 =  pd.DataFrame(data = d)\n",
    "df2 = df2[[\"Cores\",\"Iterations\",\"Residual\",\"Error\",\"Domain Initialization\",\"Matrix Formation\",\"AMGX Setup\",\n",
    "         \"Linear System Setup\",\"Linear Solve\",\"Complete Solve\",\"Efficiency\",\"Degrees of Freedom Per Time Per Core\"]]\n",
    "nform = {\"Error\" : \"{:6.2e}\".format, \"Residual\" : \"{:6.2e}\".format}\n",
    "\n",
    "df2.style.set_caption(\"Degrees of freedom {:,}\".format(DOF)).background_gradient(cmap=cm).format(nform)\n",
    "# display(HTML(df1.to_html(index=False)))"
   ]
  },
  {
   "cell_type": "code",
   "execution_count": null,
   "metadata": {},
   "outputs": [],
   "source": [
    "x = Petsc_AMGX_Full_Cores\n",
    "y = Petsc_AMGX_Full_CS\n",
    "\n",
    "\n",
    "plt.plot(x,y,\"bo-\",label=\"AMGX (Full matrix)\")\n",
    "plt.yscale(\"log\")\n",
    "plt.xscale(\"log\")\n",
    "plt.ylabel(\"Complete Solve Time (s)\")\n",
    "plt.xlabel(\"Number of Cores\")\n",
    "plt.title(\"Full Matrix with 4 level mesh using AMGX\")\n",
    "\n",
    "c = np.polyfit(np.log(x),np.log(y),1)\n",
    "#  c = np.polyfit(np.log(x[:-2]),np.log(y[-2]),1)\n",
    "#  Take out points for slope\n",
    "\n",
    "s = \"Best-fit (slope = {:6.2f})\".format(c[0])\n",
    "plt.loglog(x,np.exp(np.polyval(c,np.log(x))),'k--',label=s)\n",
    "\n",
    "ct = np.array([-1,c[1]])\n",
    "plt.loglog(x,np.exp(np.polyval(ct,np.log(x))),'.-',label=\"Theoretical\",color='k',markersize=10)\n",
    "\n",
    "\n",
    "plt.legend()\n",
    "plt.show"
   ]
  },
  {
   "cell_type": "code",
   "execution_count": null,
   "metadata": {},
   "outputs": [],
   "source": [
    "plt.plot(Petsc_AMGX_Full_Cores,Petsc_AMGX_Full_DegF,\"ro-\",label=\"Full\")\n",
    "plt.ylabel(\"Degrees of Freedom Per Time Per Core\")\n",
    "plt.xlabel(\"Number of Cores\")\n",
    "plt.title(\"Full Matrix with 4 level mesh using AMGX\")\n",
    "plt.legend()"
   ]
  },
  {
   "cell_type": "markdown",
   "metadata": {},
   "source": [
    "# Schur Matrix with Hypre (3)\n",
    "This section is the timing results for solving the schur matrix using Hypre. This matrix has 8,519,680 degrees of freedom."
   ]
  },
  {
   "cell_type": "code",
   "execution_count": null,
   "metadata": {},
   "outputs": [],
   "source": [
    "DOF = 8519680\n",
    "Petsc_Hypre_Schur_Cores = np.array([1,2,4,8,16,32,64])\n",
    "Petsc_Hypre_Schur_Iterations = np.array([17,17,16,16,16,16,16])\n",
    "Petsc_Hypre_Schur_Residual = np.array([6.1286111926919e-11,6.2134639841536e-11,8.6109659566193e-11,7.5298885813740e-11,\n",
    "                                      5.3103746292143e-11,6.6940599763223e-11,8.3366098373893e-11])\n",
    "Petsc_Hypre_Schur_Error = np.array([2.3017137184157e-04,2.3017137158352e-04,2.3017137048573e-04,2.3017137047431e-04,\n",
    "                                   2.3017137130284e-04,2.3017137168851e-04,2.3017137239884e-04])\n",
    "Petsc_Hypre_Schur_Domain = np.array([2.3197806585,1.2814900692,0.6509059762,0.3381413722,0.1805943389,0.0881982429,\n",
    "                                    0.0443178398])\n",
    "Petsc_Hypre_Schur_Matrix = np.array([4.7018186739,2.4026621332,1.3947369839,0.8362200437,0.5057102746,0.2605099553,\n",
    "                                    0.1436562632])\n",
    "Petsc_Hypre_Schur_Petsc = np.array([4.6436607393,2.7133943007,1.5416259761,0.931570187,0.6209502718,0.3556885271,\n",
    "                                   0.2475464451])\n",
    "Petsc_Hypre_Schur_LSS = np.array([9.3454893739,5.116069321,2.9363804747,1.767811494,1.1267286854,0.6162593805,\n",
    "                                 0.391279977])\n",
    "Petsc_Hypre_Schur_LinS = np.array([26.6610254107,14.2418270011,8.8950367894,7.5887215761,7.1686851578,5.1473824642,\n",
    "                                  1.0967835393])\n",
    "Petsc_Hypre_Schur_PatS = np.array([0.2467111158,0.1406464368,0.0988530172,0.0821939839,0.0843995927,0.0470875859,\n",
    "                                  0.0091415173])\n",
    "Petsc_Hypre_Schur_CS = np.array([26.9077451058,14.3824872351,8.9939953395,7.6712551782,7.2538566353,5.2004614297,\n",
    "                                1.1060020951])\n",
    "Petsc_Hypre_Schur_DegF = (DOF)/Petsc_Hypre_Schur_CS/Petsc_Hypre_Schur_Cores\n",
    "Petsc_Hypre_Schur_Eff = Petsc_Hypre_Schur_CS[0]/(Petsc_Hypre_Schur_CS*Petsc_Hypre_Schur_Cores)\n",
    "\n",
    "d = {\"Cores\": Petsc_Hypre_Schur_Cores,\"Iterations\": Petsc_Hypre_Schur_Iterations,\"Residual\": Petsc_Hypre_Schur_Residual,\n",
    "    \"Error\": Petsc_Hypre_Schur_Error,\"Domain Initialization\": Petsc_Hypre_Schur_Domain,\"Matrix Formation\": Petsc_Hypre_Schur_Matrix,\n",
    "    \"Hypre Setup\": Petsc_Hypre_Schur_Petsc,\"Linear System Setup\": Petsc_Hypre_Schur_LSS,\"Linear Solve\": Petsc_Hypre_Schur_LinS,\n",
    "    \"Patch Solve\": Petsc_Hypre_Schur_PatS,\"Complete Solve\": Petsc_Hypre_Schur_CS,\"Efficiency\": Petsc_Hypre_Schur_Eff,\n",
    "     \"Degrees of Freedom Per Time Per Core\": Petsc_Hypre_Schur_DegF}\n",
    "df3 =  pd.DataFrame(data = d)\n",
    "df3 = df3[[\"Cores\",\"Iterations\",\"Residual\",\"Error\",\"Domain Initialization\",\"Matrix Formation\",\"Hypre Setup\",\n",
    "         \"Linear System Setup\",\"Linear Solve\",\"Patch Solve\",\"Complete Solve\",\"Efficiency\",\"Degrees of Freedom Per Time Per Core\"]]\n",
    "nform = {\"Error\" : \"{:6.2e}\".format, \"Residual\" : \"{:6.2e}\".format}\n",
    "\n",
    "df3.style.set_caption(\"Degrees of freedom {:,}\".format(DOF)).background_gradient(cmap=cm).format(nform)\n",
    "# display(HTML(df1.to_html(index=False)))"
   ]
  },
  {
   "cell_type": "code",
   "execution_count": null,
   "metadata": {},
   "outputs": [],
   "source": [
    "x = Petsc_Hypre_Schur_Cores\n",
    "y = Petsc_Hypre_Schur_CS\n",
    "\n",
    "\n",
    "plt.plot(x,y,\"bo-\",label=\"Hypre (Schur matrix)\")\n",
    "plt.yscale(\"log\")\n",
    "plt.xscale(\"log\")\n",
    "plt.ylabel(\"Complete Solve Time (s)\")\n",
    "plt.xlabel(\"Number of Cores\")\n",
    "plt.title(\"Schur Matrix with 4 level mesh using Hypre\")\n",
    "\n",
    "c = np.polyfit(np.log(x),np.log(y),1)\n",
    "#  c = np.polyfit(np.log(x[:-2]),np.log(y[-2]),1)\n",
    "#  Take out points for slope\n",
    "\n",
    "s = \"Best-fit (slope = {:6.2f})\".format(c[0])\n",
    "plt.loglog(x,np.exp(np.polyval(c,np.log(x))),'k--',label=s)\n",
    "\n",
    "ct = np.array([-1,c[1]])\n",
    "plt.loglog(x,np.exp(np.polyval(ct,np.log(x))),'.-',label=\"Theoretical\",color='k',markersize=10)\n",
    "\n",
    "\n",
    "plt.legend()\n",
    "plt.show"
   ]
  },
  {
   "cell_type": "code",
   "execution_count": null,
   "metadata": {},
   "outputs": [],
   "source": [
    "plt.plot(Petsc_Hypre_Schur_Cores,Petsc_Hypre_Schur_DegF,\"ro-\",label=\"Full\")\n",
    "plt.ylabel(\"Degrees of Freedom Per Time Per Core\")\n",
    "plt.xlabel(\"Number of Cores\")\n",
    "plt.title(\"Schur Matrix with 4 level mesh using Hypre\")\n",
    "plt.legend()"
   ]
  },
  {
   "cell_type": "markdown",
   "metadata": {},
   "source": [
    "# Schur Matrix with AMGX (4)\n",
    "\n",
    "This section is the timing results for solving the schur matrix using AMGX. This matrix has 8,519,680 degrees of freedom."
   ]
  },
  {
   "cell_type": "code",
   "execution_count": null,
   "metadata": {},
   "outputs": [],
   "source": [
    "DOF = 8519680\n",
    "Petsc_AMGX_Schur_Cores = np.array([1,2,4,8,16])\n",
    "Petsc_AMGX_Schur_Iterations = np.array([19,20,20,41,43])\n",
    "Petsc_AMGX_Schur_Residual = np.array([5.2936983910698e-11,7.5600542815270e-11,7.4026913091532e-11,7.6694115873228e-11,\n",
    "                                     7.7819407916075e-11])\n",
    "Petsc_AMGX_Schur_Error = np.array([2.3017137248232e-04,2.3017137207938e-04,2.3017137136600e-04,2.3017140291427e-04,\n",
    "                                  2.3017137841256e-04])\n",
    "Petsc_AMGX_Schur_Domain = np.array([2.3337616937,1.2930742003,0.6458368543,0.320829864,0.1596537432])\n",
    "Petsc_AMGX_Schur_Matrix = np.array([4.7120087786,2.4247896112,1.3989577046,0.7023233447,0.3609061177])\n",
    "Petsc_AMGX_Schur_AMGX = np.array([3.3300434468,2.3564731745,3.2339107711,1.1047223745,0.8511620792])\n",
    "Petsc_AMGX_Schur_LSS = np.array([8.0420624677,4.7812800098,4.6328985485,1.807076874,1.2121099722])\n",
    "Petsc_AMGX_Schur_LinS = np.array([1.4526519399,0.8794994916,0.5656855198,0.791941556,0.6672197783])\n",
    "Petsc_AMGX_Schur_PS = np.array([0.2378894442,0.1342686384,0.0674168489,0.0339031809,0.0184403416])\n",
    "Petsc_AMGX_Schur_CS = np.array([1.6905478806,1.013778522,0.6331196053,0.8258673021,0.6856942482])\n",
    "Petsc_AMGX_Schur_DegF = (DOF)/Petsc_AMGX_Schur_CS/Petsc_AMGX_Schur_Cores\n",
    "Petsc_AMGX_Schur_Eff = np.array(np.ones(len(Petsc_AMGX_Schur_Cores))*Petsc_AMGX_Schur_CS[0]/(Petsc_AMGX_Schur_CS*Petsc_AMGX_Schur_Cores))\n",
    "\n",
    "d = {\"Cores\": Petsc_AMGX_Schur_Cores,\"Iterations\": Petsc_AMGX_Schur_Iterations,\"Residual\": Petsc_AMGX_Schur_Residual,\n",
    "    \"Error\": Petsc_AMGX_Schur_Error,\"Domain Initialization\": Petsc_AMGX_Schur_Domain,\"Matrix Formation\": Petsc_AMGX_Schur_Matrix,\n",
    "    \"AMGX Setup\": Petsc_AMGX_Schur_AMGX,\"Linear System Setup\": Petsc_AMGX_Schur_LSS,\"Linear Solve\": Petsc_AMGX_Schur_LinS,\n",
    "    \"Patch Solve\": Petsc_AMGX_Schur_PS,\"Complete Solve\": Petsc_AMGX_Schur_CS,\"Efficiency\": Petsc_AMGX_Schur_Eff,\n",
    "    \"Degrees of Freedom Per Time Per Core\": Petsc_AMGX_Schur_DegF}\n",
    "df4 =  pd.DataFrame(data = d)\n",
    "df4 = df4[[\"Cores\",\"Iterations\",\"Residual\",\"Error\",\"Domain Initialization\",\"Matrix Formation\",\"AMGX Setup\",\n",
    "         \"Linear System Setup\",\"Linear Solve\",\"Patch Solve\",\"Complete Solve\",\"Efficiency\",\"Degrees of Freedom Per Time Per Core\"]]\n",
    "nform = {\"Error\" : \"{:6.2e}\".format, \"Residual\" : \"{:6.2e}\".format}\n",
    "\n",
    "df4.style.set_caption(\"Degrees of freedom {:,}\".format(DOF)).background_gradient(cmap=cm).format(nform)\n",
    "# display(HTML(df1.to_html(index=False)))"
   ]
  },
  {
   "cell_type": "code",
   "execution_count": null,
   "metadata": {},
   "outputs": [],
   "source": [
    "x = Petsc_AMGX_Schur_Cores\n",
    "y = Petsc_AMGX_Schur_CS\n",
    "\n",
    "\n",
    "plt.plot(x,y,\"bo-\",label=\"AMGX (Schur matrix)\")\n",
    "plt.yscale(\"log\")\n",
    "plt.xscale(\"log\")\n",
    "plt.ylabel(\"Complete Solve Time (s)\")\n",
    "plt.xlabel(\"Number of Cores\")\n",
    "plt.title(\"Schur Matrix with 4 level mesh using AMGX\")\n",
    "\n",
    "c = np.polyfit(np.log(x),np.log(y),1)\n",
    "#  c = np.polyfit(np.log(x[:-2]),np.log(y[-2]),1)\n",
    "#  Take out points for slope\n",
    "\n",
    "s = \"Best-fit (slope = {:6.2f})\".format(c[0])\n",
    "plt.loglog(x,np.exp(np.polyval(c,np.log(x))),'k--',label=s)\n",
    "\n",
    "ct = np.array([-1,c[1]])\n",
    "plt.loglog(x,np.exp(np.polyval(ct,np.log(x))),'.-',label=\"Theoretical\",color='k',markersize=10)\n",
    "\n",
    "\n",
    "plt.legend()\n",
    "plt.show"
   ]
  },
  {
   "cell_type": "code",
   "execution_count": null,
   "metadata": {},
   "outputs": [],
   "source": [
    "plt.plot(Petsc_AMGX_Schur_Cores,Petsc_AMGX_Schur_DegF,\"ro-\",label=\"Full\")\n",
    "plt.ylabel(\"Degrees of Freedom Per Time Per Core\")\n",
    "plt.xlabel(\"Number of Cores\")\n",
    "plt.title(\"Schur Matrix with 4 level mesh using AMGX\")\n",
    "plt.legend()"
   ]
  },
  {
   "cell_type": "markdown",
   "metadata": {
    "collapsed": true
   },
   "source": [
    "# Comparison of Full vs Schur solve\n",
    "\n",
    "First comparison is for Hypre, second for AMGX."
   ]
  },
  {
   "cell_type": "code",
   "execution_count": null,
   "metadata": {},
   "outputs": [],
   "source": [
    "xf = Petsc_Hypre_Full_Cores\n",
    "yf = Petsc_Hypre_Full_CS\n",
    "xs = Petsc_Hypre_Schur_Cores\n",
    "ys = Petsc_Hypre_Schur_CS\n",
    "\n",
    "\n",
    "plt.plot(xf,yf,\"ro-\",label=\"Hypre (Full matrix)\")\n",
    "plt.plot(xs,ys,\"bo-\",label=\"Hypre (Schur matrix)\")\n",
    "plt.yscale(\"log\")\n",
    "plt.xscale(\"log\")\n",
    "plt.ylabel(\"Complete Solve Time (s)\")\n",
    "plt.xlabel(\"Number of Cores\")\n",
    "plt.title(\"Schur vs Full Matrix with 4 level mesh using Hypre\")\n",
    "\n",
    "cf = np.polyfit(np.log(xf),np.log(yf),1)\n",
    "cs = np.polyfit(np.log(xs),np.log(ys),1)\n",
    "#  c = np.polyfit(np.log(x[:-2]),np.log(y[-2]),1)\n",
    "#  Take out points for slope\n",
    "\n",
    "sf = \"Best-fit (slope = {:6.2f})\".format(cf[0])\n",
    "ss = \"Best-fit (slope = {:6.2f})\".format(cs[0])\n",
    "plt.loglog(xf,np.exp(np.polyval(cf,np.log(xf))),'k--',label=sf)\n",
    "plt.loglog(xs,np.exp(np.polyval(cs,np.log(xs))),'k--',label=ss)\n",
    "\n",
    "\n",
    "plt.legend()\n",
    "plt.show"
   ]
  },
  {
   "cell_type": "code",
   "execution_count": null,
   "metadata": {},
   "outputs": [],
   "source": [
    "xf = Petsc_AMGX_Full_Cores\n",
    "yf = Petsc_AMGX_Full_CS\n",
    "xs = Petsc_AMGX_Schur_Cores\n",
    "ys = Petsc_AMGX_Schur_CS\n",
    "\n",
    "\n",
    "plt.plot(xf,yf,\"ro-\",label=\"AMGX (Full matrix)\")\n",
    "plt.plot(xs,ys,\"bo-\",label=\"AMGX (Schur matrix)\")\n",
    "plt.yscale(\"log\")\n",
    "plt.xscale(\"log\")\n",
    "plt.ylabel(\"Complete Solve Time (s)\")\n",
    "plt.xlabel(\"Number of Cores\")\n",
    "plt.title(\"Schur vs Full Matrix with 4 level mesh using AMGX\")\n",
    "\n",
    "cf = np.polyfit(np.log(xf),np.log(yf),1)\n",
    "cs = np.polyfit(np.log(xs),np.log(ys),1)\n",
    "#  c = np.polyfit(np.log(x[:-2]),np.log(y[-2]),1)\n",
    "#  Take out points for slope\n",
    "\n",
    "sf = \"Best-fit (slope = {:6.2f})\".format(cf[0])\n",
    "ss = \"Best-fit (slope = {:6.2f})\".format(cs[0])\n",
    "plt.loglog(xf,np.exp(np.polyval(cf,np.log(xf))),'k--',label=sf)\n",
    "plt.loglog(xs,np.exp(np.polyval(cs,np.log(xs))),'k--',label=ss)\n",
    "\n",
    "\n",
    "plt.legend()\n",
    "plt.show"
   ]
  },
  {
   "cell_type": "code",
   "execution_count": null,
   "metadata": {
    "collapsed": true
   },
   "outputs": [],
   "source": []
  }
 ],
 "metadata": {
  "kernelspec": {
   "display_name": "Python 3",
   "language": "python",
   "name": "python3"
  },
  "language_info": {
   "codemirror_mode": {
    "name": "ipython",
    "version": 3
   },
   "file_extension": ".py",
   "mimetype": "text/x-python",
   "name": "python",
   "nbconvert_exporter": "python",
   "pygments_lexer": "ipython3",
   "version": "3.6.3"
  }
 },
 "nbformat": 4,
 "nbformat_minor": 2
}
