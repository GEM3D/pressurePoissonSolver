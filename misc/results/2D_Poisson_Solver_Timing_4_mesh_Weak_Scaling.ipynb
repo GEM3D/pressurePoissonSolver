{
 "cells": [
  {
   "cell_type": "markdown",
   "metadata": {},
   "source": [
    "# Timing results for 2D Pressure Poisson Solver\n",
    "\n",
    "These are the results for the different methods of solving this matrix on a 4 level mesh using the divide 2 option with weak scaling.\n"
   ]
  },
  {
   "cell_type": "code",
   "execution_count": null,
   "metadata": {
    "collapsed": true
   },
   "outputs": [],
   "source": [
    "%matplotlib inline\n",
    "import numpy as np\n",
    "import pandas as pd\n",
    "import matplotlib.pyplot as plt\n",
    "from IPython.display import display, HTML\n",
    "import seaborn as sns\n",
    "cm = sns.light_palette(\"green\", as_cmap=True)"
   ]
  },
  {
   "cell_type": "markdown",
   "metadata": {},
   "source": [
    "# Full Matrix with Hypre (1)\n",
    "\n",
    "This section is the timing results for solving the full matrix using Hypre."
   ]
  },
  {
   "cell_type": "code",
   "execution_count": null,
   "metadata": {},
   "outputs": [],
   "source": [
    "DOF = np.array([2129920,8519680,34078720,136314880])\n",
    "Petsc_Hypre_Full_Cores = np.array([1,4,16,64])\n",
    "Petsc_Hypre_Full_Iterations = np.array([25,26,27,29])\n",
    "Petsc_Hypre_Full_Residual = np.array([7.7959970105686e-11,1.7254957978808e-10,4.0821075917735e-10,4.6819932339336e-09])\n",
    "Petsc_Hypre_Full_Error = np.array([9.2304660443222e-04,2.3017137270920e-04,5.7477243088387e-05,1.4361657352770e-05])\n",
    "Petsc_Hypre_Full_Domain = np.array([0.5789972985,0.652554489,0.7150038095,0.6974266175])\n",
    "Petsc_Hypre_Full_Matrix = np.array([0.7909568325,1.0987927779,1.8007301018,1.2800192976])\n",
    "Petsc_Hypre_Full_Petsc = np.array([2.5382315172,186.1911324351,353.831655845,396.1497232644])\n",
    "Petsc_Hypre_Full_LSS = np.array([3.3291987668,187.2899442471,355.6325204131,397.4298213832])\n",
    "Petsc_Hypre_Full_LinS = np.array([16.0796776063,31.3380424149,96.3124399616,258.3151455698])\n",
    "Petsc_Hypre_Full_CS = np.array([16.0796830949,31.3381154661,96.314592591,258.3182850056])\n",
    "Petsc_Hypre_Full_DegF = DOF/Petsc_Hypre_Full_CS/Petsc_Hypre_Full_Cores\n",
    "Petsc_Hypre_Full_Eff = Petsc_Hypre_Full_CS[0]/(Petsc_Hypre_Full_CS*Petsc_Hypre_Full_Cores)\n",
    "\n",
    "d = {\"Cores\": Petsc_Hypre_Full_Cores,\"Iterations\": Petsc_Hypre_Full_Iterations,\"Residual\": Petsc_Hypre_Full_Residual,\n",
    "    \"Error\": Petsc_Hypre_Full_Error,\"Domain Initialization\": Petsc_Hypre_Full_Domain,\"Matrix Formation\": Petsc_Hypre_Full_Matrix,\n",
    "    \"Hypre Setup\": Petsc_Hypre_Full_Petsc,\"Linear System Setup\": Petsc_Hypre_Full_LSS,\"Linear Solve\": Petsc_Hypre_Full_LinS,\n",
    "    \"Complete Solve\": Petsc_Hypre_Full_CS,\"Efficiency\": Petsc_Hypre_Full_Eff,\"Degrees of Freedom Per Time Per Core\": Petsc_Hypre_Full_DegF}\n",
    "df1 =  pd.DataFrame(data = d)\n",
    "df1 = df1[[\"Cores\",\"Iterations\",\"Residual\",\"Error\",\"Domain Initialization\",\"Matrix Formation\",\"Hypre Setup\",\n",
    "         \"Linear System Setup\",\"Linear Solve\",\"Complete Solve\",\"Efficiency\",\"Degrees of Freedom Per Time Per Core\"]]\n",
    "nform = {\"Error\" : \"{:6.2e}\".format, \"Residual\" : \"{:6.2e}\".format}\n",
    "\n",
    "df1.style.background_gradient(cmap=cm).format(nform)\n",
    "# display(HTML(df1.to_html(index=False)))"
   ]
  },
  {
   "cell_type": "code",
   "execution_count": null,
   "metadata": {},
   "outputs": [],
   "source": [
    "x = Petsc_Hypre_Full_Cores\n",
    "y = Petsc_Hypre_Full_CS\n",
    "\n",
    "\n",
    "plt.plot(x,y,\"bo-\",label=\"Hypre (Full matrix)\")\n",
    "plt.yscale(\"log\")\n",
    "plt.xscale(\"log\")\n",
    "plt.ylabel(\"Complete Solve Time (s)\")\n",
    "plt.xlabel(\"Number of Cores\")\n",
    "plt.title(\"Full Matrix with 4 level mesh using Hypre\")\n",
    "\n",
    "c = np.polyfit(np.log(x),np.log(y),1)\n",
    "#  c = np.polyfit(np.log(x[:-2]),np.log(y[-2]),1)\n",
    "#  Take out points for slope\n",
    "\n",
    "s = \"Best-fit (slope = {:6.2f})\".format(c[0])\n",
    "plt.loglog(x,np.exp(np.polyval(c,np.log(x))),'k--',label=s)\n",
    "\n",
    "ct = np.array([-1,c[1]])\n",
    "plt.loglog(x,np.exp(np.polyval(ct,np.log(x))),'.-',label=\"Theoretical\",color='k',markersize=10)\n",
    "\n",
    "\n",
    "plt.legend()\n",
    "plt.show"
   ]
  },
  {
   "cell_type": "code",
   "execution_count": null,
   "metadata": {},
   "outputs": [],
   "source": [
    "plt.plot(Petsc_Hypre_Full_Cores,Petsc_Hypre_Full_DegF,\"ro-\",label=\"Full\")\n",
    "plt.ylabel(\"Degrees of Freedom Per Time Per Core\")\n",
    "plt.xlabel(\"Number of Cores\")\n",
    "plt.title(\"Full Matrix with 4 level mesh using Hypre\")\n",
    "plt.legend()"
   ]
  },
  {
   "cell_type": "markdown",
   "metadata": {},
   "source": [
    "# Schur Matrix with Hypre (3)\n",
    "\n",
    "This section is the timing results for solving the schur matrix using Hypre."
   ]
  },
  {
   "cell_type": "code",
   "execution_count": null,
   "metadata": {},
   "outputs": [],
   "source": [
    "DOF = np.array([2129920,8519680,34078720,136314880])\n",
    "Petsc_Hypre_Schur_Cores = np.array([1,4,16,64])\n",
    "Petsc_Hypre_Schur_Iterations = np.array([15,16,17,19])\n",
    "Petsc_Hypre_Schur_Residual = np.array([1.4921383876826e-11,8.6109659566193e-11,3.4940500168352e-10,1.1651246442022e-09])\n",
    "Petsc_Hypre_Schur_Error = np.array([9.2304660338315e-04,2.3017137048573e-04,5.7477238995146e-05,1.4361641244506e-05])\n",
    "Petsc_Hypre_Schur_Domain = np.array([0.5755063583,0.6536141821,0.752594453,0.6927693215])\n",
    "Petsc_Hypre_Schur_Matrix = np.array([1.2760987814,1.3812556599,1.8268544815,119.2305377184])\n",
    "Petsc_Hypre_Schur_Petsc = np.array([1.2434285277,1.5398572857,110.5123000024,40.9151354284])\n",
    "Petsc_Hypre_Schur_LSS = np.array([2.5195379068,2.9211309134,112.3391834719,160.1457555283])\n",
    "Petsc_Hypre_Schur_LinS = np.array([6.3008086839,9.4238812334,19.9695272749,29.1025865573])\n",
    "Petsc_Hypre_Schur_PatS = np.array([0.065745106,0.1074025977,0.1413716399,0.1518947554])\n",
    "Petsc_Hypre_Schur_CS = np.array([6.3665620311,9.5313692874,20.1115551718,29.2564457953])\n",
    "Petsc_Hypre_Schur_DegF = DOF/Petsc_Hypre_Schur_CS/Petsc_Hypre_Schur_Cores\n",
    "Petsc_Hypre_Schur_Eff = Petsc_Hypre_Schur_CS[0]/(Petsc_Hypre_Schur_CS*Petsc_Hypre_Schur_Cores)\n",
    "\n",
    "d = {\"Cores\": Petsc_Hypre_Schur_Cores,\"Iterations\": Petsc_Hypre_Schur_Iterations,\"Residual\": Petsc_Hypre_Schur_Residual,\n",
    "    \"Error\": Petsc_Hypre_Schur_Error,\"Domain Initialization\": Petsc_Hypre_Schur_Domain,\"Matrix Formation\": Petsc_Hypre_Schur_Matrix,\n",
    "    \"Hypre Setup\": Petsc_Hypre_Schur_Petsc,\"Linear System Setup\": Petsc_Hypre_Schur_LSS,\"Linear Solve\": Petsc_Hypre_Schur_LinS,\n",
    "    \"Patch Solve\": Petsc_Hypre_Schur_PatS,\"Complete Solve\": Petsc_Hypre_Schur_CS,\"Efficiency\": Petsc_Hypre_Schur_Eff,\n",
    "     \"Degrees of Freedom Per Time Per Core\": Petsc_Hypre_Schur_DegF}\n",
    "df3 =  pd.DataFrame(data = d)\n",
    "df3 = df3[[\"Cores\",\"Iterations\",\"Residual\",\"Error\",\"Domain Initialization\",\"Matrix Formation\",\"Hypre Setup\",\n",
    "         \"Linear System Setup\",\"Linear Solve\",\"Patch Solve\",\"Complete Solve\",\"Efficiency\",\"Degrees of Freedom Per Time Per Core\"]]\n",
    "nform = {\"Error\" : \"{:6.2e}\".format, \"Residual\" : \"{:6.2e}\".format}\n",
    "\n",
    "df3.style.background_gradient(cmap=cm).format(nform)\n",
    "# display(HTML(df1.to_html(index=False)))"
   ]
  },
  {
   "cell_type": "code",
   "execution_count": null,
   "metadata": {},
   "outputs": [],
   "source": [
    "x = Petsc_Hypre_Schur_Cores\n",
    "y = Petsc_Hypre_Schur_CS\n",
    "\n",
    "\n",
    "plt.plot(x,y,\"bo-\",label=\"Hypre (Schur matrix)\")\n",
    "plt.yscale(\"log\")\n",
    "plt.xscale(\"log\")\n",
    "plt.ylabel(\"Complete Solve Time (s)\")\n",
    "plt.xlabel(\"Number of Cores\")\n",
    "plt.title(\"Schur Matrix with 4 level mesh using Hypre\")\n",
    "\n",
    "c = np.polyfit(np.log(x),np.log(y),1)\n",
    "#  c = np.polyfit(np.log(x[:-2]),np.log(y[-2]),1)\n",
    "#  Take out points for slope\n",
    "\n",
    "s = \"Best-fit (slope = {:6.2f})\".format(c[0])\n",
    "plt.loglog(x,np.exp(np.polyval(c,np.log(x))),'k--',label=s)\n",
    "\n",
    "ct = np.array([-1,c[1]])\n",
    "plt.loglog(x,np.exp(np.polyval(ct,np.log(x))),'.-',label=\"Theoretical\",color='k',markersize=10)\n",
    "\n",
    "\n",
    "plt.legend()\n",
    "plt.show"
   ]
  },
  {
   "cell_type": "code",
   "execution_count": null,
   "metadata": {},
   "outputs": [],
   "source": [
    "plt.plot(Petsc_Hypre_Schur_Cores,Petsc_Hypre_Schur_DegF,\"ro-\",label=\"Full\")\n",
    "plt.ylabel(\"Degrees of Freedom Per Time Per Core\")\n",
    "plt.xlabel(\"Number of Cores\")\n",
    "plt.title(\"Schur Matrix with 4 level mesh using Hypre\")\n",
    "plt.legend()"
   ]
  },
  {
   "cell_type": "code",
   "execution_count": null,
   "metadata": {
    "collapsed": true
   },
   "outputs": [],
   "source": []
  }
 ],
 "metadata": {
  "kernelspec": {
   "display_name": "Python 3",
   "language": "python",
   "name": "python3"
  },
  "language_info": {
   "codemirror_mode": {
    "name": "ipython",
    "version": 3
   },
   "file_extension": ".py",
   "mimetype": "text/x-python",
   "name": "python",
   "nbconvert_exporter": "python",
   "pygments_lexer": "ipython3",
   "version": "3.6.3"
  }
 },
 "nbformat": 4,
 "nbformat_minor": 2
}
